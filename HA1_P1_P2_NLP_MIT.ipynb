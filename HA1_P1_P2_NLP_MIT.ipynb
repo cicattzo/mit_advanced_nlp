{
  "nbformat": 4,
  "nbformat_minor": 0,
  "metadata": {
    "colab": {
      "name": "HA1_P1_P2_NLP_MIT.ipynb",
      "provenance": [],
      "collapsed_sections": [],
      "toc_visible": true,
      "machine_shape": "hm",
      "include_colab_link": true
    },
    "kernelspec": {
      "name": "python3",
      "display_name": "Python 3"
    },
    "accelerator": "GPU"
  },
  "cells": [
    {
      "cell_type": "markdown",
      "metadata": {
        "id": "view-in-github",
        "colab_type": "text"
      },
      "source": [
        "<a href=\"https://colab.research.google.com/github/cicattzo/mit_advanced_nlp/blob/main/HA1_P1_P2_NLP_MIT.ipynb\" target=\"_parent\"><img src=\"https://colab.research.google.com/assets/colab-badge.svg\" alt=\"Open In Colab\"/></a>"
      ]
    },
    {
      "cell_type": "code",
      "metadata": {
        "id": "FU7xWiY6TyWS",
        "colab": {
          "base_uri": "https://localhost:8080/"
        },
        "outputId": "76680654-d294-41e0-cb66-117ea3cfd594"
      },
      "source": [
        "%%bash\n",
        "!(stat -t /usr/local/lib/*/dist-packages/google/colab > /dev/null 2>&1) && exit \n",
        "rm -rf hw1\n",
        "git clone https://github.com/mit-6864/hw1.git"
      ],
      "execution_count": 1,
      "outputs": [
        {
          "output_type": "stream",
          "text": [
            "Cloning into 'hw1'...\n"
          ],
          "name": "stderr"
        }
      ]
    },
    {
      "cell_type": "code",
      "metadata": {
        "id": "A0MHaHrdUACZ"
      },
      "source": [
        "import sys\n",
        "sys.path.append(\"/content/hw1\")\n",
        "\n",
        "import csv\n",
        "import itertools as it\n",
        "import numpy as np\n",
        "import sklearn.decomposition\n",
        "np.random.seed(0)\n",
        "from tqdm import tqdm\n",
        "\n",
        "import lab_util"
      ],
      "execution_count": 2,
      "outputs": []
    },
    {
      "cell_type": "markdown",
      "metadata": {
        "id": "cZ3MUj4iUf76"
      },
      "source": [
        "# Introduction\n",
        "\n",
        "In this notebook, you will find code scaffolding for the word representation parts of Homework 1 (matrix factorization and Word2Vec-style language modeling; code for the HMM section of the assignment is released in another notebook). There are certain parts of the scaffolding marked with `# Your code here!` comments where you can fill in code to perform the specified tasks. After implementing the methods in this notebook, you will need to design and perform experiments to evaluate each method and respond to the questions in the Homework 1 handout (available on Canvas). You should be able to complete this assignment without changing any of the scaffolding code, just writing code to fill in the scaffolding and run experiments."
      ]
    },
    {
      "cell_type": "markdown",
      "metadata": {
        "id": "gG654Y9J3yHw"
      },
      "source": [
        "## Dataset\n",
        "\n",
        "We're going to be working with a dataset of product reviews. The following cell loads the dataset and splits it into training, validation, and test sets."
      ]
    },
    {
      "cell_type": "code",
      "metadata": {
        "id": "JwiX-Tc9V1xI",
        "colab": {
          "base_uri": "https://localhost:8080/"
        },
        "outputId": "6fb6722c-e5d5-4b57-a081-e260ac0d5f7d"
      },
      "source": [
        "data = []\n",
        "n_positive = 0\n",
        "n_disp = 0\n",
        "with open(\"/content/hw1/reviews.csv\") as reader:\n",
        "  csvreader = csv.reader(reader)\n",
        "  next(csvreader)\n",
        "  for id, review, label in csvreader:\n",
        "    label = int(label)\n",
        "\n",
        "    # hacky class balancing\n",
        "    if label == 1:\n",
        "      if n_positive == 2000:\n",
        "        continue\n",
        "      n_positive += 1\n",
        "    if len(data) == 4000:\n",
        "      break\n",
        "\n",
        "    data.append((review, label))\n",
        "    \n",
        "    if n_disp > 5:\n",
        "      continue\n",
        "    n_disp += 1\n",
        "    print(\"review:\", review)\n",
        "    print(\"rating:\", label, \"(good)\" if label == 1 else \"(bad)\")\n",
        "    print()\n",
        "\n",
        "print(f\"Read {len(data)} total reviews.\")\n",
        "np.random.shuffle(data)\n",
        "reviews, labels = zip(*data)\n",
        "train_reviews = reviews[:3000]\n",
        "train_labels = labels[:3000]\n",
        "val_reviews = reviews[3000:3500]\n",
        "val_labels = labels[3000:3500]\n",
        "test_reviews = reviews[3500:]\n",
        "test_labels = labels[3500:]"
      ],
      "execution_count": 3,
      "outputs": [
        {
          "output_type": "stream",
          "text": [
            "review: I have bought several of the Vitality canned dog food products and have found them all to be of good quality. The product looks more like a stew than a processed meat and it smells better. My Labrador is finicky and she appreciates this product better than  most.\n",
            "rating: 1 (good)\n",
            "\n",
            "review: Product arrived labeled as Jumbo Salted Peanuts...the peanuts were actually small sized unsalted. Not sure if this was an error or if the vendor intended to represent the product as \"Jumbo\".\n",
            "rating: 0 (bad)\n",
            "\n",
            "review: This is a confection that has been around a few centuries.  It is a light, pillowy citrus gelatin with nuts - in this case Filberts. And it is cut into tiny squares and then liberally coated with powdered sugar.  And it is a tiny mouthful of heaven.  Not too chewy, and very flavorful.  I highly recommend this yummy treat.  If you are familiar with the story of C.S. Lewis' \"The Lion, The Witch, and The Wardrobe\" - this is the treat that seduces Edmund into selling out his Brother and Sisters to the Witch.\n",
            "rating: 1 (good)\n",
            "\n",
            "review: If you are looking for the secret ingredient in Robitussin I believe I have found it.  I got this in addition to the Root Beer Extract I ordered (which was good) and made some cherry soda.  The flavor is very medicinal.\n",
            "rating: 0 (bad)\n",
            "\n",
            "review: Great taffy at a great price.  There was a wide assortment of yummy taffy.  Delivery was very quick.  If your a taffy lover, this is a deal.\n",
            "rating: 1 (good)\n",
            "\n",
            "review: I got a wild hair for taffy and ordered this five pound bag. The taffy was all very enjoyable with many flavors: watermelon, root beer, melon, peppermint, grape, etc. My only complaint is there was a bit too much red/black licorice-flavored pieces (just not my particular favorites). Between me, my kids, and my husband, this lasted only two weeks! I would recommend this brand of taffy -- it was a delightful treat.\n",
            "rating: 1 (good)\n",
            "\n",
            "Read 4000 total reviews.\n"
          ],
          "name": "stdout"
        }
      ]
    },
    {
      "cell_type": "markdown",
      "metadata": {
        "id": "twLHWqM6Z5xD"
      },
      "source": [
        "# Part 1: word representations via matrix factorization\n",
        "\n",
        "First, we'll construct the term-document matrix (look at `/content/hw1/lab_util.py` in the file browser on the left if you want to see how this works)."
      ]
    },
    {
      "cell_type": "code",
      "metadata": {
        "id": "3WPt6Y7-Z_7P",
        "colab": {
          "base_uri": "https://localhost:8080/"
        },
        "outputId": "04808abf-e25d-4118-e90b-59d9369f592f"
      },
      "source": [
        "vectorizer = lab_util.CountVectorizer()\n",
        "vectorizer.fit(train_reviews)\n",
        "td_matrix = vectorizer.transform(train_reviews).T\n",
        "print(f\"TD matrix is {td_matrix.shape[0]} x {td_matrix.shape[1]}\")"
      ],
      "execution_count": 4,
      "outputs": [
        {
          "output_type": "stream",
          "text": [
            "TD matrix is 2006 x 3000\n"
          ],
          "name": "stdout"
        }
      ]
    },
    {
      "cell_type": "code",
      "metadata": {
        "id": "MorUH8qLBXaG",
        "colab": {
          "base_uri": "https://localhost:8080/"
        },
        "outputId": "035da16f-2d21-4011-cf9c-fd3ed1802c79"
      },
      "source": [
        "td_matrix"
      ],
      "execution_count": 5,
      "outputs": [
        {
          "output_type": "execute_result",
          "data": {
            "text/plain": [
              "array([[3., 3., 5., ..., 1., 6., 4.],\n",
              "       [1., 0., 0., ..., 0., 0., 0.],\n",
              "       [2., 0., 0., ..., 0., 0., 0.],\n",
              "       ...,\n",
              "       [0., 0., 0., ..., 0., 0., 0.],\n",
              "       [0., 0., 0., ..., 0., 0., 0.],\n",
              "       [0., 0., 0., ..., 0., 0., 0.]])"
            ]
          },
          "metadata": {
            "tags": []
          },
          "execution_count": 5
        }
      ]
    },
    {
      "cell_type": "markdown",
      "metadata": {
        "id": "hd3-pw4XbD4B"
      },
      "source": [
        "First, implement the function `learn_reps_lsa` that computes word representations via latent semantic analysis. The `sklearn.decomposition` or `np.linalg` packages may be useful."
      ]
    },
    {
      "cell_type": "code",
      "metadata": {
        "id": "KASVs8KubeBE"
      },
      "source": [
        "import sklearn.decomposition\n",
        "def learn_reps_lsa(matrix, rep_size):\n",
        "    # `matrix` is a `|V| x n` matrix, where `|V|` is the number of words in the\n",
        "    # vocabulary. This function should return a `|V| x rep_size` matrix with each\n",
        "    # row corresponding to a word representation.\n",
        "\n",
        "    svd = sklearn.decomposition.TruncatedSVD(n_components=rep_size, random_state=42)\n",
        "\n",
        "    matrix_lsa = svd.fit_transform(matrix)\n",
        "\n",
        "    return matrix_lsa\n",
        "\n",
        "    raise NotImplementedError"
      ],
      "execution_count": 7,
      "outputs": []
    },
    {
      "cell_type": "markdown",
      "metadata": {
        "id": "0fxv02wO9LbS"
      },
      "source": [
        "#### Sanity check 1\n",
        "The following cell contains a simple sanity check for your `learn_reps_lsa` implementation: it should print `True` if your `learn_reps_lsa` function is implemented equivalently to one of our solutions.  There are at least two reasonable ways to formulate these LSA word representations (whether you directly use the left singular vectors of `matrix` or scale them by the singular values), these correspond to the two possible representations in the sanity check below."
      ]
    },
    {
      "cell_type": "code",
      "metadata": {
        "id": "KsRlKB9q9Js-",
        "colab": {
          "base_uri": "https://localhost:8080/"
        },
        "outputId": "67fe46c4-7399-4842-e0ea-cc32363c8a2d"
      },
      "source": [
        "DEBUG_sc1_matrix = np.array([[1,0,0,2,1,3,5],\n",
        "                             [2,0,0,0,0,4,0],\n",
        "                             [0,3,4,1,8,6,6],\n",
        "                             [1,4,5,0,0,0,0]])\n",
        "\n",
        "DEBUG_reps = learn_reps_lsa(DEBUG_sc1_matrix, 3)\n",
        "DEBUG_gt1 = np.array([[ -4.92017554,  -2.85465774,   1.18575453],\n",
        "                      [ -2.14977584,  -1.19987977,   3.37221899],\n",
        "                      [-12.62664695,   0.10890093,  -1.32131745],\n",
        "                      [ -2.69216011,   5.66453534,   1.33728063]])\n",
        "DEBUG_gt2 = np.array([[-0.35188159, -0.44213061,  0.29358929],\n",
        "                      [-0.15374788, -0.18583789,  0.83495136],\n",
        "                      [-0.90303377,  0.01686662, -0.32715426],\n",
        "                      [-0.19253817,  0.87732566,  0.3311067 ]])\n",
        "\n",
        "print(np.allclose(np.abs(DEBUG_reps), np.abs(DEBUG_gt1)) or np.allclose(np.abs(DEBUG_reps), np.abs(DEBUG_gt2)))"
      ],
      "execution_count": 8,
      "outputs": [
        {
          "output_type": "stream",
          "text": [
            "True\n"
          ],
          "name": "stdout"
        }
      ]
    },
    {
      "cell_type": "markdown",
      "metadata": {
        "id": "SKWzRC0dclVK"
      },
      "source": [
        "Let's look at some representations:"
      ]
    },
    {
      "cell_type": "code",
      "metadata": {
        "id": "-Ad7RZkwceWw",
        "colab": {
          "base_uri": "https://localhost:8080/"
        },
        "outputId": "edf6d94c-1c95-43fe-886b-27c64dc3fa14"
      },
      "source": [
        "reps = learn_reps_lsa(td_matrix, 500)\n",
        "words = [\"good\", \"bad\", \"cookie\", \"jelly\", \"dog\", \"the\", \"4\"]\n",
        "show_tokens = [vectorizer.tokenizer.word_to_token[word] for word in words]\n",
        "lab_util.show_similar_words(vectorizer.tokenizer, reps, show_tokens)"
      ],
      "execution_count": 9,
      "outputs": [
        {
          "output_type": "stream",
          "text": [
            "good 47\n",
            "  . 1.056\n",
            "  a 1.101\n",
            "  but 1.121\n",
            "  , 1.152\n",
            "  the 1.157\n",
            "bad 201\n",
            "  . 1.396\n",
            "  taste 1.416\n",
            "  but 1.434\n",
            "  a 1.435\n",
            "  i 1.449\n",
            "cookie 504\n",
            "  nana's 0.795\n",
            "  cookies 1.012\n",
            "  oreos 1.272\n",
            "  bars 1.384\n",
            "  bites 1.404\n",
            "jelly 351\n",
            "  twist 1.076\n",
            "  cardboard 1.231\n",
            "  peanuts 1.393\n",
            "  advertised 1.399\n",
            "  plastic 1.469\n",
            "dog 925\n",
            "  food 1.049\n",
            "  pet 1.067\n",
            "  pets 1.070\n",
            "  switched 1.203\n",
            "  foods 1.227\n",
            "the 36\n",
            "  . 0.331\n",
            "  <unk> 0.366\n",
            "  of 0.395\n",
            "  and 0.403\n",
            "  to 0.422\n",
            "4 292\n",
            "  1 1.047\n",
            "  6 1.121\n",
            "  70 1.132\n",
            "  stevia 1.195\n",
            "  concentrated 1.245\n"
          ],
          "name": "stdout"
        }
      ]
    },
    {
      "cell_type": "markdown",
      "metadata": {
        "id": "LsOAGLB3iRjT"
      },
      "source": [
        "We've been operating on the raw count matrix, but in class we discussed several reweighting schemes aimed at making LSA representations more informative. \n",
        "\n",
        "Here, implement the TF-IDF transform and see how it affects learned representations."
      ]
    },
    {
      "cell_type": "code",
      "metadata": {
        "id": "1y3PmW-IgpqA"
      },
      "source": [
        "# from sklearn.feature_extraction.text import TfidfVectorizer\n",
        "\n",
        "def transform_tfidf(matrix):\n",
        "    # `matrix` is a `|V| x |D|` matrix of raw counts, where `|V|` is the \n",
        "    # vocabulary size and `|D|` is the number of documents in the corpus. This\n",
        "    # function should (nondestructively) return a version of `matrix` with the\n",
        "    # TF-IDF transform appliied.\n",
        "\n",
        "    # words_in_document = np.sum(matrix, axis = 0)\n",
        "\n",
        "    TF = matrix\n",
        "\n",
        "    # TF = np.log(1+matrix)\n",
        "\n",
        "    nonzero_matrix = matrix!=0\n",
        "    nonzero_matrix = nonzero_matrix*1\n",
        "\n",
        "    frequencies = np.sum(nonzero_matrix, axis = 1)\n",
        "\n",
        "    IDF = np.log(matrix.shape[1]/frequencies)\n",
        "\n",
        "    TFIDF = TF.transpose(1,0)*IDF\n",
        "\n",
        "    TFIDF = TFIDF.transpose(1,0)\n",
        "\n",
        "    return TFIDF\n",
        "\n",
        "    # Your code here!\n",
        "    raise NotImplementedError"
      ],
      "execution_count": 10,
      "outputs": []
    },
    {
      "cell_type": "markdown",
      "metadata": {
        "id": "CnfIOUYjEZjw"
      },
      "source": [
        "#### Sanity check 2\n",
        "The following cell should print `True` if your `transform_tfidf` function is implemented properly. (*Hint: in our implementation, we use the natural logarithm (base $e$) when computing inverse document frequency.*)"
      ]
    },
    {
      "cell_type": "code",
      "metadata": {
        "id": "KVtphNeDEj2W",
        "colab": {
          "base_uri": "https://localhost:8080/"
        },
        "outputId": "0a082033-2d30-4511-de3a-bba43ce8e20f"
      },
      "source": [
        "DEBUG_sc2_matrix = np.array([[3,1,0,3,0],\n",
        "                             [0,2,0,0,1],\n",
        "                             [7,8,2,0,1],\n",
        "                             [1,9,8,1,0]])\n",
        "DEBUG_gt = np.array([[1.53247687, 0.51082562, 0.        , 1.53247687, 0.        ],\n",
        "                     [0.        , 1.83258146, 0.        , 0.        , 0.91629073],\n",
        "                     [1.56200486, 1.78514841, 0.4462871 , 0.        , 0.22314355],\n",
        "                     [0.22314355, 2.00829196, 1.78514841, 0.22314355, 0.        ]])\n",
        "print(np.allclose(transform_tfidf(DEBUG_sc2_matrix), DEBUG_gt))"
      ],
      "execution_count": 11,
      "outputs": [
        {
          "output_type": "stream",
          "text": [
            "True\n"
          ],
          "name": "stdout"
        }
      ]
    },
    {
      "cell_type": "markdown",
      "metadata": {
        "id": "xOprgqzHi7bk"
      },
      "source": [
        "How does this change the learned similarity function?\n"
      ]
    },
    {
      "cell_type": "code",
      "metadata": {
        "id": "SV5xKLYTi7LA",
        "colab": {
          "base_uri": "https://localhost:8080/"
        },
        "outputId": "8a93877c-fd5d-46ad-c433-87c61fcf05f0"
      },
      "source": [
        "td_matrix_tfidf = transform_tfidf(td_matrix)\n",
        "# reps_tfidf = learn_reps_lsa(td_matrix_tfidf, 500)\n",
        "reps_tfidf = learn_reps_lsa(td_matrix_tfidf, 100)\n",
        "lab_util.show_similar_words(vectorizer.tokenizer, reps_tfidf, show_tokens)"
      ],
      "execution_count": 12,
      "outputs": [
        {
          "output_type": "stream",
          "text": [
            "good 47\n",
            "  but 0.449\n",
            "  . 0.513\n",
            "  for 0.595\n",
            "  as 0.596\n",
            "  not 0.611\n",
            "bad 201\n",
            "  like 0.609\n",
            "  taste 0.630\n",
            "  but 0.695\n",
            "  me 0.777\n",
            "  . 0.779\n",
            "cookie 504\n",
            "  cookies 0.388\n",
            "  nana's 0.467\n",
            "  oreos 0.745\n",
            "  bars 0.916\n",
            "  hope 0.949\n",
            "jelly 351\n",
            "  creamer 0.864\n",
            "  gifts 0.960\n",
            "  twist 1.003\n",
            "  advertised 1.084\n",
            "  cardboard 1.128\n",
            "dog 925\n",
            "  pet 0.744\n",
            "  foods 0.779\n",
            "  switched 0.796\n",
            "  pets 0.825\n",
            "  food 0.859\n",
            "the 36\n",
            "  . 0.121\n",
            "  of 0.154\n",
            "  to 0.164\n",
            "  and 0.164\n",
            "  <unk> 0.212\n",
            "4 292\n",
            "  6 0.469\n",
            "  1 0.507\n",
            "  70 0.685\n",
            "  2 0.731\n",
            "  concentrated 0.818\n"
          ],
          "name": "stdout"
        }
      ]
    },
    {
      "cell_type": "markdown",
      "metadata": {
        "id": "HO-NG4u1kG9z"
      },
      "source": [
        "Now that we have some representations, let's see if we can do something useful with them.\n",
        "\n",
        "Below, implement a feature function that represents a document as the sum of its\n",
        "learned word embeddings.\n",
        "\n",
        "The remaining code trains a logistic regression model on a set of *labeled* reviews; we're interested in seeing how much representations learned from *unlabeled* reviews improve classification."
      ]
    },
    {
      "cell_type": "code",
      "metadata": {
        "id": "6B08xvIFlee3",
        "colab": {
          "base_uri": "https://localhost:8080/"
        },
        "outputId": "ab72726a-580b-4c49-ca7f-a27fd3a8d94f"
      },
      "source": [
        "import sklearn.linear_model\n",
        "\n",
        "def word_featurizer(xs):\n",
        "    # normalize\n",
        "    return xs / np.sqrt((xs ** 2).sum(axis=1, keepdims=True))\n",
        "\n",
        "def lsa_featurizer(xs):\n",
        "    # This function takes in a matrix in which each row contains the word counts\n",
        "    # for the given review. It should return a matrix in which each row contains\n",
        "    # the learned feature representation of each review (e.g. the sum of LSA \n",
        "    # word representations).\n",
        "\n",
        "    feats = xs @ reps_tfidf\n",
        "\n",
        "    # normalize\n",
        "    return feats / np.sqrt((feats ** 2).sum(axis=1, keepdims=True))\n",
        "\n",
        "# We've implemented the remainder of the training and evaluation pipeline,\n",
        "# so you likely won't need to modify the following four functions.\n",
        "def combo_featurizer(xs):\n",
        "    return np.concatenate((word_featurizer(xs), lsa_featurizer(xs)), axis=1)\n",
        "\n",
        "def train_model(featurizer, xs, ys):\n",
        "    xs_featurized = featurizer(xs)\n",
        "    model = sklearn.linear_model.LogisticRegression()\n",
        "    model.fit(xs_featurized, ys)\n",
        "    return model\n",
        "\n",
        "def eval_model(model, featurizer, xs, ys):\n",
        "    xs_featurized = featurizer(xs)\n",
        "    pred_ys = model.predict(xs_featurized)\n",
        "    return np.mean(pred_ys == ys)\n",
        "\n",
        "def training_experiment(name, featurizer, n_train):\n",
        "    print(f\"{name} features, {n_train} examples\")\n",
        "    train_xs = vectorizer.transform(train_reviews[:n_train])\n",
        "    train_ys = train_labels[:n_train]\n",
        "    test_xs = vectorizer.transform(test_reviews)\n",
        "    test_ys = test_labels\n",
        "    model = train_model(featurizer, train_xs, train_ys)\n",
        "    acc = eval_model(model, featurizer, test_xs, test_ys)\n",
        "    print(acc, '\\n')\n",
        "    return acc\n",
        "\n",
        "# The following four lines will run a training experiment with all 3k examples\n",
        "# in training set for each feature type. `training_experiment` may be useful to\n",
        "# you when performing experiments to answer questions in Part 1 of the Homework\n",
        "# 1 handout.\n",
        "n_train = 3000\n",
        "training_experiment(\"word\", word_featurizer, n_train)\n",
        "training_experiment(\"lsa\", lsa_featurizer, n_train)\n",
        "training_experiment(\"combo\", combo_featurizer, n_train)\n",
        "print()"
      ],
      "execution_count": 13,
      "outputs": [
        {
          "output_type": "stream",
          "text": [
            "word features, 3000 examples\n",
            "0.784 \n",
            "\n",
            "lsa features, 3000 examples\n",
            "0.754 \n",
            "\n",
            "combo features, 3000 examples\n",
            "0.792 \n",
            "\n",
            "\n"
          ],
          "name": "stdout"
        }
      ]
    },
    {
      "cell_type": "markdown",
      "metadata": {
        "id": "rpXziVNrlfp2"
      },
      "source": [
        "**Part 1: Lab writeup**\n",
        "\n",
        "Part 1 of your lab report should discuss any implementation details that were important to filling out the code above, as well as your answers to the questions in Part 1 of the Homework 1 handout. Below, you can set up and perform experiments that answer these questions (include figures, plots, and tables in your write-up as you see fit)."
      ]
    },
    {
      "cell_type": "markdown",
      "metadata": {
        "id": "L3WrzsHhC1I5"
      },
      "source": [
        "## Experiments for Part 1"
      ]
    },
    {
      "cell_type": "code",
      "metadata": {
        "id": "aTVF9JdRNOsx",
        "colab": {
          "base_uri": "https://localhost:8080/"
        },
        "outputId": "5e61655b-6d4f-46e2-9d99-3fe2118a5e53"
      },
      "source": [
        "# (a)\n",
        "\n",
        "W_td = DEBUG_sc2_matrix\n",
        "W_tt = np.matmul(W_td, W_td.transpose())\n",
        "\n",
        "u, s, vh = np.linalg.svd(W_td, full_matrices=True)\n",
        "u"
      ],
      "execution_count": 14,
      "outputs": [
        {
          "output_type": "execute_result",
          "data": {
            "text/plain": [
              "array([[-0.139126  , -0.40244616,  0.88442143, -0.19099681],\n",
              "       [-0.10685017, -0.00643125, -0.22869359, -0.96759543],\n",
              "       [-0.64840265, -0.64955514, -0.36266492,  0.16163628],\n",
              "       [-0.74081105,  0.64503786,  0.18431532,  0.03395598]])"
            ]
          },
          "metadata": {
            "tags": []
          },
          "execution_count": 14
        }
      ]
    },
    {
      "cell_type": "code",
      "metadata": {
        "colab": {
          "base_uri": "https://localhost:8080/"
        },
        "id": "KQHuyZWYX5y7",
        "outputId": "756cc309-78a1-4722-f8a7-056f0c9b8d32"
      },
      "source": [
        "u, s, vh = np.linalg.svd(W_tt, full_matrices=True)\n",
        "u"
      ],
      "execution_count": 15,
      "outputs": [
        {
          "output_type": "execute_result",
          "data": {
            "text/plain": [
              "array([[-0.139126  ,  0.40244616,  0.88442143, -0.19099681],\n",
              "       [-0.10685017,  0.00643125, -0.22869359, -0.96759543],\n",
              "       [-0.64840265,  0.64955514, -0.36266492,  0.16163628],\n",
              "       [-0.74081105, -0.64503786,  0.18431532,  0.03395598]])"
            ]
          },
          "metadata": {
            "tags": []
          },
          "execution_count": 15
        }
      ]
    },
    {
      "cell_type": "code",
      "metadata": {
        "colab": {
          "base_uri": "https://localhost:8080/"
        },
        "id": "L4r1rna2YJRU",
        "outputId": "2c41a343-424d-4bb3-d6cf-3aeb249e33f4"
      },
      "source": [
        "# (b)\n",
        "\n",
        "reps = learn_reps_lsa(td_matrix, 10)\n",
        "words = [\"the\", \"dog\", \"3\", \"good\"]\n",
        "show_tokens = [vectorizer.tokenizer.word_to_token[word] for word in words]\n",
        "lab_util.show_similar_words(vectorizer.tokenizer, reps, show_tokens)"
      ],
      "execution_count": 16,
      "outputs": [
        {
          "output_type": "stream",
          "text": [
            "the 36\n",
            "  same 0.052\n",
            "  date 0.070\n",
            "  cans 0.095\n",
            "  idea 0.100\n",
            "  small 0.100\n",
            "dog 925\n",
            "  dogs 0.086\n",
            "  vet 0.087\n",
            "  food 0.100\n",
            "  companies 0.105\n",
            "  cat 0.115\n",
            "3 289\n",
            "  itself 0.063\n",
            "  kind 0.076\n",
            "  particular 0.094\n",
            "  stars 0.096\n",
            "  per 0.097\n",
            "good 47\n",
            "  better 0.045\n",
            "  like 0.059\n",
            "  too 0.066\n",
            "  strong 0.070\n",
            "  otherwise 0.076\n"
          ],
          "name": "stdout"
        }
      ]
    },
    {
      "cell_type": "code",
      "metadata": {
        "colab": {
          "base_uri": "https://localhost:8080/"
        },
        "id": "h8yS4T3qYJTv",
        "outputId": "40d57188-71e4-4fef-cc21-ad117c6f93fe"
      },
      "source": [
        "reps = learn_reps_lsa(td_matrix, 100)\n",
        "words = [\"the\", \"dog\", \"3\", \"good\"]\n",
        "show_tokens = [vectorizer.tokenizer.word_to_token[word] for word in words]\n",
        "lab_util.show_similar_words(vectorizer.tokenizer, reps, show_tokens)"
      ],
      "execution_count": 17,
      "outputs": [
        {
          "output_type": "stream",
          "text": [
            "the 36\n",
            "  . 0.331\n",
            "  <unk> 0.366\n",
            "  of 0.395\n",
            "  and 0.402\n",
            "  to 0.422\n",
            "dog 925\n",
            "  pet 0.539\n",
            "  pets 0.561\n",
            "  foods 0.588\n",
            "  dogs 0.653\n",
            "  nutritious 0.667\n",
            "3 289\n",
            "  1 0.636\n",
            "  per 0.649\n",
            "  2 0.682\n",
            "  8 0.688\n",
            "  4 0.793\n",
            "good 47\n",
            "  pretty 0.837\n",
            "  everyone 0.983\n",
            "  . 1.049\n",
            "  beat 1.066\n",
            "  tasting 1.077\n"
          ],
          "name": "stdout"
        }
      ]
    },
    {
      "cell_type": "code",
      "metadata": {
        "colab": {
          "base_uri": "https://localhost:8080/"
        },
        "id": "8YqMc1W0YJV3",
        "outputId": "b3d65725-b7fb-4acb-d457-5540e630db43"
      },
      "source": [
        "reps = learn_reps_lsa(td_matrix, 500)\n",
        "words = [\"the\", \"dog\", \"3\", \"good\"]\n",
        "show_tokens = [vectorizer.tokenizer.word_to_token[word] for word in words]\n",
        "lab_util.show_similar_words(vectorizer.tokenizer, reps, show_tokens)"
      ],
      "execution_count": 18,
      "outputs": [
        {
          "output_type": "stream",
          "text": [
            "the 36\n",
            "  . 0.331\n",
            "  <unk> 0.366\n",
            "  of 0.395\n",
            "  and 0.403\n",
            "  to 0.422\n",
            "dog 925\n",
            "  food 1.049\n",
            "  pet 1.067\n",
            "  pets 1.070\n",
            "  switched 1.203\n",
            "  foods 1.227\n",
            "3 289\n",
            "  8 1.214\n",
            "  . 1.239\n",
            "  the 1.271\n",
            "  to 1.272\n",
            "  <unk> 1.279\n",
            "good 47\n",
            "  . 1.056\n",
            "  a 1.101\n",
            "  but 1.121\n",
            "  , 1.152\n",
            "  the 1.157\n"
          ],
          "name": "stdout"
        }
      ]
    },
    {
      "cell_type": "code",
      "metadata": {
        "colab": {
          "base_uri": "https://localhost:8080/"
        },
        "id": "-ZGTvKi4YJYI",
        "outputId": "371dbec1-b0e7-4fda-b721-ad0be9a54eb0"
      },
      "source": [
        "reps = learn_reps_lsa(td_matrix, 1000)\n",
        "words = [\"the\", \"dog\", \"3\", \"good\"]\n",
        "show_tokens = [vectorizer.tokenizer.word_to_token[word] for word in words]\n",
        "lab_util.show_similar_words(vectorizer.tokenizer, reps, show_tokens)"
      ],
      "execution_count": 19,
      "outputs": [
        {
          "output_type": "stream",
          "text": [
            "the 36\n",
            "  . 0.331\n",
            "  <unk> 0.366\n",
            "  of 0.395\n",
            "  and 0.403\n",
            "  to 0.422\n",
            "dog 925\n",
            "  food 1.054\n",
            "  pets 1.154\n",
            "  pet 1.181\n",
            "  foods 1.267\n",
            "  dogs 1.313\n",
            "3 289\n",
            "  . 1.242\n",
            "  8 1.249\n",
            "  the 1.274\n",
            "  to 1.276\n",
            "  <unk> 1.282\n",
            "good 47\n",
            "  . 1.056\n",
            "  a 1.102\n",
            "  but 1.121\n",
            "  , 1.152\n",
            "  the 1.157\n"
          ],
          "name": "stdout"
        }
      ]
    },
    {
      "cell_type": "code",
      "metadata": {
        "id": "GPSi_qmhYwWn",
        "colab": {
          "base_uri": "https://localhost:8080/"
        },
        "outputId": "5011d59f-3fb5-4fdd-b20b-a15b5d13481b"
      },
      "source": [
        "# (c)\n",
        "\n",
        "td_matrix_tfidf = transform_tfidf(td_matrix)\n",
        "# reps_tfidf = learn_reps_lsa(td_matrix_tfidf, 500)\n",
        "reps_tfidf = learn_reps_lsa(td_matrix_tfidf, 10)\n",
        "lab_util.show_similar_words(vectorizer.tokenizer, reps_tfidf, show_tokens)\n",
        "\n",
        "n_train = 3000\n",
        "training_experiment(\"word\", word_featurizer, n_train)\n",
        "training_experiment(\"lsa\", lsa_featurizer, n_train)\n",
        "training_experiment(\"combo\", combo_featurizer, n_train)\n",
        "print()"
      ],
      "execution_count": 20,
      "outputs": [
        {
          "output_type": "stream",
          "text": [
            "the 36\n",
            "  . 0.019\n",
            "  in 0.019\n",
            "  be 0.024\n",
            "  that 0.027\n",
            "  a 0.027\n",
            "dog 925\n",
            "  dogs 0.065\n",
            "  him 0.069\n",
            "  he 0.099\n",
            "  lamb 0.110\n",
            "  baby 0.117\n",
            "3 289\n",
            "  considering 0.048\n",
            "  spent 0.094\n",
            "  daily 0.105\n",
            "  based 0.118\n",
            "  particular 0.118\n",
            "good 47\n",
            "  very 0.043\n",
            "  . 0.051\n",
            "  but 0.053\n",
            "  much 0.062\n",
            "  like 0.064\n",
            "word features, 3000 examples\n",
            "0.784 \n",
            "\n",
            "lsa features, 3000 examples\n",
            "0.602 \n",
            "\n",
            "combo features, 3000 examples\n",
            "0.788 \n",
            "\n",
            "\n"
          ],
          "name": "stdout"
        }
      ]
    },
    {
      "cell_type": "code",
      "metadata": {
        "id": "BniTyIrlYwZa",
        "colab": {
          "base_uri": "https://localhost:8080/"
        },
        "outputId": "739bb5b0-196b-4157-c9d4-6b78b5be329e"
      },
      "source": [
        "td_matrix_tfidf = transform_tfidf(td_matrix)\n",
        "# reps_tfidf = learn_reps_lsa(td_matrix_tfidf, 500)\n",
        "reps_tfidf = learn_reps_lsa(td_matrix_tfidf, 100)\n",
        "lab_util.show_similar_words(vectorizer.tokenizer, reps_tfidf, show_tokens)\n",
        "\n",
        "n_train = 3000\n",
        "training_experiment(\"word\", word_featurizer, n_train)\n",
        "training_experiment(\"lsa\", lsa_featurizer, n_train)\n",
        "training_experiment(\"combo\", combo_featurizer, n_train)\n",
        "print()"
      ],
      "execution_count": 21,
      "outputs": [
        {
          "output_type": "stream",
          "text": [
            "the 36\n",
            "  . 0.121\n",
            "  of 0.154\n",
            "  to 0.164\n",
            "  and 0.164\n",
            "  <unk> 0.212\n",
            "dog 925\n",
            "  pet 0.744\n",
            "  foods 0.779\n",
            "  switched 0.796\n",
            "  pets 0.825\n",
            "  food 0.859\n",
            "3 289\n",
            "  8 0.760\n",
            "  1 0.769\n",
            "  2 0.776\n",
            "  4 0.868\n",
            "  per 0.869\n",
            "good 47\n",
            "  but 0.449\n",
            "  . 0.513\n",
            "  for 0.595\n",
            "  as 0.596\n",
            "  not 0.611\n",
            "word features, 3000 examples\n",
            "0.784 \n",
            "\n",
            "lsa features, 3000 examples\n",
            "0.754 \n",
            "\n",
            "combo features, 3000 examples\n",
            "0.792 \n",
            "\n",
            "\n"
          ],
          "name": "stdout"
        }
      ]
    },
    {
      "cell_type": "code",
      "metadata": {
        "id": "gCWI6AqIYxIn",
        "colab": {
          "base_uri": "https://localhost:8080/"
        },
        "outputId": "fdb3fe6c-77ff-4da3-e3b8-f0e48d8caf01"
      },
      "source": [
        "td_matrix_tfidf = transform_tfidf(td_matrix)\n",
        "# reps_tfidf = learn_reps_lsa(td_matrix_tfidf, 500)\n",
        "reps_tfidf = learn_reps_lsa(td_matrix_tfidf, 500)\n",
        "lab_util.show_similar_words(vectorizer.tokenizer, reps_tfidf, show_tokens)\n",
        "\n",
        "n_train = 3000\n",
        "training_experiment(\"word\", word_featurizer, n_train)\n",
        "training_experiment(\"lsa\", lsa_featurizer, n_train)\n",
        "training_experiment(\"combo\", combo_featurizer, n_train)\n",
        "print()"
      ],
      "execution_count": 22,
      "outputs": [
        {
          "output_type": "stream",
          "text": [
            "the 36\n",
            "  . 0.214\n",
            "  and 0.269\n",
            "  <unk> 0.290\n",
            "  of 0.304\n",
            "  to 0.324\n",
            "dog 925\n",
            "  food 1.030\n",
            "  pets 1.097\n",
            "  pet 1.105\n",
            "  foods 1.189\n",
            "  switched 1.250\n",
            "3 289\n",
            "  8 1.148\n",
            "  . 1.173\n",
            "  to 1.214\n",
            "  the 1.215\n",
            "  of 1.231\n",
            "good 47\n",
            "  . 0.983\n",
            "  but 1.011\n",
            "  a 1.032\n",
            "  and 1.087\n",
            "  is 1.095\n",
            "word features, 3000 examples\n",
            "0.784 \n",
            "\n",
            "lsa features, 3000 examples\n",
            "0.758 \n",
            "\n",
            "combo features, 3000 examples\n",
            "0.794 \n",
            "\n",
            "\n"
          ],
          "name": "stdout"
        }
      ]
    },
    {
      "cell_type": "code",
      "metadata": {
        "id": "WZ2DySByYxLb",
        "colab": {
          "base_uri": "https://localhost:8080/"
        },
        "outputId": "060bb69a-64db-4fc9-f10b-a1dfa847e6fe"
      },
      "source": [
        "td_matrix_tfidf = transform_tfidf(td_matrix)\n",
        "# reps_tfidf = learn_reps_lsa(td_matrix_tfidf, 500)\n",
        "reps_tfidf = learn_reps_lsa(td_matrix_tfidf, 1000)\n",
        "lab_util.show_similar_words(vectorizer.tokenizer, reps_tfidf, show_tokens)\n",
        "\n",
        "n_train = 3000\n",
        "training_experiment(\"word\", word_featurizer, n_train)\n",
        "training_experiment(\"lsa\", lsa_featurizer, n_train)\n",
        "training_experiment(\"combo\", combo_featurizer, n_train)\n",
        "print()"
      ],
      "execution_count": 23,
      "outputs": [
        {
          "output_type": "stream",
          "text": [
            "the 36\n",
            "  . 0.264\n",
            "  <unk> 0.328\n",
            "  and 0.341\n",
            "  of 0.362\n",
            "  to 0.383\n",
            "dog 925\n",
            "  food 1.050\n",
            "  pets 1.162\n",
            "  pet 1.182\n",
            "  foods 1.257\n",
            "  dogs 1.311\n",
            "3 289\n",
            "  . 1.217\n",
            "  8 1.231\n",
            "  the 1.261\n",
            "  to 1.263\n",
            "  <unk> 1.271\n",
            "good 47\n",
            "  . 1.028\n",
            "  a 1.082\n",
            "  but 1.104\n",
            "  and 1.138\n",
            "  the 1.143\n",
            "word features, 3000 examples\n",
            "0.784 \n",
            "\n",
            "lsa features, 3000 examples\n",
            "0.756 \n",
            "\n",
            "combo features, 3000 examples\n",
            "0.794 \n",
            "\n",
            "\n"
          ],
          "name": "stdout"
        }
      ]
    },
    {
      "cell_type": "code",
      "metadata": {
        "id": "Ub_JmcevYxOB",
        "colab": {
          "base_uri": "https://localhost:8080/"
        },
        "outputId": "458b636b-5691-4e08-e9dc-1c85bd4e4b50"
      },
      "source": [
        "td_matrix_tfidf = transform_tfidf(td_matrix)\n",
        "reps_tfidf = learn_reps_lsa(td_matrix_tfidf, 500)\n",
        "lab_util.show_similar_words(vectorizer.tokenizer, reps_tfidf, show_tokens)\n",
        "\n",
        "n_train = 10\n",
        "training_experiment(\"word\", word_featurizer, n_train)\n",
        "training_experiment(\"lsa\", lsa_featurizer, n_train)\n",
        "training_experiment(\"combo\", combo_featurizer, n_train)\n",
        "print()"
      ],
      "execution_count": 24,
      "outputs": [
        {
          "output_type": "stream",
          "text": [
            "the 36\n",
            "  . 0.214\n",
            "  and 0.269\n",
            "  <unk> 0.290\n",
            "  of 0.304\n",
            "  to 0.324\n",
            "dog 925\n",
            "  food 1.030\n",
            "  pets 1.097\n",
            "  pet 1.105\n",
            "  foods 1.189\n",
            "  switched 1.250\n",
            "3 289\n",
            "  8 1.148\n",
            "  . 1.173\n",
            "  to 1.214\n",
            "  the 1.215\n",
            "  of 1.231\n",
            "good 47\n",
            "  . 0.983\n",
            "  but 1.011\n",
            "  a 1.032\n",
            "  and 1.087\n",
            "  is 1.095\n",
            "word features, 10 examples\n",
            "0.496 \n",
            "\n",
            "lsa features, 10 examples\n",
            "0.474 \n",
            "\n",
            "combo features, 10 examples\n",
            "0.496 \n",
            "\n",
            "\n"
          ],
          "name": "stdout"
        }
      ]
    },
    {
      "cell_type": "code",
      "metadata": {
        "colab": {
          "base_uri": "https://localhost:8080/"
        },
        "id": "L0GvdRXlUFb_",
        "outputId": "c9485ddf-5645-4326-b326-b26423f58abf"
      },
      "source": [
        "td_matrix_tfidf = transform_tfidf(td_matrix)\n",
        "reps_tfidf = learn_reps_lsa(td_matrix_tfidf, 500)\n",
        "lab_util.show_similar_words(vectorizer.tokenizer, reps_tfidf, show_tokens)\n",
        "\n",
        "n_train = 100\n",
        "training_experiment(\"word\", word_featurizer, n_train)\n",
        "training_experiment(\"lsa\", lsa_featurizer, n_train)\n",
        "training_experiment(\"combo\", combo_featurizer, n_train)\n",
        "print()"
      ],
      "execution_count": 25,
      "outputs": [
        {
          "output_type": "stream",
          "text": [
            "the 36\n",
            "  . 0.214\n",
            "  and 0.269\n",
            "  <unk> 0.290\n",
            "  of 0.304\n",
            "  to 0.324\n",
            "dog 925\n",
            "  food 1.030\n",
            "  pets 1.097\n",
            "  pet 1.105\n",
            "  foods 1.189\n",
            "  switched 1.250\n",
            "3 289\n",
            "  8 1.148\n",
            "  . 1.173\n",
            "  to 1.214\n",
            "  the 1.215\n",
            "  of 1.231\n",
            "good 47\n",
            "  . 0.983\n",
            "  but 1.011\n",
            "  a 1.032\n",
            "  and 1.087\n",
            "  is 1.095\n",
            "word features, 100 examples\n",
            "0.616 \n",
            "\n",
            "lsa features, 100 examples\n",
            "0.614 \n",
            "\n",
            "combo features, 100 examples\n",
            "0.626 \n",
            "\n",
            "\n"
          ],
          "name": "stdout"
        }
      ]
    },
    {
      "cell_type": "code",
      "metadata": {
        "colab": {
          "base_uri": "https://localhost:8080/"
        },
        "id": "QlUefeeqUFen",
        "outputId": "d9ecd7ad-e8b5-4a6d-9d3a-0c52ca9d0667"
      },
      "source": [
        "td_matrix_tfidf = transform_tfidf(td_matrix)\n",
        "reps_tfidf = learn_reps_lsa(td_matrix_tfidf, 500)\n",
        "lab_util.show_similar_words(vectorizer.tokenizer, reps_tfidf, show_tokens)\n",
        "\n",
        "n_train = 1000\n",
        "training_experiment(\"word\", word_featurizer, n_train)\n",
        "training_experiment(\"lsa\", lsa_featurizer, n_train)\n",
        "training_experiment(\"combo\", combo_featurizer, n_train)\n",
        "print()"
      ],
      "execution_count": 26,
      "outputs": [
        {
          "output_type": "stream",
          "text": [
            "the 36\n",
            "  . 0.214\n",
            "  and 0.269\n",
            "  <unk> 0.290\n",
            "  of 0.304\n",
            "  to 0.324\n",
            "dog 925\n",
            "  food 1.030\n",
            "  pets 1.097\n",
            "  pet 1.105\n",
            "  foods 1.189\n",
            "  switched 1.250\n",
            "3 289\n",
            "  8 1.148\n",
            "  . 1.173\n",
            "  to 1.214\n",
            "  the 1.215\n",
            "  of 1.231\n",
            "good 47\n",
            "  . 0.983\n",
            "  but 1.011\n",
            "  a 1.032\n",
            "  and 1.087\n",
            "  is 1.095\n",
            "word features, 1000 examples\n",
            "0.784 \n",
            "\n",
            "lsa features, 1000 examples\n",
            "0.734 \n",
            "\n",
            "combo features, 1000 examples\n",
            "0.782 \n",
            "\n",
            "\n"
          ],
          "name": "stdout"
        }
      ]
    },
    {
      "cell_type": "code",
      "metadata": {
        "colab": {
          "base_uri": "https://localhost:8080/"
        },
        "id": "Rk_aFiFQUFg-",
        "outputId": "0d1b7d1e-616a-4e43-f2d4-a007867081b5"
      },
      "source": [
        "td_matrix_tfidf = transform_tfidf(td_matrix)\n",
        "reps_tfidf = learn_reps_lsa(td_matrix_tfidf, 500)\n",
        "lab_util.show_similar_words(vectorizer.tokenizer, reps_tfidf, show_tokens)\n",
        "\n",
        "n_train = 3000\n",
        "training_experiment(\"word\", word_featurizer, n_train)\n",
        "training_experiment(\"lsa\", lsa_featurizer, n_train)\n",
        "training_experiment(\"combo\", combo_featurizer, n_train)\n",
        "print()"
      ],
      "execution_count": 27,
      "outputs": [
        {
          "output_type": "stream",
          "text": [
            "the 36\n",
            "  . 0.214\n",
            "  and 0.269\n",
            "  <unk> 0.290\n",
            "  of 0.304\n",
            "  to 0.324\n",
            "dog 925\n",
            "  food 1.030\n",
            "  pets 1.097\n",
            "  pet 1.105\n",
            "  foods 1.189\n",
            "  switched 1.250\n",
            "3 289\n",
            "  8 1.148\n",
            "  . 1.173\n",
            "  to 1.214\n",
            "  the 1.215\n",
            "  of 1.231\n",
            "good 47\n",
            "  . 0.983\n",
            "  but 1.011\n",
            "  a 1.032\n",
            "  and 1.087\n",
            "  is 1.095\n",
            "word features, 3000 examples\n",
            "0.784 \n",
            "\n",
            "lsa features, 3000 examples\n",
            "0.758 \n",
            "\n",
            "combo features, 3000 examples\n",
            "0.794 \n",
            "\n",
            "\n"
          ],
          "name": "stdout"
        }
      ]
    },
    {
      "cell_type": "code",
      "metadata": {
        "colab": {
          "base_uri": "https://localhost:8080/"
        },
        "id": "t81CCbT_UFjL",
        "outputId": "3993e77f-f23d-4bd1-ac08-bad069fc9ac3"
      },
      "source": [
        "td_matrix_tfidf = transform_tfidf(td_matrix)\n",
        "reps_tfidf = learn_reps_lsa(td_matrix_tfidf, 500)\n",
        "lab_util.show_similar_words(vectorizer.tokenizer, reps_tfidf, show_tokens)\n",
        "\n",
        "n_train = 10000\n",
        "training_experiment(\"word\", word_featurizer, n_train)\n",
        "training_experiment(\"lsa\", lsa_featurizer, n_train)\n",
        "training_experiment(\"combo\", combo_featurizer, n_train)\n",
        "print()"
      ],
      "execution_count": 28,
      "outputs": [
        {
          "output_type": "stream",
          "text": [
            "the 36\n",
            "  . 0.214\n",
            "  and 0.269\n",
            "  <unk> 0.290\n",
            "  of 0.304\n",
            "  to 0.324\n",
            "dog 925\n",
            "  food 1.030\n",
            "  pets 1.097\n",
            "  pet 1.105\n",
            "  foods 1.189\n",
            "  switched 1.250\n",
            "3 289\n",
            "  8 1.148\n",
            "  . 1.173\n",
            "  to 1.214\n",
            "  the 1.215\n",
            "  of 1.231\n",
            "good 47\n",
            "  . 0.983\n",
            "  but 1.011\n",
            "  a 1.032\n",
            "  and 1.087\n",
            "  is 1.095\n",
            "word features, 10000 examples\n",
            "0.784 \n",
            "\n",
            "lsa features, 10000 examples\n",
            "0.758 \n",
            "\n",
            "combo features, 10000 examples\n",
            "0.794 \n",
            "\n",
            "\n"
          ],
          "name": "stdout"
        }
      ]
    },
    {
      "cell_type": "code",
      "metadata": {
        "id": "bEGc0RftUFlm"
      },
      "source": [
        ""
      ],
      "execution_count": null,
      "outputs": []
    },
    {
      "cell_type": "code",
      "metadata": {
        "id": "fDPI2E16UFoQ"
      },
      "source": [
        ""
      ],
      "execution_count": null,
      "outputs": []
    },
    {
      "cell_type": "markdown",
      "metadata": {
        "id": "AxfunCYh5nmZ"
      },
      "source": [
        "## Part 2: word representations via language modeling\n",
        "\n",
        "In this section, we'll train a word embedding model with a word2vec-style objective rather than a matrix factorization objective. This requires a little more work; we've provided scaffolding for a PyTorch model implementation below.\n",
        "If you don't have much PyTorch experience, there are some tutorials [here](https://pytorch.org/tutorials/) which may be useful. You're also welcome to implement these experiments in any other framework of your choosing."
      ]
    },
    {
      "cell_type": "code",
      "metadata": {
        "id": "M1napibQ6aub"
      },
      "source": [
        "import torch\n",
        "import torch.nn as nn\n",
        "import torch.nn.functional as F\n",
        "import torch.optim as optim\n",
        "import torch.utils.data as torch_data\n",
        "\n",
        "class Word2VecModel(nn.Module):\n",
        "    # A torch module implementing a word2vec predictor. The `forward` function\n",
        "    # should take a batch of context word ids as input and predict the word \n",
        "    # in the middle of the context as output, as in the CBOW model from lecture.\n",
        "\n",
        "    def __init__(self, vocab_size, embed_dim):\n",
        "        super().__init__()\n",
        "        self.vocab_size = vocab_size\n",
        "        self.embed_dim = embed_dim\n",
        "        self.embeddings = nn.Embedding(self.vocab_size+1, self.embed_dim)\n",
        "        self.linear = nn.Linear(self.embed_dim, self.vocab_size+1)\n",
        "\n",
        "        # Your code here!c\n",
        "        # raise NotImplementedError\n",
        "\n",
        "    def forward(self, context):\n",
        "        # Context is an `n_batch x n_context` matrix of integer word ids\n",
        "        # this function should return a set of scores for predicting the word \n",
        "        # in the middle of the context\n",
        "\n",
        "        # Your code here!\n",
        "        embegings = self.embeddings(context)\n",
        "\n",
        "        embegings=torch.mean(embegings,dim=1)\n",
        "\n",
        "        linear_out = self.linear(embegings)\n",
        "\n",
        "        final_out = F.log_softmax(linear_out, dim = 1)\n",
        "\n",
        "        return final_out\n",
        "\n",
        "        raise NotImplementedError"
      ],
      "execution_count": 29,
      "outputs": []
    },
    {
      "cell_type": "code",
      "metadata": {
        "id": "ePgZlityuWr3"
      },
      "source": [
        "def learn_reps_word2vec(corpus, window_size, rep_size, n_epochs, n_batch):\n",
        "    #This method takes in a corpus of training sentences. It returns a matrix of\n",
        "    # word embeddings with the same structure as used in the previous section of \n",
        "    # the assignment. (You can extract this matrix from the parameters of the \n",
        "    # Word2VecModel.)\n",
        "\n",
        "    tokenizer = lab_util.Tokenizer()\n",
        "    tokenizer.fit(corpus)\n",
        "    tokenized_corpus = tokenizer.tokenize(corpus)\n",
        "\n",
        "    ngrams = lab_util.get_ngrams(tokenized_corpus, window_size)\n",
        "\n",
        "    device = torch.device('cuda')  # run on colab gpu\n",
        "    # model = Word2VecModel(tokenizer.vocab_size, rep_size).to(device)\n",
        "    model = Word2VecModel(tokenizer.vocab_size, rep_size)\n",
        "    opt = optim.Adam(model.parameters(), lr=0.001)\n",
        "\n",
        "    loader = torch_data.DataLoader(ngrams, batch_size=n_batch, shuffle=True)\n",
        "\n",
        "    # What loss function should we use for Word2Vec?\n",
        "    loss_fn = nn.CrossEntropyLoss()\n",
        "\n",
        "    losses = []  # Potentially useful for debugging (loss should go down!)\n",
        "\n",
        "    for epoch in tqdm(range(n_epochs)):\n",
        "        epoch_loss = 0\n",
        "        for context, label in loader:\n",
        "\n",
        "            context = context+1\n",
        "\n",
        "            label = label +1\n",
        "\n",
        "            # As described above, `context` is a batch of context word ids, and\n",
        "            # `label` is a batch of predicted word labels.\n",
        "\n",
        "            # Here, perform a forward pass to compute predictions for the model.\n",
        "            # context.device(device)\n",
        "\n",
        "            # torch.tensor([word_to_ix[target]], dtype=torch.long)\n",
        "\n",
        "      \n",
        "\n",
        "            # context = context.to(device)\n",
        "            # label = label.to(device)\n",
        "\n",
        "            preds = model(context)  # Your code here!\n",
        "\n",
        "\n",
        "            # Now finish the backward pass and gradient update.\n",
        "            # Remember, you need to compute the loss, zero the gradients\n",
        "            # of the model parameters, perform the backward pass, and\n",
        "            # update the model parameters.\n",
        "            loss = loss_fn(preds, label)  # Your code here!\n",
        "\n",
        "            loss.backward()\n",
        "\n",
        "            opt.step()\n",
        "\n",
        "            epoch_loss += loss.item()\n",
        "        losses.append(epoch_loss)\n",
        "\n",
        "    # Hint: you want to return a `vocab_size x embedding_size` numpy array\n",
        "    for name, param in model.named_parameters():\n",
        "      if name == 'embeddings.weight':\n",
        "        embedding_matrix = param[1:]\n",
        "    # embedding_matrix = None  # Your code here!\n",
        "\n",
        "    return embedding_matrix"
      ],
      "execution_count": 30,
      "outputs": []
    },
    {
      "cell_type": "code",
      "metadata": {
        "colab": {
          "base_uri": "https://localhost:8080/"
        },
        "id": "XeTuCJ8Rmdrl",
        "outputId": "dbc6e1f9-72d3-4a40-87b6-ec453cb3d37e"
      },
      "source": [
        "# Use the function you just wrote to learn Word2Vec embeddings:\n",
        "reps_word2vec = learn_reps_word2vec(train_reviews, 2, 500, 10, 100)"
      ],
      "execution_count": 31,
      "outputs": [
        {
          "output_type": "stream",
          "text": [
            "100%|██████████| 10/10 [16:39<00:00, 100.00s/it]\n"
          ],
          "name": "stderr"
        }
      ]
    },
    {
      "cell_type": "markdown",
      "metadata": {
        "id": "O3oE-tpR7I39"
      },
      "source": [
        "After training the embeddings, we can try to visualize the embedding space to see if it makes sense. First, we can take any word in the space and check its closest neighbors."
      ]
    },
    {
      "cell_type": "code",
      "metadata": {
        "id": "yMW4QND56bHF",
        "colab": {
          "base_uri": "https://localhost:8080/"
        },
        "outputId": "cd62d5bd-6823-4cba-f437-76ed712cda39"
      },
      "source": [
        "lab_util.show_similar_words(vectorizer.tokenizer, reps_word2vec.detach().numpy(), show_tokens)"
      ],
      "execution_count": 32,
      "outputs": [
        {
          "output_type": "stream",
          "text": [
            "the 36\n",
            "  this 1.538\n",
            "  a 1.577\n",
            "  it 1.616\n",
            "  my 1.646\n",
            "  you're 1.652\n",
            "dog 925\n",
            "  costco 1.607\n",
            "  subscribe 1.613\n",
            "  crunch 1.626\n",
            "  spice 1.638\n",
            "  wet 1.643\n",
            "3 289\n",
            "  bread 1.637\n",
            "  couple 1.643\n",
            "  maybe 1.650\n",
            "  birthday 1.655\n",
            "  busy 1.661\n",
            "good 47\n",
            "  excellent 1.626\n",
            "  constantly 1.629\n",
            "  enjoying 1.663\n",
            "  decent 1.686\n",
            "  favorite 1.689\n"
          ],
          "name": "stdout"
        }
      ]
    },
    {
      "cell_type": "markdown",
      "metadata": {
        "id": "ue-9CPSc7fi9"
      },
      "source": [
        "We can also cluster the embedding space. Clustering in 4 or more dimensions is hard to visualize, and even clustering in 2 or 3 can be difficult because there are so many words in the vocabulary. One thing we can try to do is assign cluster labels and qualitiatively look for an underlying pattern in the clusters."
      ]
    },
    {
      "cell_type": "code",
      "metadata": {
        "id": "v-Yf6NMCXVx4",
        "colab": {
          "base_uri": "https://localhost:8080/"
        },
        "outputId": "b9da4c18-80e7-4f7e-f6bd-7ce21d48f308"
      },
      "source": [
        "from sklearn.cluster import KMeans\n",
        "\n",
        "indices = KMeans(n_clusters=10).fit_predict(reps_word2vec.detach().numpy())\n",
        "zipped = list(zip(range(vectorizer.tokenizer.vocab_size), indices))\n",
        "np.random.shuffle(zipped)\n",
        "zipped = zipped[:100]\n",
        "zipped = sorted(zipped, key=lambda x: x[1])\n",
        "for token, cluster_idx in zipped:\n",
        "    word = vectorizer.tokenizer.token_to_word[token]\n",
        "    print(f\"{word}: {cluster_idx}\")"
      ],
      "execution_count": 33,
      "outputs": [
        {
          "output_type": "stream",
          "text": [
            "amazing: 1\n",
            "spread: 1\n",
            "filled: 1\n",
            "suggest: 1\n",
            "average: 1\n",
            "living: 1\n",
            "learned: 1\n",
            "description: 1\n",
            "rate: 1\n",
            "double: 1\n",
            "moved: 2\n",
            "seen: 2\n",
            "im: 2\n",
            "fall: 2\n",
            "teeth: 2\n",
            "prime: 2\n",
            "below: 2\n",
            "brewer: 2\n",
            "hint: 2\n",
            "lunches: 2\n",
            "change: 2\n",
            "subtle: 2\n",
            "lays: 2\n",
            "crackers: 2\n",
            "expiration: 2\n",
            "warning: 2\n",
            "40: 2\n",
            "plum: 2\n",
            "un: 2\n",
            "calcium: 2\n",
            "mean: 2\n",
            "fiber: 2\n",
            "pouch: 2\n",
            "starbucks: 2\n",
            "caramels: 4\n",
            "cubes: 4\n",
            "general: 4\n",
            "worked: 4\n",
            "caffeine: 4\n",
            "puppy: 4\n",
            "shipment: 4\n",
            "zero: 4\n",
            "holes: 4\n",
            "lasts: 4\n",
            "nearly: 7\n",
            "target: 7\n",
            "granted: 7\n",
            "colors: 7\n",
            "decide: 7\n",
            "muffin: 8\n",
            "classic: 8\n",
            "update: 8\n",
            "birthday: 8\n",
            "solid: 8\n",
            "rica: 8\n",
            "buying: 9\n",
            "pieces: 9\n",
            "than: 9\n",
            "large: 9\n",
            "eaten: 9\n",
            "beer: 9\n",
            "months: 9\n",
            "excellent: 9\n",
            "without: 9\n",
            "reviews: 9\n",
            "someone: 9\n",
            "ok: 9\n",
            "help: 9\n",
            "given: 9\n",
            "bad: 9\n",
            "cookies: 9\n",
            "kind: 9\n",
            "bought: 9\n",
            "go: 9\n",
            "disappointed: 9\n",
            "him: 9\n",
            "has: 9\n",
            "potassium: 9\n",
            "needed: 9\n",
            "artificial: 9\n",
            "its: 9\n",
            "coffee: 9\n",
            "times: 9\n",
            "plus: 9\n",
            "unfortunately: 9\n",
            "never: 9\n",
            "treats: 9\n",
            "something: 9\n",
            "will: 9\n",
            "beef: 9\n",
            "morning: 9\n",
            "still: 9\n",
            "fruit: 9\n",
            "doesn't: 9\n",
            "truly: 9\n",
            "we: 9\n",
            "mill: 9\n",
            "packing: 9\n",
            "next: 9\n",
            "that's: 9\n"
          ],
          "name": "stdout"
        }
      ]
    },
    {
      "cell_type": "markdown",
      "metadata": {
        "id": "ci1TkENU78Wn"
      },
      "source": [
        "Finally, we can use the trained word embeddings to construct vector representations of full reviews. One common approach is to simply average all the word embeddings in the review to create an overall embedding. Implement the transform function in Word2VecFeaturizer to do this."
      ]
    },
    {
      "cell_type": "code",
      "metadata": {
        "id": "A5vjmRV6Dgbu",
        "colab": {
          "base_uri": "https://localhost:8080/"
        },
        "outputId": "ec816cd4-1bb7-47df-b228-5f770544a4c2"
      },
      "source": [
        "def w2v_featurizer(xs):\n",
        "    # This function takes in a matrix in which each row contains the word counts\n",
        "    # for the given review. It should return a matrix in which each row contains\n",
        "    # the average Word2Vec embedding of each review (hint: this will be very\n",
        "    # similar to `lsa_featurizer` from above, just using Word2Vec embeddings \n",
        "    # instead of LSA).\n",
        "\n",
        "    feats = xs @ reps_word2vec.detach().numpy() # Your code here!\n",
        "\n",
        "    # normalize\n",
        "    return feats / np.sqrt((feats ** 2).sum(axis=1, keepdims=True))\n",
        "\n",
        "training_experiment(\"word2vec\", w2v_featurizer, 3000)\n",
        "print()"
      ],
      "execution_count": 34,
      "outputs": [
        {
          "output_type": "stream",
          "text": [
            "word2vec features, 3000 examples\n",
            "0.79 \n",
            "\n",
            "\n"
          ],
          "name": "stdout"
        }
      ]
    },
    {
      "cell_type": "markdown",
      "metadata": {
        "id": "XSfoQbxaXtfH"
      },
      "source": [
        "**Part 2: Lab writeup**\n",
        "\n",
        "Part 2 of your lab report should discuss any implementation details that were important to filling out the code above, as well as your answers to the questions in Part 2 of the Homework 1 handout. Below, you can set up and perform experiments that answer these questions (include figures, plots, and tables in your write-up as you see fit)."
      ]
    },
    {
      "cell_type": "markdown",
      "metadata": {
        "id": "Beb7dgqWycYx"
      },
      "source": [
        "## Experiments for Part 2"
      ]
    },
    {
      "cell_type": "code",
      "metadata": {
        "id": "obr-zEmNydDm"
      },
      "source": [
        "# Your code here!\n",
        "\n"
      ],
      "execution_count": null,
      "outputs": []
    },
    {
      "cell_type": "code",
      "metadata": {
        "id": "CvIJf7--VIV3"
      },
      "source": [
        ""
      ],
      "execution_count": null,
      "outputs": []
    },
    {
      "cell_type": "code",
      "metadata": {
        "id": "2pWrx467VIYk"
      },
      "source": [
        ""
      ],
      "execution_count": null,
      "outputs": []
    },
    {
      "cell_type": "code",
      "metadata": {
        "id": "JPX64mP6VIa4"
      },
      "source": [
        ""
      ],
      "execution_count": null,
      "outputs": []
    },
    {
      "cell_type": "code",
      "metadata": {
        "id": "iiZ70PR6VIeE"
      },
      "source": [
        ""
      ],
      "execution_count": null,
      "outputs": []
    }
  ]
}