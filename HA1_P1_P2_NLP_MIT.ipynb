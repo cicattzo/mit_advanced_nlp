{
  "nbformat": 4,
  "nbformat_minor": 0,
  "metadata": {
    "colab": {
      "name": "HA1_P1_P2_NLP_MIT.ipynb",
      "provenance": [],
      "collapsed_sections": [],
      "toc_visible": true,
      "machine_shape": "hm",
      "include_colab_link": true
    },
    "kernelspec": {
      "name": "python3",
      "display_name": "Python 3"
    },
    "accelerator": "GPU"
  },
  "cells": [
    {
      "cell_type": "markdown",
      "metadata": {
        "id": "view-in-github",
        "colab_type": "text"
      },
      "source": [
        "<a href=\"https://colab.research.google.com/github/cicattzo/mit_advanced_nlp/blob/main/HA1_P1_P2_NLP_MIT.ipynb\" target=\"_parent\"><img src=\"https://colab.research.google.com/assets/colab-badge.svg\" alt=\"Open In Colab\"/></a>"
      ]
    },
    {
      "cell_type": "code",
      "metadata": {
        "id": "FU7xWiY6TyWS",
        "colab": {
          "base_uri": "https://localhost:8080/"
        },
        "outputId": "b272824d-472d-4373-90f1-7a8a8e6869b7"
      },
      "source": [
        "%%bash\n",
        "!(stat -t /usr/local/lib/*/dist-packages/google/colab > /dev/null 2>&1) && exit \n",
        "rm -rf hw1\n",
        "git clone https://github.com/mit-6864/hw1.git"
      ],
      "execution_count": 3,
      "outputs": [
        {
          "output_type": "stream",
          "text": [
            "Cloning into 'hw1'...\n"
          ],
          "name": "stderr"
        }
      ]
    },
    {
      "cell_type": "code",
      "metadata": {
        "id": "A0MHaHrdUACZ"
      },
      "source": [
        "import sys\n",
        "sys.path.append(\"/content/hw1\")\n",
        "\n",
        "import csv\n",
        "import itertools as it\n",
        "import numpy as np\n",
        "import sklearn.decomposition\n",
        "np.random.seed(0)\n",
        "from tqdm import tqdm\n",
        "\n",
        "import lab_util"
      ],
      "execution_count": 4,
      "outputs": []
    },
    {
      "cell_type": "markdown",
      "metadata": {
        "id": "cZ3MUj4iUf76"
      },
      "source": [
        "# Introduction\n",
        "\n",
        "In this notebook, you will find code scaffolding for the word representation parts of Homework 1 (matrix factorization and Word2Vec-style language modeling; code for the HMM section of the assignment is released in another notebook). There are certain parts of the scaffolding marked with `# Your code here!` comments where you can fill in code to perform the specified tasks. After implementing the methods in this notebook, you will need to design and perform experiments to evaluate each method and respond to the questions in the Homework 1 handout (available on Canvas). You should be able to complete this assignment without changing any of the scaffolding code, just writing code to fill in the scaffolding and run experiments."
      ]
    },
    {
      "cell_type": "markdown",
      "metadata": {
        "id": "gG654Y9J3yHw"
      },
      "source": [
        "## Dataset\n",
        "\n",
        "We're going to be working with a dataset of product reviews. The following cell loads the dataset and splits it into training, validation, and test sets."
      ]
    },
    {
      "cell_type": "code",
      "metadata": {
        "id": "JwiX-Tc9V1xI",
        "colab": {
          "base_uri": "https://localhost:8080/"
        },
        "outputId": "16644455-7c0e-4ce3-f465-6accbcf24ed6"
      },
      "source": [
        "data = []\n",
        "n_positive = 0\n",
        "n_disp = 0\n",
        "with open(\"/content/hw1/reviews.csv\") as reader:\n",
        "  csvreader = csv.reader(reader)\n",
        "  next(csvreader)\n",
        "  for id, review, label in csvreader:\n",
        "    label = int(label)\n",
        "\n",
        "    # hacky class balancing\n",
        "    if label == 1:\n",
        "      if n_positive == 2000:\n",
        "        continue\n",
        "      n_positive += 1\n",
        "    if len(data) == 4000:\n",
        "      break\n",
        "\n",
        "    data.append((review, label))\n",
        "    \n",
        "    if n_disp > 5:\n",
        "      continue\n",
        "    n_disp += 1\n",
        "    print(\"review:\", review)\n",
        "    print(\"rating:\", label, \"(good)\" if label == 1 else \"(bad)\")\n",
        "    print()\n",
        "\n",
        "print(f\"Read {len(data)} total reviews.\")\n",
        "np.random.shuffle(data)\n",
        "reviews, labels = zip(*data)\n",
        "train_reviews = reviews[:3000]\n",
        "train_labels = labels[:3000]\n",
        "val_reviews = reviews[3000:3500]\n",
        "val_labels = labels[3000:3500]\n",
        "test_reviews = reviews[3500:]\n",
        "test_labels = labels[3500:]"
      ],
      "execution_count": 5,
      "outputs": [
        {
          "output_type": "stream",
          "text": [
            "review: I have bought several of the Vitality canned dog food products and have found them all to be of good quality. The product looks more like a stew than a processed meat and it smells better. My Labrador is finicky and she appreciates this product better than  most.\n",
            "rating: 1 (good)\n",
            "\n",
            "review: Product arrived labeled as Jumbo Salted Peanuts...the peanuts were actually small sized unsalted. Not sure if this was an error or if the vendor intended to represent the product as \"Jumbo\".\n",
            "rating: 0 (bad)\n",
            "\n",
            "review: This is a confection that has been around a few centuries.  It is a light, pillowy citrus gelatin with nuts - in this case Filberts. And it is cut into tiny squares and then liberally coated with powdered sugar.  And it is a tiny mouthful of heaven.  Not too chewy, and very flavorful.  I highly recommend this yummy treat.  If you are familiar with the story of C.S. Lewis' \"The Lion, The Witch, and The Wardrobe\" - this is the treat that seduces Edmund into selling out his Brother and Sisters to the Witch.\n",
            "rating: 1 (good)\n",
            "\n",
            "review: If you are looking for the secret ingredient in Robitussin I believe I have found it.  I got this in addition to the Root Beer Extract I ordered (which was good) and made some cherry soda.  The flavor is very medicinal.\n",
            "rating: 0 (bad)\n",
            "\n",
            "review: Great taffy at a great price.  There was a wide assortment of yummy taffy.  Delivery was very quick.  If your a taffy lover, this is a deal.\n",
            "rating: 1 (good)\n",
            "\n",
            "review: I got a wild hair for taffy and ordered this five pound bag. The taffy was all very enjoyable with many flavors: watermelon, root beer, melon, peppermint, grape, etc. My only complaint is there was a bit too much red/black licorice-flavored pieces (just not my particular favorites). Between me, my kids, and my husband, this lasted only two weeks! I would recommend this brand of taffy -- it was a delightful treat.\n",
            "rating: 1 (good)\n",
            "\n",
            "Read 4000 total reviews.\n"
          ],
          "name": "stdout"
        }
      ]
    },
    {
      "cell_type": "markdown",
      "metadata": {
        "id": "twLHWqM6Z5xD"
      },
      "source": [
        "# Part 1: word representations via matrix factorization\n",
        "\n",
        "First, we'll construct the term-document matrix (look at `/content/hw1/lab_util.py` in the file browser on the left if you want to see how this works)."
      ]
    },
    {
      "cell_type": "code",
      "metadata": {
        "id": "3WPt6Y7-Z_7P",
        "colab": {
          "base_uri": "https://localhost:8080/"
        },
        "outputId": "9cf2a7ce-d67b-4b8f-bf9e-0068689d85df"
      },
      "source": [
        "vectorizer = lab_util.CountVectorizer()\n",
        "vectorizer.fit(train_reviews)\n",
        "td_matrix = vectorizer.transform(train_reviews).T\n",
        "print(f\"TD matrix is {td_matrix.shape[0]} x {td_matrix.shape[1]}\")"
      ],
      "execution_count": 6,
      "outputs": [
        {
          "output_type": "stream",
          "text": [
            "TD matrix is 2006 x 3000\n"
          ],
          "name": "stdout"
        }
      ]
    },
    {
      "cell_type": "code",
      "metadata": {
        "id": "MorUH8qLBXaG",
        "colab": {
          "base_uri": "https://localhost:8080/"
        },
        "outputId": "9504dd08-f6ab-4aee-e16d-db4174b036d8"
      },
      "source": [
        "td_matrix"
      ],
      "execution_count": 7,
      "outputs": [
        {
          "output_type": "execute_result",
          "data": {
            "text/plain": [
              "array([[3., 3., 5., ..., 1., 6., 4.],\n",
              "       [1., 0., 0., ..., 0., 0., 0.],\n",
              "       [2., 0., 0., ..., 0., 0., 0.],\n",
              "       ...,\n",
              "       [0., 0., 0., ..., 0., 0., 0.],\n",
              "       [0., 0., 0., ..., 0., 0., 0.],\n",
              "       [0., 0., 0., ..., 0., 0., 0.]])"
            ]
          },
          "metadata": {
            "tags": []
          },
          "execution_count": 7
        }
      ]
    },
    {
      "cell_type": "markdown",
      "metadata": {
        "id": "hd3-pw4XbD4B"
      },
      "source": [
        "First, implement the function `learn_reps_lsa` that computes word representations via latent semantic analysis. The `sklearn.decomposition` or `np.linalg` packages may be useful."
      ]
    },
    {
      "cell_type": "code",
      "metadata": {
        "id": "KASVs8KubeBE"
      },
      "source": [
        "import sklearn.decomposition\n",
        "def learn_reps_lsa(matrix, rep_size):\n",
        "    # `matrix` is a `|V| x n` matrix, where `|V|` is the number of words in the\n",
        "    # vocabulary. This function should return a `|V| x rep_size` matrix with each\n",
        "    # row corresponding to a word representation.\n",
        "\n",
        "    svd = sklearn.decomposition.TruncatedSVD(n_components=rep_size, random_state=42)\n",
        "\n",
        "    matrix_lsa = svd.fit_transform(matrix)\n",
        "\n",
        "    return matrix_lsa\n",
        "\n",
        "    raise NotImplementedError"
      ],
      "execution_count": 8,
      "outputs": []
    },
    {
      "cell_type": "markdown",
      "metadata": {
        "id": "0fxv02wO9LbS"
      },
      "source": [
        "#### Sanity check 1\n",
        "The following cell contains a simple sanity check for your `learn_reps_lsa` implementation: it should print `True` if your `learn_reps_lsa` function is implemented equivalently to one of our solutions.  There are at least two reasonable ways to formulate these LSA word representations (whether you directly use the left singular vectors of `matrix` or scale them by the singular values), these correspond to the two possible representations in the sanity check below."
      ]
    },
    {
      "cell_type": "code",
      "metadata": {
        "id": "KsRlKB9q9Js-",
        "colab": {
          "base_uri": "https://localhost:8080/"
        },
        "outputId": "705059c8-b411-48f9-dfdc-3d0b6334b7e5"
      },
      "source": [
        "DEBUG_sc1_matrix = np.array([[1,0,0,2,1,3,5],\n",
        "                             [2,0,0,0,0,4,0],\n",
        "                             [0,3,4,1,8,6,6],\n",
        "                             [1,4,5,0,0,0,0]])\n",
        "\n",
        "DEBUG_reps = learn_reps_lsa(DEBUG_sc1_matrix, 3)\n",
        "DEBUG_gt1 = np.array([[ -4.92017554,  -2.85465774,   1.18575453],\n",
        "                      [ -2.14977584,  -1.19987977,   3.37221899],\n",
        "                      [-12.62664695,   0.10890093,  -1.32131745],\n",
        "                      [ -2.69216011,   5.66453534,   1.33728063]])\n",
        "DEBUG_gt2 = np.array([[-0.35188159, -0.44213061,  0.29358929],\n",
        "                      [-0.15374788, -0.18583789,  0.83495136],\n",
        "                      [-0.90303377,  0.01686662, -0.32715426],\n",
        "                      [-0.19253817,  0.87732566,  0.3311067 ]])\n",
        "\n",
        "print(np.allclose(np.abs(DEBUG_reps), np.abs(DEBUG_gt1)) or np.allclose(np.abs(DEBUG_reps), np.abs(DEBUG_gt2)))"
      ],
      "execution_count": 9,
      "outputs": [
        {
          "output_type": "stream",
          "text": [
            "True\n"
          ],
          "name": "stdout"
        }
      ]
    },
    {
      "cell_type": "markdown",
      "metadata": {
        "id": "SKWzRC0dclVK"
      },
      "source": [
        "Let's look at some representations:"
      ]
    },
    {
      "cell_type": "code",
      "metadata": {
        "id": "-Ad7RZkwceWw",
        "colab": {
          "base_uri": "https://localhost:8080/"
        },
        "outputId": "902fc2fa-21ef-40bc-8501-7b13f8e889c8"
      },
      "source": [
        "reps = learn_reps_lsa(td_matrix, 500)\n",
        "words = [\"good\", \"bad\", \"cookie\", \"jelly\", \"dog\", \"the\", \"4\"]\n",
        "show_tokens = [vectorizer.tokenizer.word_to_token[word] for word in words]\n",
        "lab_util.show_similar_words(vectorizer.tokenizer, reps, show_tokens)"
      ],
      "execution_count": 10,
      "outputs": [
        {
          "output_type": "stream",
          "text": [
            "good 47\n",
            "  . 1.056\n",
            "  a 1.101\n",
            "  but 1.121\n",
            "  , 1.152\n",
            "  the 1.157\n",
            "bad 201\n",
            "  . 1.396\n",
            "  taste 1.416\n",
            "  but 1.434\n",
            "  a 1.435\n",
            "  i 1.449\n",
            "cookie 504\n",
            "  nana's 0.795\n",
            "  cookies 1.012\n",
            "  oreos 1.272\n",
            "  bars 1.384\n",
            "  bites 1.404\n",
            "jelly 351\n",
            "  twist 1.076\n",
            "  cardboard 1.231\n",
            "  peanuts 1.393\n",
            "  advertised 1.399\n",
            "  plastic 1.469\n",
            "dog 925\n",
            "  food 1.049\n",
            "  pet 1.067\n",
            "  pets 1.070\n",
            "  switched 1.203\n",
            "  foods 1.227\n",
            "the 36\n",
            "  . 0.331\n",
            "  <unk> 0.366\n",
            "  of 0.395\n",
            "  and 0.403\n",
            "  to 0.422\n",
            "4 292\n",
            "  1 1.047\n",
            "  6 1.121\n",
            "  70 1.132\n",
            "  stevia 1.195\n",
            "  concentrated 1.245\n"
          ],
          "name": "stdout"
        }
      ]
    },
    {
      "cell_type": "markdown",
      "metadata": {
        "id": "LsOAGLB3iRjT"
      },
      "source": [
        "We've been operating on the raw count matrix, but in class we discussed several reweighting schemes aimed at making LSA representations more informative. \n",
        "\n",
        "Here, implement the TF-IDF transform and see how it affects learned representations."
      ]
    },
    {
      "cell_type": "code",
      "metadata": {
        "id": "1y3PmW-IgpqA"
      },
      "source": [
        "# from sklearn.feature_extraction.text import TfidfVectorizer\n",
        "\n",
        "def transform_tfidf(matrix):\n",
        "    # `matrix` is a `|V| x |D|` matrix of raw counts, where `|V|` is the \n",
        "    # vocabulary size and `|D|` is the number of documents in the corpus. This\n",
        "    # function should (nondestructively) return a version of `matrix` with the\n",
        "    # TF-IDF transform appliied.\n",
        "\n",
        "    # words_in_document = np.sum(matrix, axis = 0)\n",
        "\n",
        "    TF = matrix\n",
        "\n",
        "    # TF = np.log(1+matrix)\n",
        "\n",
        "    nonzero_matrix = matrix!=0\n",
        "    nonzero_matrix = nonzero_matrix*1\n",
        "\n",
        "    frequencies = np.sum(nonzero_matrix, axis = 1)\n",
        "\n",
        "    IDF = np.log(matrix.shape[1]/frequencies)\n",
        "\n",
        "    TFIDF = TF.transpose(1,0)*IDF\n",
        "\n",
        "    TFIDF = TFIDF.transpose(1,0)\n",
        "\n",
        "    return TFIDF\n",
        "\n",
        "    # Your code here!\n",
        "    raise NotImplementedError"
      ],
      "execution_count": 11,
      "outputs": []
    },
    {
      "cell_type": "markdown",
      "metadata": {
        "id": "CnfIOUYjEZjw"
      },
      "source": [
        "#### Sanity check 2\n",
        "The following cell should print `True` if your `transform_tfidf` function is implemented properly. (*Hint: in our implementation, we use the natural logarithm (base $e$) when computing inverse document frequency.*)"
      ]
    },
    {
      "cell_type": "code",
      "metadata": {
        "id": "KVtphNeDEj2W",
        "colab": {
          "base_uri": "https://localhost:8080/"
        },
        "outputId": "1f3a60eb-1aa3-4709-b0bf-b1d5ba14db08"
      },
      "source": [
        "DEBUG_sc2_matrix = np.array([[3,1,0,3,0],\n",
        "                             [0,2,0,0,1],\n",
        "                             [7,8,2,0,1],\n",
        "                             [1,9,8,1,0]])\n",
        "DEBUG_gt = np.array([[1.53247687, 0.51082562, 0.        , 1.53247687, 0.        ],\n",
        "                     [0.        , 1.83258146, 0.        , 0.        , 0.91629073],\n",
        "                     [1.56200486, 1.78514841, 0.4462871 , 0.        , 0.22314355],\n",
        "                     [0.22314355, 2.00829196, 1.78514841, 0.22314355, 0.        ]])\n",
        "print(np.allclose(transform_tfidf(DEBUG_sc2_matrix), DEBUG_gt))"
      ],
      "execution_count": 12,
      "outputs": [
        {
          "output_type": "stream",
          "text": [
            "True\n"
          ],
          "name": "stdout"
        }
      ]
    },
    {
      "cell_type": "markdown",
      "metadata": {
        "id": "xOprgqzHi7bk"
      },
      "source": [
        "How does this change the learned similarity function?\n"
      ]
    },
    {
      "cell_type": "code",
      "metadata": {
        "id": "SV5xKLYTi7LA",
        "colab": {
          "base_uri": "https://localhost:8080/"
        },
        "outputId": "b39468ae-37d5-4939-f9e5-2989222f9002"
      },
      "source": [
        "td_matrix_tfidf = transform_tfidf(td_matrix)\n",
        "# reps_tfidf = learn_reps_lsa(td_matrix_tfidf, 500)\n",
        "reps_tfidf = learn_reps_lsa(td_matrix_tfidf, 100)\n",
        "lab_util.show_similar_words(vectorizer.tokenizer, reps_tfidf, show_tokens)"
      ],
      "execution_count": 13,
      "outputs": [
        {
          "output_type": "stream",
          "text": [
            "good 47\n",
            "  but 0.449\n",
            "  . 0.513\n",
            "  for 0.595\n",
            "  as 0.596\n",
            "  not 0.611\n",
            "bad 201\n",
            "  like 0.609\n",
            "  taste 0.630\n",
            "  but 0.695\n",
            "  me 0.777\n",
            "  . 0.779\n",
            "cookie 504\n",
            "  cookies 0.388\n",
            "  nana's 0.467\n",
            "  oreos 0.745\n",
            "  bars 0.916\n",
            "  hope 0.949\n",
            "jelly 351\n",
            "  creamer 0.864\n",
            "  gifts 0.960\n",
            "  twist 1.003\n",
            "  advertised 1.084\n",
            "  cardboard 1.128\n",
            "dog 925\n",
            "  pet 0.744\n",
            "  foods 0.779\n",
            "  switched 0.796\n",
            "  pets 0.825\n",
            "  food 0.859\n",
            "the 36\n",
            "  . 0.121\n",
            "  of 0.154\n",
            "  to 0.164\n",
            "  and 0.164\n",
            "  <unk> 0.212\n",
            "4 292\n",
            "  6 0.469\n",
            "  1 0.507\n",
            "  70 0.685\n",
            "  2 0.731\n",
            "  concentrated 0.818\n"
          ],
          "name": "stdout"
        }
      ]
    },
    {
      "cell_type": "markdown",
      "metadata": {
        "id": "HO-NG4u1kG9z"
      },
      "source": [
        "Now that we have some representations, let's see if we can do something useful with them.\n",
        "\n",
        "Below, implement a feature function that represents a document as the sum of its\n",
        "learned word embeddings.\n",
        "\n",
        "The remaining code trains a logistic regression model on a set of *labeled* reviews; we're interested in seeing how much representations learned from *unlabeled* reviews improve classification."
      ]
    },
    {
      "cell_type": "code",
      "metadata": {
        "id": "6B08xvIFlee3",
        "colab": {
          "base_uri": "https://localhost:8080/"
        },
        "outputId": "a710c139-7357-4538-e726-0cd0ea0af007"
      },
      "source": [
        "import sklearn.linear_model\n",
        "\n",
        "def word_featurizer(xs):\n",
        "    # normalize\n",
        "    return xs / np.sqrt((xs ** 2).sum(axis=1, keepdims=True))\n",
        "\n",
        "def lsa_featurizer(xs):\n",
        "    # This function takes in a matrix in which each row contains the word counts\n",
        "    # for the given review. It should return a matrix in which each row contains\n",
        "    # the learned feature representation of each review (e.g. the sum of LSA \n",
        "    # word representations).\n",
        "\n",
        "    feats = xs @ reps_tfidf\n",
        "\n",
        "    # normalize\n",
        "    return feats / np.sqrt((feats ** 2).sum(axis=1, keepdims=True))\n",
        "\n",
        "# We've implemented the remainder of the training and evaluation pipeline,\n",
        "# so you likely won't need to modify the following four functions.\n",
        "def combo_featurizer(xs):\n",
        "    return np.concatenate((word_featurizer(xs), lsa_featurizer(xs)), axis=1)\n",
        "\n",
        "def train_model(featurizer, xs, ys):\n",
        "    xs_featurized = featurizer(xs)\n",
        "    model = sklearn.linear_model.LogisticRegression()\n",
        "    model.fit(xs_featurized, ys)\n",
        "    return model\n",
        "\n",
        "def eval_model(model, featurizer, xs, ys):\n",
        "    xs_featurized = featurizer(xs)\n",
        "    pred_ys = model.predict(xs_featurized)\n",
        "    return np.mean(pred_ys == ys)\n",
        "\n",
        "def training_experiment(name, featurizer, n_train):\n",
        "    print(f\"{name} features, {n_train} examples\")\n",
        "    train_xs = vectorizer.transform(train_reviews[:n_train])\n",
        "    train_ys = train_labels[:n_train]\n",
        "    test_xs = vectorizer.transform(test_reviews)\n",
        "    test_ys = test_labels\n",
        "    model = train_model(featurizer, train_xs, train_ys)\n",
        "    acc = eval_model(model, featurizer, test_xs, test_ys)\n",
        "    print(acc, '\\n')\n",
        "    return acc\n",
        "\n",
        "# The following four lines will run a training experiment with all 3k examples\n",
        "# in training set for each feature type. `training_experiment` may be useful to\n",
        "# you when performing experiments to answer questions in Part 1 of the Homework\n",
        "# 1 handout.\n",
        "n_train = 3000\n",
        "training_experiment(\"word\", word_featurizer, n_train)\n",
        "training_experiment(\"lsa\", lsa_featurizer, n_train)\n",
        "training_experiment(\"combo\", combo_featurizer, n_train)\n",
        "print()"
      ],
      "execution_count": 14,
      "outputs": [
        {
          "output_type": "stream",
          "text": [
            "word features, 3000 examples\n",
            "0.784 \n",
            "\n",
            "lsa features, 3000 examples\n",
            "0.754 \n",
            "\n",
            "combo features, 3000 examples\n",
            "0.792 \n",
            "\n",
            "\n"
          ],
          "name": "stdout"
        }
      ]
    },
    {
      "cell_type": "markdown",
      "metadata": {
        "id": "rpXziVNrlfp2"
      },
      "source": [
        "**Part 1: Lab writeup**\n",
        "\n",
        "Part 1 of your lab report should discuss any implementation details that were important to filling out the code above, as well as your answers to the questions in Part 1 of the Homework 1 handout. Below, you can set up and perform experiments that answer these questions (include figures, plots, and tables in your write-up as you see fit)."
      ]
    },
    {
      "cell_type": "markdown",
      "metadata": {
        "id": "L3WrzsHhC1I5"
      },
      "source": [
        "## Experiments for Part 1"
      ]
    },
    {
      "cell_type": "code",
      "metadata": {
        "id": "aTVF9JdRNOsx",
        "colab": {
          "base_uri": "https://localhost:8080/"
        },
        "outputId": "655689b7-8f05-456f-e054-5220368014c7"
      },
      "source": [
        "# (a)\n",
        "\n",
        "W_td = DEBUG_sc2_matrix\n",
        "W_tt = np.matmul(W_td, W_td.transpose())\n",
        "\n",
        "u, s, vh = np.linalg.svd(W_td, full_matrices=True)\n",
        "u"
      ],
      "execution_count": 15,
      "outputs": [
        {
          "output_type": "execute_result",
          "data": {
            "text/plain": [
              "array([[-0.139126  , -0.40244616,  0.88442143, -0.19099681],\n",
              "       [-0.10685017, -0.00643125, -0.22869359, -0.96759543],\n",
              "       [-0.64840265, -0.64955514, -0.36266492,  0.16163628],\n",
              "       [-0.74081105,  0.64503786,  0.18431532,  0.03395598]])"
            ]
          },
          "metadata": {
            "tags": []
          },
          "execution_count": 15
        }
      ]
    },
    {
      "cell_type": "code",
      "metadata": {
        "colab": {
          "base_uri": "https://localhost:8080/"
        },
        "id": "KQHuyZWYX5y7",
        "outputId": "b420dded-ae86-4628-ab62-b92674041c97"
      },
      "source": [
        "u, s, vh = np.linalg.svd(W_tt, full_matrices=True)\n",
        "u"
      ],
      "execution_count": 16,
      "outputs": [
        {
          "output_type": "execute_result",
          "data": {
            "text/plain": [
              "array([[-0.139126  ,  0.40244616,  0.88442143, -0.19099681],\n",
              "       [-0.10685017,  0.00643125, -0.22869359, -0.96759543],\n",
              "       [-0.64840265,  0.64955514, -0.36266492,  0.16163628],\n",
              "       [-0.74081105, -0.64503786,  0.18431532,  0.03395598]])"
            ]
          },
          "metadata": {
            "tags": []
          },
          "execution_count": 16
        }
      ]
    },
    {
      "cell_type": "code",
      "metadata": {
        "colab": {
          "base_uri": "https://localhost:8080/"
        },
        "id": "L4r1rna2YJRU",
        "outputId": "7d96d720-5def-46ec-c3b6-4dddeec9bac1"
      },
      "source": [
        "# (b)\n",
        "\n",
        "reps = learn_reps_lsa(td_matrix, 10)\n",
        "words = [\"the\", \"dog\", \"3\", \"good\"]\n",
        "show_tokens = [vectorizer.tokenizer.word_to_token[word] for word in words]\n",
        "lab_util.show_similar_words(vectorizer.tokenizer, reps, show_tokens)"
      ],
      "execution_count": 17,
      "outputs": [
        {
          "output_type": "stream",
          "text": [
            "the 36\n",
            "  same 0.052\n",
            "  date 0.070\n",
            "  cans 0.095\n",
            "  idea 0.100\n",
            "  small 0.100\n",
            "dog 925\n",
            "  dogs 0.086\n",
            "  vet 0.087\n",
            "  food 0.100\n",
            "  companies 0.105\n",
            "  cat 0.115\n",
            "3 289\n",
            "  itself 0.063\n",
            "  kind 0.076\n",
            "  particular 0.094\n",
            "  stars 0.096\n",
            "  per 0.097\n",
            "good 47\n",
            "  better 0.045\n",
            "  like 0.059\n",
            "  too 0.066\n",
            "  strong 0.070\n",
            "  otherwise 0.076\n"
          ],
          "name": "stdout"
        }
      ]
    },
    {
      "cell_type": "code",
      "metadata": {
        "colab": {
          "base_uri": "https://localhost:8080/"
        },
        "id": "h8yS4T3qYJTv",
        "outputId": "3d79107c-e349-4d55-e5fe-0184a496e802"
      },
      "source": [
        "reps = learn_reps_lsa(td_matrix, 100)\n",
        "words = [\"the\", \"dog\", \"3\", \"good\"]\n",
        "show_tokens = [vectorizer.tokenizer.word_to_token[word] for word in words]\n",
        "lab_util.show_similar_words(vectorizer.tokenizer, reps, show_tokens)"
      ],
      "execution_count": 18,
      "outputs": [
        {
          "output_type": "stream",
          "text": [
            "the 36\n",
            "  . 0.331\n",
            "  <unk> 0.366\n",
            "  of 0.395\n",
            "  and 0.402\n",
            "  to 0.422\n",
            "dog 925\n",
            "  pet 0.539\n",
            "  pets 0.561\n",
            "  foods 0.588\n",
            "  dogs 0.653\n",
            "  nutritious 0.667\n",
            "3 289\n",
            "  1 0.636\n",
            "  per 0.649\n",
            "  2 0.682\n",
            "  8 0.688\n",
            "  4 0.793\n",
            "good 47\n",
            "  pretty 0.837\n",
            "  everyone 0.983\n",
            "  . 1.049\n",
            "  beat 1.066\n",
            "  tasting 1.077\n"
          ],
          "name": "stdout"
        }
      ]
    },
    {
      "cell_type": "code",
      "metadata": {
        "colab": {
          "base_uri": "https://localhost:8080/"
        },
        "id": "8YqMc1W0YJV3",
        "outputId": "f01352c7-2071-48f7-f762-a07e2b7fab6e"
      },
      "source": [
        "reps = learn_reps_lsa(td_matrix, 500)\n",
        "words = [\"the\", \"dog\", \"3\", \"good\"]\n",
        "show_tokens = [vectorizer.tokenizer.word_to_token[word] for word in words]\n",
        "lab_util.show_similar_words(vectorizer.tokenizer, reps, show_tokens)"
      ],
      "execution_count": 19,
      "outputs": [
        {
          "output_type": "stream",
          "text": [
            "the 36\n",
            "  . 0.331\n",
            "  <unk> 0.366\n",
            "  of 0.395\n",
            "  and 0.403\n",
            "  to 0.422\n",
            "dog 925\n",
            "  food 1.049\n",
            "  pet 1.067\n",
            "  pets 1.070\n",
            "  switched 1.203\n",
            "  foods 1.227\n",
            "3 289\n",
            "  8 1.214\n",
            "  . 1.239\n",
            "  the 1.271\n",
            "  to 1.272\n",
            "  <unk> 1.279\n",
            "good 47\n",
            "  . 1.056\n",
            "  a 1.101\n",
            "  but 1.121\n",
            "  , 1.152\n",
            "  the 1.157\n"
          ],
          "name": "stdout"
        }
      ]
    },
    {
      "cell_type": "code",
      "metadata": {
        "colab": {
          "base_uri": "https://localhost:8080/"
        },
        "id": "-ZGTvKi4YJYI",
        "outputId": "55ec372f-fdba-4022-c64e-6c6b237fe243"
      },
      "source": [
        "reps = learn_reps_lsa(td_matrix, 1000)\n",
        "words = [\"the\", \"dog\", \"3\", \"good\"]\n",
        "show_tokens = [vectorizer.tokenizer.word_to_token[word] for word in words]\n",
        "lab_util.show_similar_words(vectorizer.tokenizer, reps, show_tokens)"
      ],
      "execution_count": 20,
      "outputs": [
        {
          "output_type": "stream",
          "text": [
            "the 36\n",
            "  . 0.331\n",
            "  <unk> 0.366\n",
            "  of 0.395\n",
            "  and 0.403\n",
            "  to 0.422\n",
            "dog 925\n",
            "  food 1.054\n",
            "  pets 1.154\n",
            "  pet 1.181\n",
            "  foods 1.267\n",
            "  dogs 1.313\n",
            "3 289\n",
            "  . 1.242\n",
            "  8 1.249\n",
            "  the 1.274\n",
            "  to 1.276\n",
            "  <unk> 1.282\n",
            "good 47\n",
            "  . 1.056\n",
            "  a 1.102\n",
            "  but 1.121\n",
            "  , 1.152\n",
            "  the 1.157\n"
          ],
          "name": "stdout"
        }
      ]
    },
    {
      "cell_type": "code",
      "metadata": {
        "id": "GPSi_qmhYwWn",
        "colab": {
          "base_uri": "https://localhost:8080/"
        },
        "outputId": "367e78e2-53c3-4978-8371-8a4132ffefd1"
      },
      "source": [
        "# (c)\n",
        "\n",
        "td_matrix_tfidf = transform_tfidf(td_matrix)\n",
        "# reps_tfidf = learn_reps_lsa(td_matrix_tfidf, 500)\n",
        "reps_tfidf = learn_reps_lsa(td_matrix_tfidf, 10)\n",
        "lab_util.show_similar_words(vectorizer.tokenizer, reps_tfidf, show_tokens)\n",
        "\n",
        "n_train = 3000\n",
        "training_experiment(\"word\", word_featurizer, n_train)\n",
        "training_experiment(\"lsa\", lsa_featurizer, n_train)\n",
        "training_experiment(\"combo\", combo_featurizer, n_train)\n",
        "print()"
      ],
      "execution_count": 21,
      "outputs": [
        {
          "output_type": "stream",
          "text": [
            "the 36\n",
            "  . 0.019\n",
            "  in 0.019\n",
            "  be 0.024\n",
            "  that 0.027\n",
            "  a 0.027\n",
            "dog 925\n",
            "  dogs 0.065\n",
            "  him 0.069\n",
            "  he 0.099\n",
            "  lamb 0.110\n",
            "  baby 0.117\n",
            "3 289\n",
            "  considering 0.048\n",
            "  spent 0.094\n",
            "  daily 0.105\n",
            "  based 0.118\n",
            "  particular 0.118\n",
            "good 47\n",
            "  very 0.043\n",
            "  . 0.051\n",
            "  but 0.053\n",
            "  much 0.062\n",
            "  like 0.064\n",
            "word features, 3000 examples\n",
            "0.784 \n",
            "\n",
            "lsa features, 3000 examples\n",
            "0.602 \n",
            "\n",
            "combo features, 3000 examples\n",
            "0.788 \n",
            "\n",
            "\n"
          ],
          "name": "stdout"
        }
      ]
    },
    {
      "cell_type": "code",
      "metadata": {
        "id": "BniTyIrlYwZa",
        "colab": {
          "base_uri": "https://localhost:8080/"
        },
        "outputId": "8d308a1f-835c-4321-8bc0-4e85cd99ef86"
      },
      "source": [
        "td_matrix_tfidf = transform_tfidf(td_matrix)\n",
        "# reps_tfidf = learn_reps_lsa(td_matrix_tfidf, 500)\n",
        "reps_tfidf = learn_reps_lsa(td_matrix_tfidf, 100)\n",
        "lab_util.show_similar_words(vectorizer.tokenizer, reps_tfidf, show_tokens)\n",
        "\n",
        "n_train = 3000\n",
        "training_experiment(\"word\", word_featurizer, n_train)\n",
        "training_experiment(\"lsa\", lsa_featurizer, n_train)\n",
        "training_experiment(\"combo\", combo_featurizer, n_train)\n",
        "print()"
      ],
      "execution_count": 22,
      "outputs": [
        {
          "output_type": "stream",
          "text": [
            "the 36\n",
            "  . 0.121\n",
            "  of 0.154\n",
            "  to 0.164\n",
            "  and 0.164\n",
            "  <unk> 0.212\n",
            "dog 925\n",
            "  pet 0.744\n",
            "  foods 0.779\n",
            "  switched 0.796\n",
            "  pets 0.825\n",
            "  food 0.859\n",
            "3 289\n",
            "  8 0.760\n",
            "  1 0.769\n",
            "  2 0.776\n",
            "  4 0.868\n",
            "  per 0.869\n",
            "good 47\n",
            "  but 0.449\n",
            "  . 0.513\n",
            "  for 0.595\n",
            "  as 0.596\n",
            "  not 0.611\n",
            "word features, 3000 examples\n",
            "0.784 \n",
            "\n",
            "lsa features, 3000 examples\n",
            "0.754 \n",
            "\n",
            "combo features, 3000 examples\n",
            "0.792 \n",
            "\n",
            "\n"
          ],
          "name": "stdout"
        }
      ]
    },
    {
      "cell_type": "code",
      "metadata": {
        "id": "gCWI6AqIYxIn",
        "colab": {
          "base_uri": "https://localhost:8080/"
        },
        "outputId": "ad40f3bb-d67a-4a57-c473-e2ce075b899e"
      },
      "source": [
        "td_matrix_tfidf = transform_tfidf(td_matrix)\n",
        "# reps_tfidf = learn_reps_lsa(td_matrix_tfidf, 500)\n",
        "reps_tfidf = learn_reps_lsa(td_matrix_tfidf, 500)\n",
        "lab_util.show_similar_words(vectorizer.tokenizer, reps_tfidf, show_tokens)\n",
        "\n",
        "n_train = 3000\n",
        "training_experiment(\"word\", word_featurizer, n_train)\n",
        "training_experiment(\"lsa\", lsa_featurizer, n_train)\n",
        "training_experiment(\"combo\", combo_featurizer, n_train)\n",
        "print()"
      ],
      "execution_count": 23,
      "outputs": [
        {
          "output_type": "stream",
          "text": [
            "the 36\n",
            "  . 0.214\n",
            "  and 0.269\n",
            "  <unk> 0.290\n",
            "  of 0.304\n",
            "  to 0.324\n",
            "dog 925\n",
            "  food 1.030\n",
            "  pets 1.097\n",
            "  pet 1.105\n",
            "  foods 1.189\n",
            "  switched 1.250\n",
            "3 289\n",
            "  8 1.148\n",
            "  . 1.173\n",
            "  to 1.214\n",
            "  the 1.215\n",
            "  of 1.231\n",
            "good 47\n",
            "  . 0.983\n",
            "  but 1.011\n",
            "  a 1.032\n",
            "  and 1.087\n",
            "  is 1.095\n",
            "word features, 3000 examples\n",
            "0.784 \n",
            "\n",
            "lsa features, 3000 examples\n",
            "0.758 \n",
            "\n",
            "combo features, 3000 examples\n",
            "0.794 \n",
            "\n",
            "\n"
          ],
          "name": "stdout"
        }
      ]
    },
    {
      "cell_type": "code",
      "metadata": {
        "id": "WZ2DySByYxLb",
        "colab": {
          "base_uri": "https://localhost:8080/"
        },
        "outputId": "9d58bace-b2c4-41ac-ac7b-cb7886fcdaff"
      },
      "source": [
        "td_matrix_tfidf = transform_tfidf(td_matrix)\n",
        "# reps_tfidf = learn_reps_lsa(td_matrix_tfidf, 500)\n",
        "reps_tfidf = learn_reps_lsa(td_matrix_tfidf, 1000)\n",
        "lab_util.show_similar_words(vectorizer.tokenizer, reps_tfidf, show_tokens)\n",
        "\n",
        "n_train = 3000\n",
        "training_experiment(\"word\", word_featurizer, n_train)\n",
        "training_experiment(\"lsa\", lsa_featurizer, n_train)\n",
        "training_experiment(\"combo\", combo_featurizer, n_train)\n",
        "print()"
      ],
      "execution_count": 24,
      "outputs": [
        {
          "output_type": "stream",
          "text": [
            "the 36\n",
            "  . 0.264\n",
            "  <unk> 0.328\n",
            "  and 0.341\n",
            "  of 0.362\n",
            "  to 0.383\n",
            "dog 925\n",
            "  food 1.050\n",
            "  pets 1.162\n",
            "  pet 1.182\n",
            "  foods 1.257\n",
            "  dogs 1.311\n",
            "3 289\n",
            "  . 1.217\n",
            "  8 1.231\n",
            "  the 1.261\n",
            "  to 1.263\n",
            "  <unk> 1.271\n",
            "good 47\n",
            "  . 1.028\n",
            "  a 1.082\n",
            "  but 1.104\n",
            "  and 1.138\n",
            "  the 1.143\n",
            "word features, 3000 examples\n",
            "0.784 \n",
            "\n",
            "lsa features, 3000 examples\n",
            "0.756 \n",
            "\n",
            "combo features, 3000 examples\n",
            "0.794 \n",
            "\n",
            "\n"
          ],
          "name": "stdout"
        }
      ]
    },
    {
      "cell_type": "code",
      "metadata": {
        "id": "Ub_JmcevYxOB",
        "colab": {
          "base_uri": "https://localhost:8080/"
        },
        "outputId": "02b92ed6-56ad-4884-f700-a513aceaa91a"
      },
      "source": [
        "td_matrix_tfidf = transform_tfidf(td_matrix)\n",
        "reps_tfidf = learn_reps_lsa(td_matrix_tfidf, 500)\n",
        "lab_util.show_similar_words(vectorizer.tokenizer, reps_tfidf, show_tokens)\n",
        "\n",
        "n_train = 10\n",
        "training_experiment(\"word\", word_featurizer, n_train)\n",
        "training_experiment(\"lsa\", lsa_featurizer, n_train)\n",
        "training_experiment(\"combo\", combo_featurizer, n_train)\n",
        "print()"
      ],
      "execution_count": 25,
      "outputs": [
        {
          "output_type": "stream",
          "text": [
            "the 36\n",
            "  . 0.214\n",
            "  and 0.269\n",
            "  <unk> 0.290\n",
            "  of 0.304\n",
            "  to 0.324\n",
            "dog 925\n",
            "  food 1.030\n",
            "  pets 1.097\n",
            "  pet 1.105\n",
            "  foods 1.189\n",
            "  switched 1.250\n",
            "3 289\n",
            "  8 1.148\n",
            "  . 1.173\n",
            "  to 1.214\n",
            "  the 1.215\n",
            "  of 1.231\n",
            "good 47\n",
            "  . 0.983\n",
            "  but 1.011\n",
            "  a 1.032\n",
            "  and 1.087\n",
            "  is 1.095\n",
            "word features, 10 examples\n",
            "0.496 \n",
            "\n",
            "lsa features, 10 examples\n",
            "0.474 \n",
            "\n",
            "combo features, 10 examples\n",
            "0.496 \n",
            "\n",
            "\n"
          ],
          "name": "stdout"
        }
      ]
    },
    {
      "cell_type": "code",
      "metadata": {
        "colab": {
          "base_uri": "https://localhost:8080/"
        },
        "id": "L0GvdRXlUFb_",
        "outputId": "489e5e2a-6b71-4dc2-dba9-d8a1ddb2f3e2"
      },
      "source": [
        "td_matrix_tfidf = transform_tfidf(td_matrix)\n",
        "reps_tfidf = learn_reps_lsa(td_matrix_tfidf, 500)\n",
        "lab_util.show_similar_words(vectorizer.tokenizer, reps_tfidf, show_tokens)\n",
        "\n",
        "n_train = 100\n",
        "training_experiment(\"word\", word_featurizer, n_train)\n",
        "training_experiment(\"lsa\", lsa_featurizer, n_train)\n",
        "training_experiment(\"combo\", combo_featurizer, n_train)\n",
        "print()"
      ],
      "execution_count": 26,
      "outputs": [
        {
          "output_type": "stream",
          "text": [
            "the 36\n",
            "  . 0.214\n",
            "  and 0.269\n",
            "  <unk> 0.290\n",
            "  of 0.304\n",
            "  to 0.324\n",
            "dog 925\n",
            "  food 1.030\n",
            "  pets 1.097\n",
            "  pet 1.105\n",
            "  foods 1.189\n",
            "  switched 1.250\n",
            "3 289\n",
            "  8 1.148\n",
            "  . 1.173\n",
            "  to 1.214\n",
            "  the 1.215\n",
            "  of 1.231\n",
            "good 47\n",
            "  . 0.983\n",
            "  but 1.011\n",
            "  a 1.032\n",
            "  and 1.087\n",
            "  is 1.095\n",
            "word features, 100 examples\n",
            "0.616 \n",
            "\n",
            "lsa features, 100 examples\n",
            "0.614 \n",
            "\n",
            "combo features, 100 examples\n",
            "0.626 \n",
            "\n",
            "\n"
          ],
          "name": "stdout"
        }
      ]
    },
    {
      "cell_type": "code",
      "metadata": {
        "colab": {
          "base_uri": "https://localhost:8080/"
        },
        "id": "QlUefeeqUFen",
        "outputId": "351e5c0c-ca12-4c15-952b-75497fcbc9d7"
      },
      "source": [
        "td_matrix_tfidf = transform_tfidf(td_matrix)\n",
        "reps_tfidf = learn_reps_lsa(td_matrix_tfidf, 500)\n",
        "lab_util.show_similar_words(vectorizer.tokenizer, reps_tfidf, show_tokens)\n",
        "\n",
        "n_train = 1000\n",
        "training_experiment(\"word\", word_featurizer, n_train)\n",
        "training_experiment(\"lsa\", lsa_featurizer, n_train)\n",
        "training_experiment(\"combo\", combo_featurizer, n_train)\n",
        "print()"
      ],
      "execution_count": 27,
      "outputs": [
        {
          "output_type": "stream",
          "text": [
            "the 36\n",
            "  . 0.214\n",
            "  and 0.269\n",
            "  <unk> 0.290\n",
            "  of 0.304\n",
            "  to 0.324\n",
            "dog 925\n",
            "  food 1.030\n",
            "  pets 1.097\n",
            "  pet 1.105\n",
            "  foods 1.189\n",
            "  switched 1.250\n",
            "3 289\n",
            "  8 1.148\n",
            "  . 1.173\n",
            "  to 1.214\n",
            "  the 1.215\n",
            "  of 1.231\n",
            "good 47\n",
            "  . 0.983\n",
            "  but 1.011\n",
            "  a 1.032\n",
            "  and 1.087\n",
            "  is 1.095\n",
            "word features, 1000 examples\n",
            "0.784 \n",
            "\n",
            "lsa features, 1000 examples\n",
            "0.734 \n",
            "\n",
            "combo features, 1000 examples\n",
            "0.782 \n",
            "\n",
            "\n"
          ],
          "name": "stdout"
        }
      ]
    },
    {
      "cell_type": "code",
      "metadata": {
        "colab": {
          "base_uri": "https://localhost:8080/"
        },
        "id": "Rk_aFiFQUFg-",
        "outputId": "d09acfcc-5317-48af-9fda-3fc519a239f7"
      },
      "source": [
        "td_matrix_tfidf = transform_tfidf(td_matrix)\n",
        "reps_tfidf = learn_reps_lsa(td_matrix_tfidf, 500)\n",
        "lab_util.show_similar_words(vectorizer.tokenizer, reps_tfidf, show_tokens)\n",
        "\n",
        "n_train = 3000\n",
        "training_experiment(\"word\", word_featurizer, n_train)\n",
        "training_experiment(\"lsa\", lsa_featurizer, n_train)\n",
        "training_experiment(\"combo\", combo_featurizer, n_train)\n",
        "print()"
      ],
      "execution_count": 28,
      "outputs": [
        {
          "output_type": "stream",
          "text": [
            "the 36\n",
            "  . 0.214\n",
            "  and 0.269\n",
            "  <unk> 0.290\n",
            "  of 0.304\n",
            "  to 0.324\n",
            "dog 925\n",
            "  food 1.030\n",
            "  pets 1.097\n",
            "  pet 1.105\n",
            "  foods 1.189\n",
            "  switched 1.250\n",
            "3 289\n",
            "  8 1.148\n",
            "  . 1.173\n",
            "  to 1.214\n",
            "  the 1.215\n",
            "  of 1.231\n",
            "good 47\n",
            "  . 0.983\n",
            "  but 1.011\n",
            "  a 1.032\n",
            "  and 1.087\n",
            "  is 1.095\n",
            "word features, 3000 examples\n",
            "0.784 \n",
            "\n",
            "lsa features, 3000 examples\n",
            "0.758 \n",
            "\n",
            "combo features, 3000 examples\n",
            "0.794 \n",
            "\n",
            "\n"
          ],
          "name": "stdout"
        }
      ]
    },
    {
      "cell_type": "code",
      "metadata": {
        "colab": {
          "base_uri": "https://localhost:8080/"
        },
        "id": "t81CCbT_UFjL",
        "outputId": "aaa289bd-99f5-4a20-c67b-b80b2e623676"
      },
      "source": [
        "td_matrix_tfidf = transform_tfidf(td_matrix)\n",
        "reps_tfidf = learn_reps_lsa(td_matrix_tfidf, 500)\n",
        "lab_util.show_similar_words(vectorizer.tokenizer, reps_tfidf, show_tokens)\n",
        "\n",
        "n_train = 10000\n",
        "training_experiment(\"word\", word_featurizer, n_train)\n",
        "training_experiment(\"lsa\", lsa_featurizer, n_train)\n",
        "training_experiment(\"combo\", combo_featurizer, n_train)\n",
        "print()"
      ],
      "execution_count": 29,
      "outputs": [
        {
          "output_type": "stream",
          "text": [
            "the 36\n",
            "  . 0.214\n",
            "  and 0.269\n",
            "  <unk> 0.290\n",
            "  of 0.304\n",
            "  to 0.324\n",
            "dog 925\n",
            "  food 1.030\n",
            "  pets 1.097\n",
            "  pet 1.105\n",
            "  foods 1.189\n",
            "  switched 1.250\n",
            "3 289\n",
            "  8 1.148\n",
            "  . 1.173\n",
            "  to 1.214\n",
            "  the 1.215\n",
            "  of 1.231\n",
            "good 47\n",
            "  . 0.983\n",
            "  but 1.011\n",
            "  a 1.032\n",
            "  and 1.087\n",
            "  is 1.095\n",
            "word features, 10000 examples\n",
            "0.784 \n",
            "\n",
            "lsa features, 10000 examples\n",
            "0.758 \n",
            "\n",
            "combo features, 10000 examples\n",
            "0.794 \n",
            "\n",
            "\n"
          ],
          "name": "stdout"
        }
      ]
    },
    {
      "cell_type": "code",
      "metadata": {
        "id": "bEGc0RftUFlm"
      },
      "source": [
        ""
      ],
      "execution_count": 29,
      "outputs": []
    },
    {
      "cell_type": "code",
      "metadata": {
        "id": "fDPI2E16UFoQ"
      },
      "source": [
        ""
      ],
      "execution_count": 29,
      "outputs": []
    },
    {
      "cell_type": "markdown",
      "metadata": {
        "id": "AxfunCYh5nmZ"
      },
      "source": [
        "## Part 2: word representations via language modeling\n",
        "\n",
        "In this section, we'll train a word embedding model with a word2vec-style objective rather than a matrix factorization objective. This requires a little more work; we've provided scaffolding for a PyTorch model implementation below.\n",
        "If you don't have much PyTorch experience, there are some tutorials [here](https://pytorch.org/tutorials/) which may be useful. You're also welcome to implement these experiments in any other framework of your choosing."
      ]
    },
    {
      "cell_type": "code",
      "metadata": {
        "id": "M1napibQ6aub"
      },
      "source": [
        "import torch\n",
        "import torch.nn as nn\n",
        "import torch.nn.functional as F\n",
        "import torch.optim as optim\n",
        "import torch.utils.data as torch_data\n",
        "\n",
        "class Word2VecModel(nn.Module):\n",
        "    # A torch module implementing a word2vec predictor. The `forward` function\n",
        "    # should take a batch of context word ids as input and predict the word \n",
        "    # in the middle of the context as output, as in the CBOW model from lecture.\n",
        "\n",
        "    def __init__(self, vocab_size, embed_dim):\n",
        "        super().__init__()\n",
        "        self.vocab_size = vocab_size\n",
        "        self.embed_dim = embed_dim\n",
        "        self.embeddings = nn.Embedding(self.vocab_size+1, self.embed_dim)\n",
        "        self.linear = nn.Linear(self.embed_dim, self.vocab_size+1)\n",
        "\n",
        "        # Your code here!\n",
        "        # raise NotImplementedError\n",
        "\n",
        "    def forward(self, context):\n",
        "        # Context is an `n_batch x n_context` matrix of integer word ids\n",
        "        # this function should return a set of scores for predicting the word \n",
        "        # in the middle of the context\n",
        "\n",
        "        # Your code here!\n",
        "        embegings = self.embeddings(context)\n",
        "\n",
        "        embegings=torch.mean(embegings,dim=1)\n",
        "\n",
        "        linear_out = self.linear(embegings)\n",
        "\n",
        "        final_out = F.log_softmax(linear_out, dim = 1)\n",
        "\n",
        "        return final_out\n",
        "\n",
        "        raise NotImplementedError"
      ],
      "execution_count": 30,
      "outputs": []
    },
    {
      "cell_type": "code",
      "metadata": {
        "id": "ePgZlityuWr3"
      },
      "source": [
        "def learn_reps_word2vec(corpus, window_size, rep_size, n_epochs, n_batch):\n",
        "    #This method takes in a corpus of training sentences. It returns a matrix of\n",
        "    # word embeddings with the same structure as used in the previous section of \n",
        "    # the assignment. (You can extract this matrix from the parameters of the \n",
        "    # Word2VecModel.)\n",
        "\n",
        "    tokenizer = lab_util.Tokenizer()\n",
        "    tokenizer.fit(corpus)\n",
        "    tokenized_corpus = tokenizer.tokenize(corpus)\n",
        "\n",
        "    ngrams = lab_util.get_ngrams(tokenized_corpus, window_size)\n",
        "\n",
        "    device = torch.device('cuda')  # run on colab gpu\n",
        "    # model = Word2VecModel(tokenizer.vocab_size, rep_size).to(device)\n",
        "    model = Word2VecModel(tokenizer.vocab_size, rep_size)\n",
        "    opt = optim.Adam(model.parameters(), lr=0.001)\n",
        "\n",
        "    loader = torch_data.DataLoader(ngrams, batch_size=n_batch, shuffle=True)\n",
        "\n",
        "    # What loss function should we use for Word2Vec?\n",
        "    loss_fn = nn.CrossEntropyLoss()\n",
        "\n",
        "    losses = []  # Potentially useful for debugging (loss should go down!)\n",
        "\n",
        "    for epoch in tqdm(range(n_epochs)):\n",
        "        epoch_loss = 0\n",
        "        for context, label in loader:\n",
        "\n",
        "            context = context+1\n",
        "\n",
        "            label = label +1\n",
        "\n",
        "            # As described above, `context` is a batch of context word ids, and\n",
        "            # `label` is a batch of predicted word labels.\n",
        "\n",
        "            # Here, perform a forward pass to compute predictions for the model.\n",
        "            # context.device(device)\n",
        "\n",
        "            # torch.tensor([word_to_ix[target]], dtype=torch.long)\n",
        "\n",
        "      \n",
        "\n",
        "            # context = context.to(device)\n",
        "            # label = label.to(device)\n",
        "\n",
        "            preds = model(context)  # Your code here!\n",
        "\n",
        "\n",
        "            # Now finish the backward pass and gradient update.\n",
        "            # Remember, you need to compute the loss, zero the gradients\n",
        "            # of the model parameters, perform the backward pass, and\n",
        "            # update the model parameters.\n",
        "            loss = loss_fn(preds, label)  # Your code here!\n",
        "\n",
        "            loss.backward()\n",
        "\n",
        "            opt.step()\n",
        "\n",
        "            epoch_loss += loss.item()\n",
        "        losses.append(epoch_loss)\n",
        "\n",
        "    # Hint: you want to return a `vocab_size x embedding_size` numpy array\n",
        "    for name, param in model.named_parameters():\n",
        "      if name == 'embeddings.weight':\n",
        "        embedding_matrix = param[1:]\n",
        "    # embedding_matrix = None  # Your code here!\n",
        "\n",
        "    return embedding_matrix"
      ],
      "execution_count": 31,
      "outputs": []
    },
    {
      "cell_type": "code",
      "metadata": {
        "colab": {
          "base_uri": "https://localhost:8080/"
        },
        "id": "XeTuCJ8Rmdrl",
        "outputId": "fc949d87-8100-45ec-d8a7-716660326e96"
      },
      "source": [
        "# Use the function you just wrote to learn Word2Vec embeddings:\n",
        "reps_word2vec = learn_reps_word2vec(train_reviews, 2, 500, 10, 100)"
      ],
      "execution_count": 32,
      "outputs": [
        {
          "output_type": "stream",
          "text": [
            "100%|██████████| 10/10 [11:57<00:00, 71.73s/it]\n"
          ],
          "name": "stderr"
        }
      ]
    },
    {
      "cell_type": "markdown",
      "metadata": {
        "id": "O3oE-tpR7I39"
      },
      "source": [
        "After training the embeddings, we can try to visualize the embedding space to see if it makes sense. First, we can take any word in the space and check its closest neighbors."
      ]
    },
    {
      "cell_type": "code",
      "metadata": {
        "id": "yMW4QND56bHF",
        "colab": {
          "base_uri": "https://localhost:8080/"
        },
        "outputId": "c592a188-6771-40fe-c5d4-8804316f4e15"
      },
      "source": [
        "lab_util.show_similar_words(vectorizer.tokenizer, reps_word2vec.detach().numpy(), show_tokens)"
      ],
      "execution_count": 33,
      "outputs": [
        {
          "output_type": "stream",
          "text": [
            "the 36\n",
            "  my 1.539\n",
            "  it 1.591\n",
            "  greta 1.603\n",
            "  spend 1.655\n",
            "  a 1.660\n",
            "dog 925\n",
            "  friend 1.622\n",
            "  asked 1.626\n",
            "  labels 1.638\n",
            "  daughter 1.645\n",
            "  recent 1.646\n",
            "3 289\n",
            "  5 1.577\n",
            "  34 1.621\n",
            "  completely 1.638\n",
            "  risk 1.639\n",
            "  cakes 1.642\n",
            "good 47\n",
            "  interesting 1.584\n",
            "  okay 1.614\n",
            "  great 1.623\n",
            "  else 1.637\n",
            "  least 1.647\n"
          ],
          "name": "stdout"
        }
      ]
    },
    {
      "cell_type": "markdown",
      "metadata": {
        "id": "ue-9CPSc7fi9"
      },
      "source": [
        "We can also cluster the embedding space. Clustering in 4 or more dimensions is hard to visualize, and even clustering in 2 or 3 can be difficult because there are so many words in the vocabulary. One thing we can try to do is assign cluster labels and qualitiatively look for an underlying pattern in the clusters."
      ]
    },
    {
      "cell_type": "code",
      "metadata": {
        "id": "v-Yf6NMCXVx4",
        "colab": {
          "base_uri": "https://localhost:8080/"
        },
        "outputId": "372392a6-f35f-4204-d3c0-f8551c7fb018"
      },
      "source": [
        "from sklearn.cluster import KMeans\n",
        "\n",
        "indices = KMeans(n_clusters=10).fit_predict(reps_word2vec.detach().numpy())\n",
        "zipped = list(zip(range(vectorizer.tokenizer.vocab_size), indices))\n",
        "np.random.shuffle(zipped)\n",
        "zipped = zipped[:100]\n",
        "zipped = sorted(zipped, key=lambda x: x[1])\n",
        "for token, cluster_idx in zipped:\n",
        "    word = vectorizer.tokenizer.token_to_word[token]\n",
        "    print(f\"{word}: {cluster_idx}\")"
      ],
      "execution_count": 39,
      "outputs": [
        {
          "output_type": "stream",
          "text": [
            "moved: 1\n",
            "seen: 1\n",
            "spread: 1\n",
            "eaten: 1\n",
            "change: 1\n",
            "subtle: 1\n",
            "classic: 1\n",
            "suggest: 1\n",
            "worked: 1\n",
            "given: 1\n",
            "warning: 1\n",
            "learned: 1\n",
            "solid: 1\n",
            "rate: 1\n",
            "granted: 1\n",
            "double: 1\n",
            "decide: 1\n",
            "holes: 1\n",
            "im: 3\n",
            "fall: 3\n",
            "teeth: 3\n",
            "caramels: 3\n",
            "muffin: 3\n",
            "amazing: 3\n",
            "prime: 3\n",
            "below: 3\n",
            "cubes: 3\n",
            "general: 3\n",
            "hint: 3\n",
            "caffeine: 3\n",
            "update: 3\n",
            "potassium: 3\n",
            "needed: 3\n",
            "living: 3\n",
            "plum: 3\n",
            "target: 3\n",
            "un: 3\n",
            "calcium: 3\n",
            "puppy: 3\n",
            "shipment: 3\n",
            "description: 3\n",
            "pouch: 3\n",
            "truly: 3\n",
            "colors: 3\n",
            "packing: 3\n",
            "starbucks: 3\n",
            "rica: 3\n",
            "lasts: 3\n",
            "buying: 4\n",
            "pieces: 4\n",
            "than: 4\n",
            "large: 4\n",
            "brewer: 4\n",
            "lunches: 4\n",
            "beer: 4\n",
            "months: 4\n",
            "excellent: 4\n",
            "filled: 4\n",
            "lays: 4\n",
            "without: 4\n",
            "reviews: 4\n",
            "someone: 4\n",
            "ok: 4\n",
            "help: 4\n",
            "average: 4\n",
            "crackers: 4\n",
            "bad: 4\n",
            "expiration: 4\n",
            "cookies: 4\n",
            "kind: 4\n",
            "bought: 4\n",
            "go: 4\n",
            "disappointed: 4\n",
            "him: 4\n",
            "nearly: 4\n",
            "has: 4\n",
            "artificial: 4\n",
            "its: 4\n",
            "coffee: 4\n",
            "times: 4\n",
            "birthday: 4\n",
            "plus: 4\n",
            "40: 4\n",
            "unfortunately: 4\n",
            "never: 4\n",
            "treats: 4\n",
            "mean: 4\n",
            "something: 4\n",
            "will: 4\n",
            "beef: 4\n",
            "zero: 4\n",
            "fiber: 4\n",
            "morning: 4\n",
            "still: 4\n",
            "fruit: 4\n",
            "doesn't: 4\n",
            "we: 4\n",
            "mill: 4\n",
            "next: 4\n",
            "that's: 4\n"
          ],
          "name": "stdout"
        }
      ]
    },
    {
      "cell_type": "markdown",
      "metadata": {
        "id": "ci1TkENU78Wn"
      },
      "source": [
        "Finally, we can use the trained word embeddings to construct vector representations of full reviews. One common approach is to simply average all the word embeddings in the review to create an overall embedding. Implement the transform function in Word2VecFeaturizer to do this."
      ]
    },
    {
      "cell_type": "code",
      "metadata": {
        "id": "A5vjmRV6Dgbu",
        "colab": {
          "base_uri": "https://localhost:8080/"
        },
        "outputId": "da56d8ef-3ee5-44c0-9d71-85863bb2cad9"
      },
      "source": [
        "def w2v_featurizer(xs):\n",
        "    # This function takes in a matrix in which each row contains the word counts\n",
        "    # for the given review. It should return a matrix in which each row contains\n",
        "    # the average Word2Vec embedding of each review (hint: this will be very\n",
        "    # similar to `lsa_featurizer` from above, just using Word2Vec embeddings \n",
        "    # instead of LSA).\n",
        "\n",
        "    feats = xs @ reps_word2vec.detach().numpy() # Your code here!\n",
        "\n",
        "    # normalize\n",
        "    return feats / np.sqrt((feats ** 2).sum(axis=1, keepdims=True))\n",
        "\n",
        "training_experiment(\"word2vec\", w2v_featurizer, 3000)\n",
        "print()"
      ],
      "execution_count": 41,
      "outputs": [
        {
          "output_type": "stream",
          "text": [
            "word2vec features, 3000 examples\n",
            "0.798 \n",
            "\n",
            "\n"
          ],
          "name": "stdout"
        }
      ]
    },
    {
      "cell_type": "markdown",
      "metadata": {
        "id": "XSfoQbxaXtfH"
      },
      "source": [
        "**Part 2: Lab writeup**\n",
        "\n",
        "Part 2 of your lab report should discuss any implementation details that were important to filling out the code above, as well as your answers to the questions in Part 2 of the Homework 1 handout. Below, you can set up and perform experiments that answer these questions (include figures, plots, and tables in your write-up as you see fit)."
      ]
    },
    {
      "cell_type": "markdown",
      "metadata": {
        "id": "Beb7dgqWycYx"
      },
      "source": [
        "## Experiments for Part 2"
      ]
    },
    {
      "cell_type": "code",
      "metadata": {
        "id": "obr-zEmNydDm"
      },
      "source": [
        "# Your code here!"
      ],
      "execution_count": null,
      "outputs": []
    }
  ]
}