{
  "nbformat": 4,
  "nbformat_minor": 0,
  "metadata": {
    "colab": {
      "name": "HW4_transformers.ipynb",
      "provenance": [],
      "collapsed_sections": [],
      "toc_visible": true,
      "include_colab_link": true
    },
    "kernelspec": {
      "name": "python3",
      "display_name": "Python 3"
    },
    "language_info": {
      "name": "python"
    },
    "accelerator": "GPU",
    "widgets": {
      "application/vnd.jupyter.widget-state+json": {
        "e5347c5db61842e6a719f6c29b4186d6": {
          "model_module": "@jupyter-widgets/controls",
          "model_name": "HBoxModel",
          "state": {
            "_view_name": "HBoxView",
            "_dom_classes": [],
            "_model_name": "HBoxModel",
            "_view_module": "@jupyter-widgets/controls",
            "_model_module_version": "1.5.0",
            "_view_count": null,
            "_view_module_version": "1.5.0",
            "box_style": "",
            "layout": "IPY_MODEL_cc12baca60a54b51b49a29df8755d34c",
            "_model_module": "@jupyter-widgets/controls",
            "children": [
              "IPY_MODEL_f7cbebacf108473690914033f10edf42",
              "IPY_MODEL_c5f67b96072c4e30abb5292c883125f5"
            ]
          }
        },
        "cc12baca60a54b51b49a29df8755d34c": {
          "model_module": "@jupyter-widgets/base",
          "model_name": "LayoutModel",
          "state": {
            "_view_name": "LayoutView",
            "grid_template_rows": null,
            "right": null,
            "justify_content": null,
            "_view_module": "@jupyter-widgets/base",
            "overflow": null,
            "_model_module_version": "1.2.0",
            "_view_count": null,
            "flex_flow": null,
            "width": null,
            "min_width": null,
            "border": null,
            "align_items": null,
            "bottom": null,
            "_model_module": "@jupyter-widgets/base",
            "top": null,
            "grid_column": null,
            "overflow_y": null,
            "overflow_x": null,
            "grid_auto_flow": null,
            "grid_area": null,
            "grid_template_columns": null,
            "flex": null,
            "_model_name": "LayoutModel",
            "justify_items": null,
            "grid_row": null,
            "max_height": null,
            "align_content": null,
            "visibility": null,
            "align_self": null,
            "height": null,
            "min_height": null,
            "padding": null,
            "grid_auto_rows": null,
            "grid_gap": null,
            "max_width": null,
            "order": null,
            "_view_module_version": "1.2.0",
            "grid_template_areas": null,
            "object_position": null,
            "object_fit": null,
            "grid_auto_columns": null,
            "margin": null,
            "display": null,
            "left": null
          }
        },
        "f7cbebacf108473690914033f10edf42": {
          "model_module": "@jupyter-widgets/controls",
          "model_name": "FloatProgressModel",
          "state": {
            "_view_name": "ProgressView",
            "style": "IPY_MODEL_e55b0202cad240a892099605387cd9fd",
            "_dom_classes": [],
            "description": "Downloading: ",
            "_model_name": "FloatProgressModel",
            "bar_style": "success",
            "max": 1907,
            "_view_module": "@jupyter-widgets/controls",
            "_model_module_version": "1.5.0",
            "value": 1907,
            "_view_count": null,
            "_view_module_version": "1.5.0",
            "orientation": "horizontal",
            "min": 0,
            "description_tooltip": null,
            "_model_module": "@jupyter-widgets/controls",
            "layout": "IPY_MODEL_4c7a6a61880b48aabb673b3e91df5348"
          }
        },
        "c5f67b96072c4e30abb5292c883125f5": {
          "model_module": "@jupyter-widgets/controls",
          "model_name": "HTMLModel",
          "state": {
            "_view_name": "HTMLView",
            "style": "IPY_MODEL_3d41b71f04934368abc8e26efdccf9cc",
            "_dom_classes": [],
            "description": "",
            "_model_name": "HTMLModel",
            "placeholder": "​",
            "_view_module": "@jupyter-widgets/controls",
            "_model_module_version": "1.5.0",
            "value": " 5.10k/? [00:01&lt;00:00, 3.32kB/s]",
            "_view_count": null,
            "_view_module_version": "1.5.0",
            "description_tooltip": null,
            "_model_module": "@jupyter-widgets/controls",
            "layout": "IPY_MODEL_8f4e442932204c04b7722c9c2603eff3"
          }
        },
        "e55b0202cad240a892099605387cd9fd": {
          "model_module": "@jupyter-widgets/controls",
          "model_name": "ProgressStyleModel",
          "state": {
            "_view_name": "StyleView",
            "_model_name": "ProgressStyleModel",
            "description_width": "initial",
            "_view_module": "@jupyter-widgets/base",
            "_model_module_version": "1.5.0",
            "_view_count": null,
            "_view_module_version": "1.2.0",
            "bar_color": null,
            "_model_module": "@jupyter-widgets/controls"
          }
        },
        "4c7a6a61880b48aabb673b3e91df5348": {
          "model_module": "@jupyter-widgets/base",
          "model_name": "LayoutModel",
          "state": {
            "_view_name": "LayoutView",
            "grid_template_rows": null,
            "right": null,
            "justify_content": null,
            "_view_module": "@jupyter-widgets/base",
            "overflow": null,
            "_model_module_version": "1.2.0",
            "_view_count": null,
            "flex_flow": null,
            "width": null,
            "min_width": null,
            "border": null,
            "align_items": null,
            "bottom": null,
            "_model_module": "@jupyter-widgets/base",
            "top": null,
            "grid_column": null,
            "overflow_y": null,
            "overflow_x": null,
            "grid_auto_flow": null,
            "grid_area": null,
            "grid_template_columns": null,
            "flex": null,
            "_model_name": "LayoutModel",
            "justify_items": null,
            "grid_row": null,
            "max_height": null,
            "align_content": null,
            "visibility": null,
            "align_self": null,
            "height": null,
            "min_height": null,
            "padding": null,
            "grid_auto_rows": null,
            "grid_gap": null,
            "max_width": null,
            "order": null,
            "_view_module_version": "1.2.0",
            "grid_template_areas": null,
            "object_position": null,
            "object_fit": null,
            "grid_auto_columns": null,
            "margin": null,
            "display": null,
            "left": null
          }
        },
        "3d41b71f04934368abc8e26efdccf9cc": {
          "model_module": "@jupyter-widgets/controls",
          "model_name": "DescriptionStyleModel",
          "state": {
            "_view_name": "StyleView",
            "_model_name": "DescriptionStyleModel",
            "description_width": "",
            "_view_module": "@jupyter-widgets/base",
            "_model_module_version": "1.5.0",
            "_view_count": null,
            "_view_module_version": "1.2.0",
            "_model_module": "@jupyter-widgets/controls"
          }
        },
        "8f4e442932204c04b7722c9c2603eff3": {
          "model_module": "@jupyter-widgets/base",
          "model_name": "LayoutModel",
          "state": {
            "_view_name": "LayoutView",
            "grid_template_rows": null,
            "right": null,
            "justify_content": null,
            "_view_module": "@jupyter-widgets/base",
            "overflow": null,
            "_model_module_version": "1.2.0",
            "_view_count": null,
            "flex_flow": null,
            "width": null,
            "min_width": null,
            "border": null,
            "align_items": null,
            "bottom": null,
            "_model_module": "@jupyter-widgets/base",
            "top": null,
            "grid_column": null,
            "overflow_y": null,
            "overflow_x": null,
            "grid_auto_flow": null,
            "grid_area": null,
            "grid_template_columns": null,
            "flex": null,
            "_model_name": "LayoutModel",
            "justify_items": null,
            "grid_row": null,
            "max_height": null,
            "align_content": null,
            "visibility": null,
            "align_self": null,
            "height": null,
            "min_height": null,
            "padding": null,
            "grid_auto_rows": null,
            "grid_gap": null,
            "max_width": null,
            "order": null,
            "_view_module_version": "1.2.0",
            "grid_template_areas": null,
            "object_position": null,
            "object_fit": null,
            "grid_auto_columns": null,
            "margin": null,
            "display": null,
            "left": null
          }
        },
        "279d02b6506649a2a8dc9a0f836af46c": {
          "model_module": "@jupyter-widgets/controls",
          "model_name": "HBoxModel",
          "state": {
            "_view_name": "HBoxView",
            "_dom_classes": [],
            "_model_name": "HBoxModel",
            "_view_module": "@jupyter-widgets/controls",
            "_model_module_version": "1.5.0",
            "_view_count": null,
            "_view_module_version": "1.5.0",
            "box_style": "",
            "layout": "IPY_MODEL_f93d9207894c4b56af754a360cef99c9",
            "_model_module": "@jupyter-widgets/controls",
            "children": [
              "IPY_MODEL_9d052318851a42f2bbf93ca87ac6ffb2",
              "IPY_MODEL_559aacdc1b15456e94f9270bec4275ca"
            ]
          }
        },
        "f93d9207894c4b56af754a360cef99c9": {
          "model_module": "@jupyter-widgets/base",
          "model_name": "LayoutModel",
          "state": {
            "_view_name": "LayoutView",
            "grid_template_rows": null,
            "right": null,
            "justify_content": null,
            "_view_module": "@jupyter-widgets/base",
            "overflow": null,
            "_model_module_version": "1.2.0",
            "_view_count": null,
            "flex_flow": null,
            "width": null,
            "min_width": null,
            "border": null,
            "align_items": null,
            "bottom": null,
            "_model_module": "@jupyter-widgets/base",
            "top": null,
            "grid_column": null,
            "overflow_y": null,
            "overflow_x": null,
            "grid_auto_flow": null,
            "grid_area": null,
            "grid_template_columns": null,
            "flex": null,
            "_model_name": "LayoutModel",
            "justify_items": null,
            "grid_row": null,
            "max_height": null,
            "align_content": null,
            "visibility": null,
            "align_self": null,
            "height": null,
            "min_height": null,
            "padding": null,
            "grid_auto_rows": null,
            "grid_gap": null,
            "max_width": null,
            "order": null,
            "_view_module_version": "1.2.0",
            "grid_template_areas": null,
            "object_position": null,
            "object_fit": null,
            "grid_auto_columns": null,
            "margin": null,
            "display": null,
            "left": null
          }
        },
        "9d052318851a42f2bbf93ca87ac6ffb2": {
          "model_module": "@jupyter-widgets/controls",
          "model_name": "FloatProgressModel",
          "state": {
            "_view_name": "ProgressView",
            "style": "IPY_MODEL_8e8ec193100145458ff4d2fcc2a1f261",
            "_dom_classes": [],
            "description": "Downloading: ",
            "_model_name": "FloatProgressModel",
            "bar_style": "success",
            "max": 955,
            "_view_module": "@jupyter-widgets/controls",
            "_model_module_version": "1.5.0",
            "value": 955,
            "_view_count": null,
            "_view_module_version": "1.5.0",
            "orientation": "horizontal",
            "min": 0,
            "description_tooltip": null,
            "_model_module": "@jupyter-widgets/controls",
            "layout": "IPY_MODEL_e4d2a37fd71f4a7397fd2ec59dbcbe14"
          }
        },
        "559aacdc1b15456e94f9270bec4275ca": {
          "model_module": "@jupyter-widgets/controls",
          "model_name": "HTMLModel",
          "state": {
            "_view_name": "HTMLView",
            "style": "IPY_MODEL_c2ef61bbc6974d5cbbf5655c7043b214",
            "_dom_classes": [],
            "description": "",
            "_model_name": "HTMLModel",
            "placeholder": "​",
            "_view_module": "@jupyter-widgets/controls",
            "_model_module_version": "1.5.0",
            "value": " 2.19k/? [00:00&lt;00:00, 8.64kB/s]",
            "_view_count": null,
            "_view_module_version": "1.5.0",
            "description_tooltip": null,
            "_model_module": "@jupyter-widgets/controls",
            "layout": "IPY_MODEL_4846ffb586d4465b871d9a3a78cd62bd"
          }
        },
        "8e8ec193100145458ff4d2fcc2a1f261": {
          "model_module": "@jupyter-widgets/controls",
          "model_name": "ProgressStyleModel",
          "state": {
            "_view_name": "StyleView",
            "_model_name": "ProgressStyleModel",
            "description_width": "initial",
            "_view_module": "@jupyter-widgets/base",
            "_model_module_version": "1.5.0",
            "_view_count": null,
            "_view_module_version": "1.2.0",
            "bar_color": null,
            "_model_module": "@jupyter-widgets/controls"
          }
        },
        "e4d2a37fd71f4a7397fd2ec59dbcbe14": {
          "model_module": "@jupyter-widgets/base",
          "model_name": "LayoutModel",
          "state": {
            "_view_name": "LayoutView",
            "grid_template_rows": null,
            "right": null,
            "justify_content": null,
            "_view_module": "@jupyter-widgets/base",
            "overflow": null,
            "_model_module_version": "1.2.0",
            "_view_count": null,
            "flex_flow": null,
            "width": null,
            "min_width": null,
            "border": null,
            "align_items": null,
            "bottom": null,
            "_model_module": "@jupyter-widgets/base",
            "top": null,
            "grid_column": null,
            "overflow_y": null,
            "overflow_x": null,
            "grid_auto_flow": null,
            "grid_area": null,
            "grid_template_columns": null,
            "flex": null,
            "_model_name": "LayoutModel",
            "justify_items": null,
            "grid_row": null,
            "max_height": null,
            "align_content": null,
            "visibility": null,
            "align_self": null,
            "height": null,
            "min_height": null,
            "padding": null,
            "grid_auto_rows": null,
            "grid_gap": null,
            "max_width": null,
            "order": null,
            "_view_module_version": "1.2.0",
            "grid_template_areas": null,
            "object_position": null,
            "object_fit": null,
            "grid_auto_columns": null,
            "margin": null,
            "display": null,
            "left": null
          }
        },
        "c2ef61bbc6974d5cbbf5655c7043b214": {
          "model_module": "@jupyter-widgets/controls",
          "model_name": "DescriptionStyleModel",
          "state": {
            "_view_name": "StyleView",
            "_model_name": "DescriptionStyleModel",
            "description_width": "",
            "_view_module": "@jupyter-widgets/base",
            "_model_module_version": "1.5.0",
            "_view_count": null,
            "_view_module_version": "1.2.0",
            "_model_module": "@jupyter-widgets/controls"
          }
        },
        "4846ffb586d4465b871d9a3a78cd62bd": {
          "model_module": "@jupyter-widgets/base",
          "model_name": "LayoutModel",
          "state": {
            "_view_name": "LayoutView",
            "grid_template_rows": null,
            "right": null,
            "justify_content": null,
            "_view_module": "@jupyter-widgets/base",
            "overflow": null,
            "_model_module_version": "1.2.0",
            "_view_count": null,
            "flex_flow": null,
            "width": null,
            "min_width": null,
            "border": null,
            "align_items": null,
            "bottom": null,
            "_model_module": "@jupyter-widgets/base",
            "top": null,
            "grid_column": null,
            "overflow_y": null,
            "overflow_x": null,
            "grid_auto_flow": null,
            "grid_area": null,
            "grid_template_columns": null,
            "flex": null,
            "_model_name": "LayoutModel",
            "justify_items": null,
            "grid_row": null,
            "max_height": null,
            "align_content": null,
            "visibility": null,
            "align_self": null,
            "height": null,
            "min_height": null,
            "padding": null,
            "grid_auto_rows": null,
            "grid_gap": null,
            "max_width": null,
            "order": null,
            "_view_module_version": "1.2.0",
            "grid_template_areas": null,
            "object_position": null,
            "object_fit": null,
            "grid_auto_columns": null,
            "margin": null,
            "display": null,
            "left": null
          }
        },
        "3f6d0e932bd84ddd8be8b58257412946": {
          "model_module": "@jupyter-widgets/controls",
          "model_name": "HBoxModel",
          "state": {
            "_view_name": "HBoxView",
            "_dom_classes": [],
            "_model_name": "HBoxModel",
            "_view_module": "@jupyter-widgets/controls",
            "_model_module_version": "1.5.0",
            "_view_count": null,
            "_view_module_version": "1.5.0",
            "box_style": "",
            "layout": "IPY_MODEL_048a448682b2497699c36bc2fd54144d",
            "_model_module": "@jupyter-widgets/controls",
            "children": [
              "IPY_MODEL_2c814e71736d4bdf9c40b0428d835477",
              "IPY_MODEL_14c1188f753d4abfbf6c6dd85351fffc"
            ]
          }
        },
        "048a448682b2497699c36bc2fd54144d": {
          "model_module": "@jupyter-widgets/base",
          "model_name": "LayoutModel",
          "state": {
            "_view_name": "LayoutView",
            "grid_template_rows": null,
            "right": null,
            "justify_content": null,
            "_view_module": "@jupyter-widgets/base",
            "overflow": null,
            "_model_module_version": "1.2.0",
            "_view_count": null,
            "flex_flow": null,
            "width": null,
            "min_width": null,
            "border": null,
            "align_items": null,
            "bottom": null,
            "_model_module": "@jupyter-widgets/base",
            "top": null,
            "grid_column": null,
            "overflow_y": null,
            "overflow_x": null,
            "grid_auto_flow": null,
            "grid_area": null,
            "grid_template_columns": null,
            "flex": null,
            "_model_name": "LayoutModel",
            "justify_items": null,
            "grid_row": null,
            "max_height": null,
            "align_content": null,
            "visibility": null,
            "align_self": null,
            "height": null,
            "min_height": null,
            "padding": null,
            "grid_auto_rows": null,
            "grid_gap": null,
            "max_width": null,
            "order": null,
            "_view_module_version": "1.2.0",
            "grid_template_areas": null,
            "object_position": null,
            "object_fit": null,
            "grid_auto_columns": null,
            "margin": null,
            "display": null,
            "left": null
          }
        },
        "2c814e71736d4bdf9c40b0428d835477": {
          "model_module": "@jupyter-widgets/controls",
          "model_name": "FloatProgressModel",
          "state": {
            "_view_name": "ProgressView",
            "style": "IPY_MODEL_e0a36320036d4fe5b38a9b6d511ef3a1",
            "_dom_classes": [],
            "description": "Downloading: ",
            "_model_name": "FloatProgressModel",
            "bar_style": "success",
            "max": 8116577,
            "_view_module": "@jupyter-widgets/controls",
            "_model_module_version": "1.5.0",
            "value": 8116577,
            "_view_count": null,
            "_view_module_version": "1.5.0",
            "orientation": "horizontal",
            "min": 0,
            "description_tooltip": null,
            "_model_module": "@jupyter-widgets/controls",
            "layout": "IPY_MODEL_915cffb69bec4bfb91147a8cddee55fd"
          }
        },
        "14c1188f753d4abfbf6c6dd85351fffc": {
          "model_module": "@jupyter-widgets/controls",
          "model_name": "HTMLModel",
          "state": {
            "_view_name": "HTMLView",
            "style": "IPY_MODEL_4eaa23a0ac944077b1f2b904efa32ff6",
            "_dom_classes": [],
            "description": "",
            "_model_name": "HTMLModel",
            "placeholder": "​",
            "_view_module": "@jupyter-widgets/controls",
            "_model_module_version": "1.5.0",
            "value": " 30.3M/? [00:00&lt;00:00, 38.2MB/s]",
            "_view_count": null,
            "_view_module_version": "1.5.0",
            "description_tooltip": null,
            "_model_module": "@jupyter-widgets/controls",
            "layout": "IPY_MODEL_806a79f586a848af8bed6a72837e21c7"
          }
        },
        "e0a36320036d4fe5b38a9b6d511ef3a1": {
          "model_module": "@jupyter-widgets/controls",
          "model_name": "ProgressStyleModel",
          "state": {
            "_view_name": "StyleView",
            "_model_name": "ProgressStyleModel",
            "description_width": "initial",
            "_view_module": "@jupyter-widgets/base",
            "_model_module_version": "1.5.0",
            "_view_count": null,
            "_view_module_version": "1.2.0",
            "bar_color": null,
            "_model_module": "@jupyter-widgets/controls"
          }
        },
        "915cffb69bec4bfb91147a8cddee55fd": {
          "model_module": "@jupyter-widgets/base",
          "model_name": "LayoutModel",
          "state": {
            "_view_name": "LayoutView",
            "grid_template_rows": null,
            "right": null,
            "justify_content": null,
            "_view_module": "@jupyter-widgets/base",
            "overflow": null,
            "_model_module_version": "1.2.0",
            "_view_count": null,
            "flex_flow": null,
            "width": null,
            "min_width": null,
            "border": null,
            "align_items": null,
            "bottom": null,
            "_model_module": "@jupyter-widgets/base",
            "top": null,
            "grid_column": null,
            "overflow_y": null,
            "overflow_x": null,
            "grid_auto_flow": null,
            "grid_area": null,
            "grid_template_columns": null,
            "flex": null,
            "_model_name": "LayoutModel",
            "justify_items": null,
            "grid_row": null,
            "max_height": null,
            "align_content": null,
            "visibility": null,
            "align_self": null,
            "height": null,
            "min_height": null,
            "padding": null,
            "grid_auto_rows": null,
            "grid_gap": null,
            "max_width": null,
            "order": null,
            "_view_module_version": "1.2.0",
            "grid_template_areas": null,
            "object_position": null,
            "object_fit": null,
            "grid_auto_columns": null,
            "margin": null,
            "display": null,
            "left": null
          }
        },
        "4eaa23a0ac944077b1f2b904efa32ff6": {
          "model_module": "@jupyter-widgets/controls",
          "model_name": "DescriptionStyleModel",
          "state": {
            "_view_name": "StyleView",
            "_model_name": "DescriptionStyleModel",
            "description_width": "",
            "_view_module": "@jupyter-widgets/base",
            "_model_module_version": "1.5.0",
            "_view_count": null,
            "_view_module_version": "1.2.0",
            "_model_module": "@jupyter-widgets/controls"
          }
        },
        "806a79f586a848af8bed6a72837e21c7": {
          "model_module": "@jupyter-widgets/base",
          "model_name": "LayoutModel",
          "state": {
            "_view_name": "LayoutView",
            "grid_template_rows": null,
            "right": null,
            "justify_content": null,
            "_view_module": "@jupyter-widgets/base",
            "overflow": null,
            "_model_module_version": "1.2.0",
            "_view_count": null,
            "flex_flow": null,
            "width": null,
            "min_width": null,
            "border": null,
            "align_items": null,
            "bottom": null,
            "_model_module": "@jupyter-widgets/base",
            "top": null,
            "grid_column": null,
            "overflow_y": null,
            "overflow_x": null,
            "grid_auto_flow": null,
            "grid_area": null,
            "grid_template_columns": null,
            "flex": null,
            "_model_name": "LayoutModel",
            "justify_items": null,
            "grid_row": null,
            "max_height": null,
            "align_content": null,
            "visibility": null,
            "align_self": null,
            "height": null,
            "min_height": null,
            "padding": null,
            "grid_auto_rows": null,
            "grid_gap": null,
            "max_width": null,
            "order": null,
            "_view_module_version": "1.2.0",
            "grid_template_areas": null,
            "object_position": null,
            "object_fit": null,
            "grid_auto_columns": null,
            "margin": null,
            "display": null,
            "left": null
          }
        },
        "06d26a5b34d74224aef930e74c6dcf7b": {
          "model_module": "@jupyter-widgets/controls",
          "model_name": "HBoxModel",
          "state": {
            "_view_name": "HBoxView",
            "_dom_classes": [],
            "_model_name": "HBoxModel",
            "_view_module": "@jupyter-widgets/controls",
            "_model_module_version": "1.5.0",
            "_view_count": null,
            "_view_module_version": "1.5.0",
            "box_style": "",
            "layout": "IPY_MODEL_54c46834f6ae4b3e89367b727a571f38",
            "_model_module": "@jupyter-widgets/controls",
            "children": [
              "IPY_MODEL_9f10eafe2ec948adbf824c4f89f471dd",
              "IPY_MODEL_84850161ec24476ea2b055de7a943609"
            ]
          }
        },
        "54c46834f6ae4b3e89367b727a571f38": {
          "model_module": "@jupyter-widgets/base",
          "model_name": "LayoutModel",
          "state": {
            "_view_name": "LayoutView",
            "grid_template_rows": null,
            "right": null,
            "justify_content": null,
            "_view_module": "@jupyter-widgets/base",
            "overflow": null,
            "_model_module_version": "1.2.0",
            "_view_count": null,
            "flex_flow": null,
            "width": null,
            "min_width": null,
            "border": null,
            "align_items": null,
            "bottom": null,
            "_model_module": "@jupyter-widgets/base",
            "top": null,
            "grid_column": null,
            "overflow_y": null,
            "overflow_x": null,
            "grid_auto_flow": null,
            "grid_area": null,
            "grid_template_columns": null,
            "flex": null,
            "_model_name": "LayoutModel",
            "justify_items": null,
            "grid_row": null,
            "max_height": null,
            "align_content": null,
            "visibility": null,
            "align_self": null,
            "height": null,
            "min_height": null,
            "padding": null,
            "grid_auto_rows": null,
            "grid_gap": null,
            "max_width": null,
            "order": null,
            "_view_module_version": "1.2.0",
            "grid_template_areas": null,
            "object_position": null,
            "object_fit": null,
            "grid_auto_columns": null,
            "margin": null,
            "display": null,
            "left": null
          }
        },
        "9f10eafe2ec948adbf824c4f89f471dd": {
          "model_module": "@jupyter-widgets/controls",
          "model_name": "FloatProgressModel",
          "state": {
            "_view_name": "ProgressView",
            "style": "IPY_MODEL_a181758f4bbf41748d5f05279515fc07",
            "_dom_classes": [],
            "description": "Downloading: ",
            "_model_name": "FloatProgressModel",
            "bar_style": "success",
            "max": 1054280,
            "_view_module": "@jupyter-widgets/controls",
            "_model_module_version": "1.5.0",
            "value": 1054280,
            "_view_count": null,
            "_view_module_version": "1.5.0",
            "orientation": "horizontal",
            "min": 0,
            "description_tooltip": null,
            "_model_module": "@jupyter-widgets/controls",
            "layout": "IPY_MODEL_357ddfe5a16840229d7b1f682e667767"
          }
        },
        "84850161ec24476ea2b055de7a943609": {
          "model_module": "@jupyter-widgets/controls",
          "model_name": "HTMLModel",
          "state": {
            "_view_name": "HTMLView",
            "style": "IPY_MODEL_a193be6652d2464a9e309ed2e19df663",
            "_dom_classes": [],
            "description": "",
            "_model_name": "HTMLModel",
            "placeholder": "​",
            "_view_module": "@jupyter-widgets/controls",
            "_model_module_version": "1.5.0",
            "value": " 4.85M/? [00:00&lt;00:00, 22.2MB/s]",
            "_view_count": null,
            "_view_module_version": "1.5.0",
            "description_tooltip": null,
            "_model_module": "@jupyter-widgets/controls",
            "layout": "IPY_MODEL_b5d8a7cc50d5445c8f73770d22de877e"
          }
        },
        "a181758f4bbf41748d5f05279515fc07": {
          "model_module": "@jupyter-widgets/controls",
          "model_name": "ProgressStyleModel",
          "state": {
            "_view_name": "StyleView",
            "_model_name": "ProgressStyleModel",
            "description_width": "initial",
            "_view_module": "@jupyter-widgets/base",
            "_model_module_version": "1.5.0",
            "_view_count": null,
            "_view_module_version": "1.2.0",
            "bar_color": null,
            "_model_module": "@jupyter-widgets/controls"
          }
        },
        "357ddfe5a16840229d7b1f682e667767": {
          "model_module": "@jupyter-widgets/base",
          "model_name": "LayoutModel",
          "state": {
            "_view_name": "LayoutView",
            "grid_template_rows": null,
            "right": null,
            "justify_content": null,
            "_view_module": "@jupyter-widgets/base",
            "overflow": null,
            "_model_module_version": "1.2.0",
            "_view_count": null,
            "flex_flow": null,
            "width": null,
            "min_width": null,
            "border": null,
            "align_items": null,
            "bottom": null,
            "_model_module": "@jupyter-widgets/base",
            "top": null,
            "grid_column": null,
            "overflow_y": null,
            "overflow_x": null,
            "grid_auto_flow": null,
            "grid_area": null,
            "grid_template_columns": null,
            "flex": null,
            "_model_name": "LayoutModel",
            "justify_items": null,
            "grid_row": null,
            "max_height": null,
            "align_content": null,
            "visibility": null,
            "align_self": null,
            "height": null,
            "min_height": null,
            "padding": null,
            "grid_auto_rows": null,
            "grid_gap": null,
            "max_width": null,
            "order": null,
            "_view_module_version": "1.2.0",
            "grid_template_areas": null,
            "object_position": null,
            "object_fit": null,
            "grid_auto_columns": null,
            "margin": null,
            "display": null,
            "left": null
          }
        },
        "a193be6652d2464a9e309ed2e19df663": {
          "model_module": "@jupyter-widgets/controls",
          "model_name": "DescriptionStyleModel",
          "state": {
            "_view_name": "StyleView",
            "_model_name": "DescriptionStyleModel",
            "description_width": "",
            "_view_module": "@jupyter-widgets/base",
            "_model_module_version": "1.5.0",
            "_view_count": null,
            "_view_module_version": "1.2.0",
            "_model_module": "@jupyter-widgets/controls"
          }
        },
        "b5d8a7cc50d5445c8f73770d22de877e": {
          "model_module": "@jupyter-widgets/base",
          "model_name": "LayoutModel",
          "state": {
            "_view_name": "LayoutView",
            "grid_template_rows": null,
            "right": null,
            "justify_content": null,
            "_view_module": "@jupyter-widgets/base",
            "overflow": null,
            "_model_module_version": "1.2.0",
            "_view_count": null,
            "flex_flow": null,
            "width": null,
            "min_width": null,
            "border": null,
            "align_items": null,
            "bottom": null,
            "_model_module": "@jupyter-widgets/base",
            "top": null,
            "grid_column": null,
            "overflow_y": null,
            "overflow_x": null,
            "grid_auto_flow": null,
            "grid_area": null,
            "grid_template_columns": null,
            "flex": null,
            "_model_name": "LayoutModel",
            "justify_items": null,
            "grid_row": null,
            "max_height": null,
            "align_content": null,
            "visibility": null,
            "align_self": null,
            "height": null,
            "min_height": null,
            "padding": null,
            "grid_auto_rows": null,
            "grid_gap": null,
            "max_width": null,
            "order": null,
            "_view_module_version": "1.2.0",
            "grid_template_areas": null,
            "object_position": null,
            "object_fit": null,
            "grid_auto_columns": null,
            "margin": null,
            "display": null,
            "left": null
          }
        },
        "730d727f11f9471ca0b57c04b936adb4": {
          "model_module": "@jupyter-widgets/controls",
          "model_name": "HBoxModel",
          "state": {
            "_view_name": "HBoxView",
            "_dom_classes": [],
            "_model_name": "HBoxModel",
            "_view_module": "@jupyter-widgets/controls",
            "_model_module_version": "1.5.0",
            "_view_count": null,
            "_view_module_version": "1.5.0",
            "box_style": "",
            "layout": "IPY_MODEL_02d30b2bde634f45918f231ac364e7e6",
            "_model_module": "@jupyter-widgets/controls",
            "children": [
              "IPY_MODEL_1e5247e193ef455fa693c9290ebeded3",
              "IPY_MODEL_87d955ab0a75473bb5623f447c12c169"
            ]
          }
        },
        "02d30b2bde634f45918f231ac364e7e6": {
          "model_module": "@jupyter-widgets/base",
          "model_name": "LayoutModel",
          "state": {
            "_view_name": "LayoutView",
            "grid_template_rows": null,
            "right": null,
            "justify_content": null,
            "_view_module": "@jupyter-widgets/base",
            "overflow": null,
            "_model_module_version": "1.2.0",
            "_view_count": null,
            "flex_flow": null,
            "width": null,
            "min_width": null,
            "border": null,
            "align_items": null,
            "bottom": null,
            "_model_module": "@jupyter-widgets/base",
            "top": null,
            "grid_column": null,
            "overflow_y": null,
            "overflow_x": null,
            "grid_auto_flow": null,
            "grid_area": null,
            "grid_template_columns": null,
            "flex": null,
            "_model_name": "LayoutModel",
            "justify_items": null,
            "grid_row": null,
            "max_height": null,
            "align_content": null,
            "visibility": null,
            "align_self": null,
            "height": null,
            "min_height": null,
            "padding": null,
            "grid_auto_rows": null,
            "grid_gap": null,
            "max_width": null,
            "order": null,
            "_view_module_version": "1.2.0",
            "grid_template_areas": null,
            "object_position": null,
            "object_fit": null,
            "grid_auto_columns": null,
            "margin": null,
            "display": null,
            "left": null
          }
        },
        "1e5247e193ef455fa693c9290ebeded3": {
          "model_module": "@jupyter-widgets/controls",
          "model_name": "FloatProgressModel",
          "state": {
            "_view_name": "ProgressView",
            "style": "IPY_MODEL_436f184934a54dd48e49dfc0fd87f0ec",
            "_dom_classes": [],
            "description": "",
            "_model_name": "FloatProgressModel",
            "bar_style": "info",
            "max": 1,
            "_view_module": "@jupyter-widgets/controls",
            "_model_module_version": "1.5.0",
            "value": 1,
            "_view_count": null,
            "_view_module_version": "1.5.0",
            "orientation": "horizontal",
            "min": 0,
            "description_tooltip": null,
            "_model_module": "@jupyter-widgets/controls",
            "layout": "IPY_MODEL_247ca6e3a8d04148b8f2cac8a4cc898e"
          }
        },
        "87d955ab0a75473bb5623f447c12c169": {
          "model_module": "@jupyter-widgets/controls",
          "model_name": "HTMLModel",
          "state": {
            "_view_name": "HTMLView",
            "style": "IPY_MODEL_f5b8ca9a64554396a39041899fbf56ba",
            "_dom_classes": [],
            "description": "",
            "_model_name": "HTMLModel",
            "placeholder": "​",
            "_view_module": "@jupyter-widgets/controls",
            "_model_module_version": "1.5.0",
            "value": " 87599/0 [00:09&lt;00:00, 18711.47 examples/s]",
            "_view_count": null,
            "_view_module_version": "1.5.0",
            "description_tooltip": null,
            "_model_module": "@jupyter-widgets/controls",
            "layout": "IPY_MODEL_cdb71a9ba4574e42bb2a70732b80bc37"
          }
        },
        "436f184934a54dd48e49dfc0fd87f0ec": {
          "model_module": "@jupyter-widgets/controls",
          "model_name": "ProgressStyleModel",
          "state": {
            "_view_name": "StyleView",
            "_model_name": "ProgressStyleModel",
            "description_width": "initial",
            "_view_module": "@jupyter-widgets/base",
            "_model_module_version": "1.5.0",
            "_view_count": null,
            "_view_module_version": "1.2.0",
            "bar_color": null,
            "_model_module": "@jupyter-widgets/controls"
          }
        },
        "247ca6e3a8d04148b8f2cac8a4cc898e": {
          "model_module": "@jupyter-widgets/base",
          "model_name": "LayoutModel",
          "state": {
            "_view_name": "LayoutView",
            "grid_template_rows": null,
            "right": null,
            "justify_content": null,
            "_view_module": "@jupyter-widgets/base",
            "overflow": null,
            "_model_module_version": "1.2.0",
            "_view_count": null,
            "flex_flow": null,
            "width": null,
            "min_width": null,
            "border": null,
            "align_items": null,
            "bottom": null,
            "_model_module": "@jupyter-widgets/base",
            "top": null,
            "grid_column": null,
            "overflow_y": null,
            "overflow_x": null,
            "grid_auto_flow": null,
            "grid_area": null,
            "grid_template_columns": null,
            "flex": null,
            "_model_name": "LayoutModel",
            "justify_items": null,
            "grid_row": null,
            "max_height": null,
            "align_content": null,
            "visibility": null,
            "align_self": null,
            "height": null,
            "min_height": null,
            "padding": null,
            "grid_auto_rows": null,
            "grid_gap": null,
            "max_width": null,
            "order": null,
            "_view_module_version": "1.2.0",
            "grid_template_areas": null,
            "object_position": null,
            "object_fit": null,
            "grid_auto_columns": null,
            "margin": null,
            "display": null,
            "left": null
          }
        },
        "f5b8ca9a64554396a39041899fbf56ba": {
          "model_module": "@jupyter-widgets/controls",
          "model_name": "DescriptionStyleModel",
          "state": {
            "_view_name": "StyleView",
            "_model_name": "DescriptionStyleModel",
            "description_width": "",
            "_view_module": "@jupyter-widgets/base",
            "_model_module_version": "1.5.0",
            "_view_count": null,
            "_view_module_version": "1.2.0",
            "_model_module": "@jupyter-widgets/controls"
          }
        },
        "cdb71a9ba4574e42bb2a70732b80bc37": {
          "model_module": "@jupyter-widgets/base",
          "model_name": "LayoutModel",
          "state": {
            "_view_name": "LayoutView",
            "grid_template_rows": null,
            "right": null,
            "justify_content": null,
            "_view_module": "@jupyter-widgets/base",
            "overflow": null,
            "_model_module_version": "1.2.0",
            "_view_count": null,
            "flex_flow": null,
            "width": null,
            "min_width": null,
            "border": null,
            "align_items": null,
            "bottom": null,
            "_model_module": "@jupyter-widgets/base",
            "top": null,
            "grid_column": null,
            "overflow_y": null,
            "overflow_x": null,
            "grid_auto_flow": null,
            "grid_area": null,
            "grid_template_columns": null,
            "flex": null,
            "_model_name": "LayoutModel",
            "justify_items": null,
            "grid_row": null,
            "max_height": null,
            "align_content": null,
            "visibility": null,
            "align_self": null,
            "height": null,
            "min_height": null,
            "padding": null,
            "grid_auto_rows": null,
            "grid_gap": null,
            "max_width": null,
            "order": null,
            "_view_module_version": "1.2.0",
            "grid_template_areas": null,
            "object_position": null,
            "object_fit": null,
            "grid_auto_columns": null,
            "margin": null,
            "display": null,
            "left": null
          }
        },
        "2cb3380c0eaf4b4d98441db1fb7d4263": {
          "model_module": "@jupyter-widgets/controls",
          "model_name": "HBoxModel",
          "state": {
            "_view_name": "HBoxView",
            "_dom_classes": [],
            "_model_name": "HBoxModel",
            "_view_module": "@jupyter-widgets/controls",
            "_model_module_version": "1.5.0",
            "_view_count": null,
            "_view_module_version": "1.5.0",
            "box_style": "",
            "layout": "IPY_MODEL_aef16bfa629e4d35ad1cb245b9ce1b19",
            "_model_module": "@jupyter-widgets/controls",
            "children": [
              "IPY_MODEL_d6fc072b791544899cdcf15e824f6324",
              "IPY_MODEL_0cde7d5105f54012948a76e69ea700ff"
            ]
          }
        },
        "aef16bfa629e4d35ad1cb245b9ce1b19": {
          "model_module": "@jupyter-widgets/base",
          "model_name": "LayoutModel",
          "state": {
            "_view_name": "LayoutView",
            "grid_template_rows": null,
            "right": null,
            "justify_content": null,
            "_view_module": "@jupyter-widgets/base",
            "overflow": null,
            "_model_module_version": "1.2.0",
            "_view_count": null,
            "flex_flow": null,
            "width": null,
            "min_width": null,
            "border": null,
            "align_items": null,
            "bottom": null,
            "_model_module": "@jupyter-widgets/base",
            "top": null,
            "grid_column": null,
            "overflow_y": null,
            "overflow_x": null,
            "grid_auto_flow": null,
            "grid_area": null,
            "grid_template_columns": null,
            "flex": null,
            "_model_name": "LayoutModel",
            "justify_items": null,
            "grid_row": null,
            "max_height": null,
            "align_content": null,
            "visibility": null,
            "align_self": null,
            "height": null,
            "min_height": null,
            "padding": null,
            "grid_auto_rows": null,
            "grid_gap": null,
            "max_width": null,
            "order": null,
            "_view_module_version": "1.2.0",
            "grid_template_areas": null,
            "object_position": null,
            "object_fit": null,
            "grid_auto_columns": null,
            "margin": null,
            "display": null,
            "left": null
          }
        },
        "d6fc072b791544899cdcf15e824f6324": {
          "model_module": "@jupyter-widgets/controls",
          "model_name": "FloatProgressModel",
          "state": {
            "_view_name": "ProgressView",
            "style": "IPY_MODEL_15e4ce81fd2043fbac22681a1b16deb4",
            "_dom_classes": [],
            "description": "",
            "_model_name": "FloatProgressModel",
            "bar_style": "info",
            "max": 1,
            "_view_module": "@jupyter-widgets/controls",
            "_model_module_version": "1.5.0",
            "value": 1,
            "_view_count": null,
            "_view_module_version": "1.5.0",
            "orientation": "horizontal",
            "min": 0,
            "description_tooltip": null,
            "_model_module": "@jupyter-widgets/controls",
            "layout": "IPY_MODEL_e3368b1fc694407980ae95cfca47134a"
          }
        },
        "0cde7d5105f54012948a76e69ea700ff": {
          "model_module": "@jupyter-widgets/controls",
          "model_name": "HTMLModel",
          "state": {
            "_view_name": "HTMLView",
            "style": "IPY_MODEL_e1887cf0016e477c9db42b7697034351",
            "_dom_classes": [],
            "description": "",
            "_model_name": "HTMLModel",
            "placeholder": "​",
            "_view_module": "@jupyter-widgets/controls",
            "_model_module_version": "1.5.0",
            "value": " 10570/0 [00:00&lt;00:00, 7682.42 examples/s]",
            "_view_count": null,
            "_view_module_version": "1.5.0",
            "description_tooltip": null,
            "_model_module": "@jupyter-widgets/controls",
            "layout": "IPY_MODEL_a02956094f8f453d8e3f4bf589d2722c"
          }
        },
        "15e4ce81fd2043fbac22681a1b16deb4": {
          "model_module": "@jupyter-widgets/controls",
          "model_name": "ProgressStyleModel",
          "state": {
            "_view_name": "StyleView",
            "_model_name": "ProgressStyleModel",
            "description_width": "initial",
            "_view_module": "@jupyter-widgets/base",
            "_model_module_version": "1.5.0",
            "_view_count": null,
            "_view_module_version": "1.2.0",
            "bar_color": null,
            "_model_module": "@jupyter-widgets/controls"
          }
        },
        "e3368b1fc694407980ae95cfca47134a": {
          "model_module": "@jupyter-widgets/base",
          "model_name": "LayoutModel",
          "state": {
            "_view_name": "LayoutView",
            "grid_template_rows": null,
            "right": null,
            "justify_content": null,
            "_view_module": "@jupyter-widgets/base",
            "overflow": null,
            "_model_module_version": "1.2.0",
            "_view_count": null,
            "flex_flow": null,
            "width": null,
            "min_width": null,
            "border": null,
            "align_items": null,
            "bottom": null,
            "_model_module": "@jupyter-widgets/base",
            "top": null,
            "grid_column": null,
            "overflow_y": null,
            "overflow_x": null,
            "grid_auto_flow": null,
            "grid_area": null,
            "grid_template_columns": null,
            "flex": null,
            "_model_name": "LayoutModel",
            "justify_items": null,
            "grid_row": null,
            "max_height": null,
            "align_content": null,
            "visibility": null,
            "align_self": null,
            "height": null,
            "min_height": null,
            "padding": null,
            "grid_auto_rows": null,
            "grid_gap": null,
            "max_width": null,
            "order": null,
            "_view_module_version": "1.2.0",
            "grid_template_areas": null,
            "object_position": null,
            "object_fit": null,
            "grid_auto_columns": null,
            "margin": null,
            "display": null,
            "left": null
          }
        },
        "e1887cf0016e477c9db42b7697034351": {
          "model_module": "@jupyter-widgets/controls",
          "model_name": "DescriptionStyleModel",
          "state": {
            "_view_name": "StyleView",
            "_model_name": "DescriptionStyleModel",
            "description_width": "",
            "_view_module": "@jupyter-widgets/base",
            "_model_module_version": "1.5.0",
            "_view_count": null,
            "_view_module_version": "1.2.0",
            "_model_module": "@jupyter-widgets/controls"
          }
        },
        "a02956094f8f453d8e3f4bf589d2722c": {
          "model_module": "@jupyter-widgets/base",
          "model_name": "LayoutModel",
          "state": {
            "_view_name": "LayoutView",
            "grid_template_rows": null,
            "right": null,
            "justify_content": null,
            "_view_module": "@jupyter-widgets/base",
            "overflow": null,
            "_model_module_version": "1.2.0",
            "_view_count": null,
            "flex_flow": null,
            "width": null,
            "min_width": null,
            "border": null,
            "align_items": null,
            "bottom": null,
            "_model_module": "@jupyter-widgets/base",
            "top": null,
            "grid_column": null,
            "overflow_y": null,
            "overflow_x": null,
            "grid_auto_flow": null,
            "grid_area": null,
            "grid_template_columns": null,
            "flex": null,
            "_model_name": "LayoutModel",
            "justify_items": null,
            "grid_row": null,
            "max_height": null,
            "align_content": null,
            "visibility": null,
            "align_self": null,
            "height": null,
            "min_height": null,
            "padding": null,
            "grid_auto_rows": null,
            "grid_gap": null,
            "max_width": null,
            "order": null,
            "_view_module_version": "1.2.0",
            "grid_template_areas": null,
            "object_position": null,
            "object_fit": null,
            "grid_auto_columns": null,
            "margin": null,
            "display": null,
            "left": null
          }
        },
        "ed0ecd164e4045fc94ed171246200173": {
          "model_module": "@jupyter-widgets/controls",
          "model_name": "HBoxModel",
          "state": {
            "_view_name": "HBoxView",
            "_dom_classes": [],
            "_model_name": "HBoxModel",
            "_view_module": "@jupyter-widgets/controls",
            "_model_module_version": "1.5.0",
            "_view_count": null,
            "_view_module_version": "1.5.0",
            "box_style": "",
            "layout": "IPY_MODEL_256c19029d4e41b09616ce7d23b6cec8",
            "_model_module": "@jupyter-widgets/controls",
            "children": [
              "IPY_MODEL_cda733c142d0412aba436ba9a6eb3ab0",
              "IPY_MODEL_6d5af8884c764edc9d484e6edc5c16d7"
            ]
          }
        },
        "256c19029d4e41b09616ce7d23b6cec8": {
          "model_module": "@jupyter-widgets/base",
          "model_name": "LayoutModel",
          "state": {
            "_view_name": "LayoutView",
            "grid_template_rows": null,
            "right": null,
            "justify_content": null,
            "_view_module": "@jupyter-widgets/base",
            "overflow": null,
            "_model_module_version": "1.2.0",
            "_view_count": null,
            "flex_flow": null,
            "width": null,
            "min_width": null,
            "border": null,
            "align_items": null,
            "bottom": null,
            "_model_module": "@jupyter-widgets/base",
            "top": null,
            "grid_column": null,
            "overflow_y": null,
            "overflow_x": null,
            "grid_auto_flow": null,
            "grid_area": null,
            "grid_template_columns": null,
            "flex": null,
            "_model_name": "LayoutModel",
            "justify_items": null,
            "grid_row": null,
            "max_height": null,
            "align_content": null,
            "visibility": null,
            "align_self": null,
            "height": null,
            "min_height": null,
            "padding": null,
            "grid_auto_rows": null,
            "grid_gap": null,
            "max_width": null,
            "order": null,
            "_view_module_version": "1.2.0",
            "grid_template_areas": null,
            "object_position": null,
            "object_fit": null,
            "grid_auto_columns": null,
            "margin": null,
            "display": null,
            "left": null
          }
        },
        "cda733c142d0412aba436ba9a6eb3ab0": {
          "model_module": "@jupyter-widgets/controls",
          "model_name": "FloatProgressModel",
          "state": {
            "_view_name": "ProgressView",
            "style": "IPY_MODEL_4210e2378f8f4066bdf7a863a595603a",
            "_dom_classes": [],
            "description": "Downloading: 100%",
            "_model_name": "FloatProgressModel",
            "bar_style": "success",
            "max": 411,
            "_view_module": "@jupyter-widgets/controls",
            "_model_module_version": "1.5.0",
            "value": 411,
            "_view_count": null,
            "_view_module_version": "1.5.0",
            "orientation": "horizontal",
            "min": 0,
            "description_tooltip": null,
            "_model_module": "@jupyter-widgets/controls",
            "layout": "IPY_MODEL_d59361b3f0b74472b5bcc0a5b713f12e"
          }
        },
        "6d5af8884c764edc9d484e6edc5c16d7": {
          "model_module": "@jupyter-widgets/controls",
          "model_name": "HTMLModel",
          "state": {
            "_view_name": "HTMLView",
            "style": "IPY_MODEL_edfe0dae68684bf1aaa1906bcb48da1b",
            "_dom_classes": [],
            "description": "",
            "_model_name": "HTMLModel",
            "placeholder": "​",
            "_view_module": "@jupyter-widgets/controls",
            "_model_module_version": "1.5.0",
            "value": " 411/411 [00:28&lt;00:00, 14.4B/s]",
            "_view_count": null,
            "_view_module_version": "1.5.0",
            "description_tooltip": null,
            "_model_module": "@jupyter-widgets/controls",
            "layout": "IPY_MODEL_aa796c567943492d9b63e65365d916ea"
          }
        },
        "4210e2378f8f4066bdf7a863a595603a": {
          "model_module": "@jupyter-widgets/controls",
          "model_name": "ProgressStyleModel",
          "state": {
            "_view_name": "StyleView",
            "_model_name": "ProgressStyleModel",
            "description_width": "initial",
            "_view_module": "@jupyter-widgets/base",
            "_model_module_version": "1.5.0",
            "_view_count": null,
            "_view_module_version": "1.2.0",
            "bar_color": null,
            "_model_module": "@jupyter-widgets/controls"
          }
        },
        "d59361b3f0b74472b5bcc0a5b713f12e": {
          "model_module": "@jupyter-widgets/base",
          "model_name": "LayoutModel",
          "state": {
            "_view_name": "LayoutView",
            "grid_template_rows": null,
            "right": null,
            "justify_content": null,
            "_view_module": "@jupyter-widgets/base",
            "overflow": null,
            "_model_module_version": "1.2.0",
            "_view_count": null,
            "flex_flow": null,
            "width": null,
            "min_width": null,
            "border": null,
            "align_items": null,
            "bottom": null,
            "_model_module": "@jupyter-widgets/base",
            "top": null,
            "grid_column": null,
            "overflow_y": null,
            "overflow_x": null,
            "grid_auto_flow": null,
            "grid_area": null,
            "grid_template_columns": null,
            "flex": null,
            "_model_name": "LayoutModel",
            "justify_items": null,
            "grid_row": null,
            "max_height": null,
            "align_content": null,
            "visibility": null,
            "align_self": null,
            "height": null,
            "min_height": null,
            "padding": null,
            "grid_auto_rows": null,
            "grid_gap": null,
            "max_width": null,
            "order": null,
            "_view_module_version": "1.2.0",
            "grid_template_areas": null,
            "object_position": null,
            "object_fit": null,
            "grid_auto_columns": null,
            "margin": null,
            "display": null,
            "left": null
          }
        },
        "edfe0dae68684bf1aaa1906bcb48da1b": {
          "model_module": "@jupyter-widgets/controls",
          "model_name": "DescriptionStyleModel",
          "state": {
            "_view_name": "StyleView",
            "_model_name": "DescriptionStyleModel",
            "description_width": "",
            "_view_module": "@jupyter-widgets/base",
            "_model_module_version": "1.5.0",
            "_view_count": null,
            "_view_module_version": "1.2.0",
            "_model_module": "@jupyter-widgets/controls"
          }
        },
        "aa796c567943492d9b63e65365d916ea": {
          "model_module": "@jupyter-widgets/base",
          "model_name": "LayoutModel",
          "state": {
            "_view_name": "LayoutView",
            "grid_template_rows": null,
            "right": null,
            "justify_content": null,
            "_view_module": "@jupyter-widgets/base",
            "overflow": null,
            "_model_module_version": "1.2.0",
            "_view_count": null,
            "flex_flow": null,
            "width": null,
            "min_width": null,
            "border": null,
            "align_items": null,
            "bottom": null,
            "_model_module": "@jupyter-widgets/base",
            "top": null,
            "grid_column": null,
            "overflow_y": null,
            "overflow_x": null,
            "grid_auto_flow": null,
            "grid_area": null,
            "grid_template_columns": null,
            "flex": null,
            "_model_name": "LayoutModel",
            "justify_items": null,
            "grid_row": null,
            "max_height": null,
            "align_content": null,
            "visibility": null,
            "align_self": null,
            "height": null,
            "min_height": null,
            "padding": null,
            "grid_auto_rows": null,
            "grid_gap": null,
            "max_width": null,
            "order": null,
            "_view_module_version": "1.2.0",
            "grid_template_areas": null,
            "object_position": null,
            "object_fit": null,
            "grid_auto_columns": null,
            "margin": null,
            "display": null,
            "left": null
          }
        },
        "9c60507010364525b4d60833672f7325": {
          "model_module": "@jupyter-widgets/controls",
          "model_name": "HBoxModel",
          "state": {
            "_view_name": "HBoxView",
            "_dom_classes": [],
            "_model_name": "HBoxModel",
            "_view_module": "@jupyter-widgets/controls",
            "_model_module_version": "1.5.0",
            "_view_count": null,
            "_view_module_version": "1.5.0",
            "box_style": "",
            "layout": "IPY_MODEL_c7f7cdcd829e412286687a23a46fac11",
            "_model_module": "@jupyter-widgets/controls",
            "children": [
              "IPY_MODEL_98ec87042f41408ca6d3f97f4ffe6af1",
              "IPY_MODEL_e2c06515f7a041f0a72426ba7b391048"
            ]
          }
        },
        "c7f7cdcd829e412286687a23a46fac11": {
          "model_module": "@jupyter-widgets/base",
          "model_name": "LayoutModel",
          "state": {
            "_view_name": "LayoutView",
            "grid_template_rows": null,
            "right": null,
            "justify_content": null,
            "_view_module": "@jupyter-widgets/base",
            "overflow": null,
            "_model_module_version": "1.2.0",
            "_view_count": null,
            "flex_flow": null,
            "width": null,
            "min_width": null,
            "border": null,
            "align_items": null,
            "bottom": null,
            "_model_module": "@jupyter-widgets/base",
            "top": null,
            "grid_column": null,
            "overflow_y": null,
            "overflow_x": null,
            "grid_auto_flow": null,
            "grid_area": null,
            "grid_template_columns": null,
            "flex": null,
            "_model_name": "LayoutModel",
            "justify_items": null,
            "grid_row": null,
            "max_height": null,
            "align_content": null,
            "visibility": null,
            "align_self": null,
            "height": null,
            "min_height": null,
            "padding": null,
            "grid_auto_rows": null,
            "grid_gap": null,
            "max_width": null,
            "order": null,
            "_view_module_version": "1.2.0",
            "grid_template_areas": null,
            "object_position": null,
            "object_fit": null,
            "grid_auto_columns": null,
            "margin": null,
            "display": null,
            "left": null
          }
        },
        "98ec87042f41408ca6d3f97f4ffe6af1": {
          "model_module": "@jupyter-widgets/controls",
          "model_name": "FloatProgressModel",
          "state": {
            "_view_name": "ProgressView",
            "style": "IPY_MODEL_e9fdefbbe4b945a18657c22a072a05ad",
            "_dom_classes": [],
            "description": "Downloading: 100%",
            "_model_name": "FloatProgressModel",
            "bar_style": "success",
            "max": 213450,
            "_view_module": "@jupyter-widgets/controls",
            "_model_module_version": "1.5.0",
            "value": 213450,
            "_view_count": null,
            "_view_module_version": "1.5.0",
            "orientation": "horizontal",
            "min": 0,
            "description_tooltip": null,
            "_model_module": "@jupyter-widgets/controls",
            "layout": "IPY_MODEL_2ee2d4bc478148a5822aa5acf84bfa74"
          }
        },
        "e2c06515f7a041f0a72426ba7b391048": {
          "model_module": "@jupyter-widgets/controls",
          "model_name": "HTMLModel",
          "state": {
            "_view_name": "HTMLView",
            "style": "IPY_MODEL_8d0dc229bfa74a7296b0c5420bf8d6a7",
            "_dom_classes": [],
            "description": "",
            "_model_name": "HTMLModel",
            "placeholder": "​",
            "_view_module": "@jupyter-widgets/controls",
            "_model_module_version": "1.5.0",
            "value": " 213k/213k [00:27&lt;00:00, 7.62kB/s]",
            "_view_count": null,
            "_view_module_version": "1.5.0",
            "description_tooltip": null,
            "_model_module": "@jupyter-widgets/controls",
            "layout": "IPY_MODEL_1be0a705ffe34cab80e8ea83e65292f0"
          }
        },
        "e9fdefbbe4b945a18657c22a072a05ad": {
          "model_module": "@jupyter-widgets/controls",
          "model_name": "ProgressStyleModel",
          "state": {
            "_view_name": "StyleView",
            "_model_name": "ProgressStyleModel",
            "description_width": "initial",
            "_view_module": "@jupyter-widgets/base",
            "_model_module_version": "1.5.0",
            "_view_count": null,
            "_view_module_version": "1.2.0",
            "bar_color": null,
            "_model_module": "@jupyter-widgets/controls"
          }
        },
        "2ee2d4bc478148a5822aa5acf84bfa74": {
          "model_module": "@jupyter-widgets/base",
          "model_name": "LayoutModel",
          "state": {
            "_view_name": "LayoutView",
            "grid_template_rows": null,
            "right": null,
            "justify_content": null,
            "_view_module": "@jupyter-widgets/base",
            "overflow": null,
            "_model_module_version": "1.2.0",
            "_view_count": null,
            "flex_flow": null,
            "width": null,
            "min_width": null,
            "border": null,
            "align_items": null,
            "bottom": null,
            "_model_module": "@jupyter-widgets/base",
            "top": null,
            "grid_column": null,
            "overflow_y": null,
            "overflow_x": null,
            "grid_auto_flow": null,
            "grid_area": null,
            "grid_template_columns": null,
            "flex": null,
            "_model_name": "LayoutModel",
            "justify_items": null,
            "grid_row": null,
            "max_height": null,
            "align_content": null,
            "visibility": null,
            "align_self": null,
            "height": null,
            "min_height": null,
            "padding": null,
            "grid_auto_rows": null,
            "grid_gap": null,
            "max_width": null,
            "order": null,
            "_view_module_version": "1.2.0",
            "grid_template_areas": null,
            "object_position": null,
            "object_fit": null,
            "grid_auto_columns": null,
            "margin": null,
            "display": null,
            "left": null
          }
        },
        "8d0dc229bfa74a7296b0c5420bf8d6a7": {
          "model_module": "@jupyter-widgets/controls",
          "model_name": "DescriptionStyleModel",
          "state": {
            "_view_name": "StyleView",
            "_model_name": "DescriptionStyleModel",
            "description_width": "",
            "_view_module": "@jupyter-widgets/base",
            "_model_module_version": "1.5.0",
            "_view_count": null,
            "_view_module_version": "1.2.0",
            "_model_module": "@jupyter-widgets/controls"
          }
        },
        "1be0a705ffe34cab80e8ea83e65292f0": {
          "model_module": "@jupyter-widgets/base",
          "model_name": "LayoutModel",
          "state": {
            "_view_name": "LayoutView",
            "grid_template_rows": null,
            "right": null,
            "justify_content": null,
            "_view_module": "@jupyter-widgets/base",
            "overflow": null,
            "_model_module_version": "1.2.0",
            "_view_count": null,
            "flex_flow": null,
            "width": null,
            "min_width": null,
            "border": null,
            "align_items": null,
            "bottom": null,
            "_model_module": "@jupyter-widgets/base",
            "top": null,
            "grid_column": null,
            "overflow_y": null,
            "overflow_x": null,
            "grid_auto_flow": null,
            "grid_area": null,
            "grid_template_columns": null,
            "flex": null,
            "_model_name": "LayoutModel",
            "justify_items": null,
            "grid_row": null,
            "max_height": null,
            "align_content": null,
            "visibility": null,
            "align_self": null,
            "height": null,
            "min_height": null,
            "padding": null,
            "grid_auto_rows": null,
            "grid_gap": null,
            "max_width": null,
            "order": null,
            "_view_module_version": "1.2.0",
            "grid_template_areas": null,
            "object_position": null,
            "object_fit": null,
            "grid_auto_columns": null,
            "margin": null,
            "display": null,
            "left": null
          }
        },
        "c6073edb22dc4e3d969421ff5358aa13": {
          "model_module": "@jupyter-widgets/controls",
          "model_name": "HBoxModel",
          "state": {
            "_view_name": "HBoxView",
            "_dom_classes": [],
            "_model_name": "HBoxModel",
            "_view_module": "@jupyter-widgets/controls",
            "_model_module_version": "1.5.0",
            "_view_count": null,
            "_view_module_version": "1.5.0",
            "box_style": "",
            "layout": "IPY_MODEL_5df08df514b84c98832ccdfba233fee3",
            "_model_module": "@jupyter-widgets/controls",
            "children": [
              "IPY_MODEL_884d969fd0104e8c98c7b92c7db9b640",
              "IPY_MODEL_11383491aad04dd7888830a7a73bdf72"
            ]
          }
        },
        "5df08df514b84c98832ccdfba233fee3": {
          "model_module": "@jupyter-widgets/base",
          "model_name": "LayoutModel",
          "state": {
            "_view_name": "LayoutView",
            "grid_template_rows": null,
            "right": null,
            "justify_content": null,
            "_view_module": "@jupyter-widgets/base",
            "overflow": null,
            "_model_module_version": "1.2.0",
            "_view_count": null,
            "flex_flow": null,
            "width": null,
            "min_width": null,
            "border": null,
            "align_items": null,
            "bottom": null,
            "_model_module": "@jupyter-widgets/base",
            "top": null,
            "grid_column": null,
            "overflow_y": null,
            "overflow_x": null,
            "grid_auto_flow": null,
            "grid_area": null,
            "grid_template_columns": null,
            "flex": null,
            "_model_name": "LayoutModel",
            "justify_items": null,
            "grid_row": null,
            "max_height": null,
            "align_content": null,
            "visibility": null,
            "align_self": null,
            "height": null,
            "min_height": null,
            "padding": null,
            "grid_auto_rows": null,
            "grid_gap": null,
            "max_width": null,
            "order": null,
            "_view_module_version": "1.2.0",
            "grid_template_areas": null,
            "object_position": null,
            "object_fit": null,
            "grid_auto_columns": null,
            "margin": null,
            "display": null,
            "left": null
          }
        },
        "884d969fd0104e8c98c7b92c7db9b640": {
          "model_module": "@jupyter-widgets/controls",
          "model_name": "FloatProgressModel",
          "state": {
            "_view_name": "ProgressView",
            "style": "IPY_MODEL_70c3765986c643578bd3e19e4d65d1b2",
            "_dom_classes": [],
            "description": "Downloading: 100%",
            "_model_name": "FloatProgressModel",
            "bar_style": "success",
            "max": 435797,
            "_view_module": "@jupyter-widgets/controls",
            "_model_module_version": "1.5.0",
            "value": 435797,
            "_view_count": null,
            "_view_module_version": "1.5.0",
            "orientation": "horizontal",
            "min": 0,
            "description_tooltip": null,
            "_model_module": "@jupyter-widgets/controls",
            "layout": "IPY_MODEL_ffd557dd3f434a758898953d10a350b7"
          }
        },
        "11383491aad04dd7888830a7a73bdf72": {
          "model_module": "@jupyter-widgets/controls",
          "model_name": "HTMLModel",
          "state": {
            "_view_name": "HTMLView",
            "style": "IPY_MODEL_6b049f26a1e44fd6aaee25cff13cb625",
            "_dom_classes": [],
            "description": "",
            "_model_name": "HTMLModel",
            "placeholder": "​",
            "_view_module": "@jupyter-widgets/controls",
            "_model_module_version": "1.5.0",
            "value": " 436k/436k [00:01&lt;00:00, 356kB/s]",
            "_view_count": null,
            "_view_module_version": "1.5.0",
            "description_tooltip": null,
            "_model_module": "@jupyter-widgets/controls",
            "layout": "IPY_MODEL_c2607a0e0dd842d3aa439e9e1ddb4360"
          }
        },
        "70c3765986c643578bd3e19e4d65d1b2": {
          "model_module": "@jupyter-widgets/controls",
          "model_name": "ProgressStyleModel",
          "state": {
            "_view_name": "StyleView",
            "_model_name": "ProgressStyleModel",
            "description_width": "initial",
            "_view_module": "@jupyter-widgets/base",
            "_model_module_version": "1.5.0",
            "_view_count": null,
            "_view_module_version": "1.2.0",
            "bar_color": null,
            "_model_module": "@jupyter-widgets/controls"
          }
        },
        "ffd557dd3f434a758898953d10a350b7": {
          "model_module": "@jupyter-widgets/base",
          "model_name": "LayoutModel",
          "state": {
            "_view_name": "LayoutView",
            "grid_template_rows": null,
            "right": null,
            "justify_content": null,
            "_view_module": "@jupyter-widgets/base",
            "overflow": null,
            "_model_module_version": "1.2.0",
            "_view_count": null,
            "flex_flow": null,
            "width": null,
            "min_width": null,
            "border": null,
            "align_items": null,
            "bottom": null,
            "_model_module": "@jupyter-widgets/base",
            "top": null,
            "grid_column": null,
            "overflow_y": null,
            "overflow_x": null,
            "grid_auto_flow": null,
            "grid_area": null,
            "grid_template_columns": null,
            "flex": null,
            "_model_name": "LayoutModel",
            "justify_items": null,
            "grid_row": null,
            "max_height": null,
            "align_content": null,
            "visibility": null,
            "align_self": null,
            "height": null,
            "min_height": null,
            "padding": null,
            "grid_auto_rows": null,
            "grid_gap": null,
            "max_width": null,
            "order": null,
            "_view_module_version": "1.2.0",
            "grid_template_areas": null,
            "object_position": null,
            "object_fit": null,
            "grid_auto_columns": null,
            "margin": null,
            "display": null,
            "left": null
          }
        },
        "6b049f26a1e44fd6aaee25cff13cb625": {
          "model_module": "@jupyter-widgets/controls",
          "model_name": "DescriptionStyleModel",
          "state": {
            "_view_name": "StyleView",
            "_model_name": "DescriptionStyleModel",
            "description_width": "",
            "_view_module": "@jupyter-widgets/base",
            "_model_module_version": "1.5.0",
            "_view_count": null,
            "_view_module_version": "1.2.0",
            "_model_module": "@jupyter-widgets/controls"
          }
        },
        "c2607a0e0dd842d3aa439e9e1ddb4360": {
          "model_module": "@jupyter-widgets/base",
          "model_name": "LayoutModel",
          "state": {
            "_view_name": "LayoutView",
            "grid_template_rows": null,
            "right": null,
            "justify_content": null,
            "_view_module": "@jupyter-widgets/base",
            "overflow": null,
            "_model_module_version": "1.2.0",
            "_view_count": null,
            "flex_flow": null,
            "width": null,
            "min_width": null,
            "border": null,
            "align_items": null,
            "bottom": null,
            "_model_module": "@jupyter-widgets/base",
            "top": null,
            "grid_column": null,
            "overflow_y": null,
            "overflow_x": null,
            "grid_auto_flow": null,
            "grid_area": null,
            "grid_template_columns": null,
            "flex": null,
            "_model_name": "LayoutModel",
            "justify_items": null,
            "grid_row": null,
            "max_height": null,
            "align_content": null,
            "visibility": null,
            "align_self": null,
            "height": null,
            "min_height": null,
            "padding": null,
            "grid_auto_rows": null,
            "grid_gap": null,
            "max_width": null,
            "order": null,
            "_view_module_version": "1.2.0",
            "grid_template_areas": null,
            "object_position": null,
            "object_fit": null,
            "grid_auto_columns": null,
            "margin": null,
            "display": null,
            "left": null
          }
        },
        "71f97c8140ce4e08832e8b573a3bcfce": {
          "model_module": "@jupyter-widgets/controls",
          "model_name": "HBoxModel",
          "state": {
            "_view_name": "HBoxView",
            "_dom_classes": [],
            "_model_name": "HBoxModel",
            "_view_module": "@jupyter-widgets/controls",
            "_model_module_version": "1.5.0",
            "_view_count": null,
            "_view_module_version": "1.5.0",
            "box_style": "",
            "layout": "IPY_MODEL_98771230170c4dec821b46b63fafd44a",
            "_model_module": "@jupyter-widgets/controls",
            "children": [
              "IPY_MODEL_12c63153a9194da8890b04c1823b5134",
              "IPY_MODEL_852433cbdc4e4a97878a09913859f706"
            ]
          }
        },
        "98771230170c4dec821b46b63fafd44a": {
          "model_module": "@jupyter-widgets/base",
          "model_name": "LayoutModel",
          "state": {
            "_view_name": "LayoutView",
            "grid_template_rows": null,
            "right": null,
            "justify_content": null,
            "_view_module": "@jupyter-widgets/base",
            "overflow": null,
            "_model_module_version": "1.2.0",
            "_view_count": null,
            "flex_flow": null,
            "width": null,
            "min_width": null,
            "border": null,
            "align_items": null,
            "bottom": null,
            "_model_module": "@jupyter-widgets/base",
            "top": null,
            "grid_column": null,
            "overflow_y": null,
            "overflow_x": null,
            "grid_auto_flow": null,
            "grid_area": null,
            "grid_template_columns": null,
            "flex": null,
            "_model_name": "LayoutModel",
            "justify_items": null,
            "grid_row": null,
            "max_height": null,
            "align_content": null,
            "visibility": null,
            "align_self": null,
            "height": null,
            "min_height": null,
            "padding": null,
            "grid_auto_rows": null,
            "grid_gap": null,
            "max_width": null,
            "order": null,
            "_view_module_version": "1.2.0",
            "grid_template_areas": null,
            "object_position": null,
            "object_fit": null,
            "grid_auto_columns": null,
            "margin": null,
            "display": null,
            "left": null
          }
        },
        "12c63153a9194da8890b04c1823b5134": {
          "model_module": "@jupyter-widgets/controls",
          "model_name": "FloatProgressModel",
          "state": {
            "_view_name": "ProgressView",
            "style": "IPY_MODEL_54fc2ebfde174ec3b06f103ed5d799e8",
            "_dom_classes": [],
            "description": "Downloading: 100%",
            "_model_name": "FloatProgressModel",
            "bar_style": "success",
            "max": 29,
            "_view_module": "@jupyter-widgets/controls",
            "_model_module_version": "1.5.0",
            "value": 29,
            "_view_count": null,
            "_view_module_version": "1.5.0",
            "orientation": "horizontal",
            "min": 0,
            "description_tooltip": null,
            "_model_module": "@jupyter-widgets/controls",
            "layout": "IPY_MODEL_a7809c88816547aeb3f646730fa90163"
          }
        },
        "852433cbdc4e4a97878a09913859f706": {
          "model_module": "@jupyter-widgets/controls",
          "model_name": "HTMLModel",
          "state": {
            "_view_name": "HTMLView",
            "style": "IPY_MODEL_5e99d1eb0814419d98ad6c7a9ead9be7",
            "_dom_classes": [],
            "description": "",
            "_model_name": "HTMLModel",
            "placeholder": "​",
            "_view_module": "@jupyter-widgets/controls",
            "_model_module_version": "1.5.0",
            "value": " 29.0/29.0 [00:00&lt;00:00, 266B/s]",
            "_view_count": null,
            "_view_module_version": "1.5.0",
            "description_tooltip": null,
            "_model_module": "@jupyter-widgets/controls",
            "layout": "IPY_MODEL_c16163caca144a1398c345c48caf90c9"
          }
        },
        "54fc2ebfde174ec3b06f103ed5d799e8": {
          "model_module": "@jupyter-widgets/controls",
          "model_name": "ProgressStyleModel",
          "state": {
            "_view_name": "StyleView",
            "_model_name": "ProgressStyleModel",
            "description_width": "initial",
            "_view_module": "@jupyter-widgets/base",
            "_model_module_version": "1.5.0",
            "_view_count": null,
            "_view_module_version": "1.2.0",
            "bar_color": null,
            "_model_module": "@jupyter-widgets/controls"
          }
        },
        "a7809c88816547aeb3f646730fa90163": {
          "model_module": "@jupyter-widgets/base",
          "model_name": "LayoutModel",
          "state": {
            "_view_name": "LayoutView",
            "grid_template_rows": null,
            "right": null,
            "justify_content": null,
            "_view_module": "@jupyter-widgets/base",
            "overflow": null,
            "_model_module_version": "1.2.0",
            "_view_count": null,
            "flex_flow": null,
            "width": null,
            "min_width": null,
            "border": null,
            "align_items": null,
            "bottom": null,
            "_model_module": "@jupyter-widgets/base",
            "top": null,
            "grid_column": null,
            "overflow_y": null,
            "overflow_x": null,
            "grid_auto_flow": null,
            "grid_area": null,
            "grid_template_columns": null,
            "flex": null,
            "_model_name": "LayoutModel",
            "justify_items": null,
            "grid_row": null,
            "max_height": null,
            "align_content": null,
            "visibility": null,
            "align_self": null,
            "height": null,
            "min_height": null,
            "padding": null,
            "grid_auto_rows": null,
            "grid_gap": null,
            "max_width": null,
            "order": null,
            "_view_module_version": "1.2.0",
            "grid_template_areas": null,
            "object_position": null,
            "object_fit": null,
            "grid_auto_columns": null,
            "margin": null,
            "display": null,
            "left": null
          }
        },
        "5e99d1eb0814419d98ad6c7a9ead9be7": {
          "model_module": "@jupyter-widgets/controls",
          "model_name": "DescriptionStyleModel",
          "state": {
            "_view_name": "StyleView",
            "_model_name": "DescriptionStyleModel",
            "description_width": "",
            "_view_module": "@jupyter-widgets/base",
            "_model_module_version": "1.5.0",
            "_view_count": null,
            "_view_module_version": "1.2.0",
            "_model_module": "@jupyter-widgets/controls"
          }
        },
        "c16163caca144a1398c345c48caf90c9": {
          "model_module": "@jupyter-widgets/base",
          "model_name": "LayoutModel",
          "state": {
            "_view_name": "LayoutView",
            "grid_template_rows": null,
            "right": null,
            "justify_content": null,
            "_view_module": "@jupyter-widgets/base",
            "overflow": null,
            "_model_module_version": "1.2.0",
            "_view_count": null,
            "flex_flow": null,
            "width": null,
            "min_width": null,
            "border": null,
            "align_items": null,
            "bottom": null,
            "_model_module": "@jupyter-widgets/base",
            "top": null,
            "grid_column": null,
            "overflow_y": null,
            "overflow_x": null,
            "grid_auto_flow": null,
            "grid_area": null,
            "grid_template_columns": null,
            "flex": null,
            "_model_name": "LayoutModel",
            "justify_items": null,
            "grid_row": null,
            "max_height": null,
            "align_content": null,
            "visibility": null,
            "align_self": null,
            "height": null,
            "min_height": null,
            "padding": null,
            "grid_auto_rows": null,
            "grid_gap": null,
            "max_width": null,
            "order": null,
            "_view_module_version": "1.2.0",
            "grid_template_areas": null,
            "object_position": null,
            "object_fit": null,
            "grid_auto_columns": null,
            "margin": null,
            "display": null,
            "left": null
          }
        }
      }
    }
  },
  "cells": [
    {
      "cell_type": "markdown",
      "metadata": {
        "id": "view-in-github",
        "colab_type": "text"
      },
      "source": [
        "<a href=\"https://colab.research.google.com/github/cicattzo/mit_advanced_nlp/blob/main/HW4_transformers.ipynb\" target=\"_parent\"><img src=\"https://colab.research.google.com/assets/colab-badge.svg\" alt=\"Open In Colab\"/></a>"
      ]
    },
    {
      "cell_type": "markdown",
      "metadata": {
        "id": "z7rIm6Z8Azco"
      },
      "source": [
        "# 6.864 Homework 4 - Question Answering"
      ]
    },
    {
      "cell_type": "markdown",
      "metadata": {
        "id": "PEqXWKzbKFUa"
      },
      "source": [
        "#1 Introduction\n",
        "In this homework, we'll put together all the tools we've learned in this class to build a model for a more complex task: answering questions about written passages.\n",
        "\n",
        "For this assignment, we'll start with pre-trained sentence representations from a model called DistilBERT (a smaller version of the BERT model we discussed in lecture). See the [paper](https://arxiv.org/pdf/1910.01108.pdf) for more info.\n",
        "\n",
        "Note that the implementation of this homework for question answering is slightly different from the method introducted in the lecture - in order to let you know more possible solutions to the QA task.\n"
      ]
    },
    {
      "cell_type": "markdown",
      "metadata": {
        "id": "YGNMW8qfKIi7"
      },
      "source": [
        "\n",
        "##1.1 Overview\n",
        "To build a question answering model from DistilBERT, we need to do the following\n",
        "\n",
        "1. Download a pretrained DistilBERT model.\n",
        "2. Add a task-specific answer prediction layer on top of DistilBERT's representations.\n",
        "3. Fine-tune both DistilBERT and the answer prediction layer on a Q&A task.\n",
        "4. Evaluate the trained Q&A model.\n",
        "\n",
        "This assignment will also introduce you to a set of libraries from an organization called HuggingFace (yes, really) that are commonly used to access NLP datasets and pre-trained transformer models.\n"
      ]
    },
    {
      "cell_type": "markdown",
      "metadata": {
        "id": "WxmnmxNuKNbW"
      },
      "source": [
        "\n",
        "##1.2 Data\n",
        "The dataset we will be using is the Stanford Question and Answer Dataset (SQuAD) v1.1. You can learn more about the dataset [here](https://rajpurkar.github.io/SQuAD-explorer/explore/1.1/dev/). Just be careful to look at the v1.1 version, not v2. We'll download this model using the HuggingFace `datasets` package.\n"
      ]
    },
    {
      "cell_type": "markdown",
      "metadata": {
        "id": "nBj8z07SKKXE"
      },
      "source": [
        "\n",
        "## 1.3 Pretrained model\n",
        "You will install the HuggingFace `transformers` package. This package provides a wide variety of pretrained transformers. Check out out the [documentation](https://huggingface.co/transformers/) for more information."
      ]
    },
    {
      "cell_type": "markdown",
      "metadata": {
        "id": "Zu98xiGQKRB0"
      },
      "source": [
        "\n",
        "## 1.4 Hardware\n",
        "Make sure you've enabled GPU as a hardware accelerator for this notebook."
      ]
    },
    {
      "cell_type": "markdown",
      "metadata": {
        "id": "dtBvgwmiKS7t"
      },
      "source": [
        "\n",
        "## 1.5 Important: Using Google Drive\n",
        "It is highly recommended that you mount your Google Drive to Colab. The code provided to you assumes that you've already done that. Create a folder named `6864_hw4` in your Google Drive root directory and use the code below to mount it. The code should save everything (dataset, feature-ized data, trained models etc.) in the `6864_hw4` folder in your drive."
      ]
    },
    {
      "cell_type": "code",
      "metadata": {
        "id": "JFsfhKJsAsfd",
        "colab": {
          "base_uri": "https://localhost:8080/"
        },
        "outputId": "09d119fb-a4be-47f5-c4fc-44dfb6d3f3dc"
      },
      "source": [
        "from google.colab import drive\n",
        "drive.mount('/content/gdrive')"
      ],
      "execution_count": 1,
      "outputs": [
        {
          "output_type": "stream",
          "text": [
            "Mounted at /content/gdrive\n"
          ],
          "name": "stdout"
        }
      ]
    },
    {
      "cell_type": "code",
      "metadata": {
        "id": "bxNrD3h2Be9b",
        "colab": {
          "base_uri": "https://localhost:8080/"
        },
        "outputId": "6185e3de-7b5e-4775-c345-f87867e11626"
      },
      "source": [
        "%%bash\n",
        "# Logistics #2: install the transformers package, create a folder, download the dataset and a patch\n",
        "pip -q install transformers\n",
        "pip -q install datasets\n",
        "pip -q install tqdm\n",
        "pip -q install sentencepiece \n",
        "\n",
        "# remove the directory if necessary\n",
        "# rm -rf \"/content/gdrive/MyDrive/6864_hw4/\"\n",
        "\n",
        "mkdir \"/content/gdrive/MyDrive/6864_hw4/\"\n",
        "cd \"/content/gdrive/MyDrive/6864_hw4/\""
      ],
      "execution_count": 2,
      "outputs": [
        {
          "output_type": "stream",
          "text": [
            "mkdir: cannot create directory ‘/content/gdrive/MyDrive/6864_hw4/’: File exists\n"
          ],
          "name": "stderr"
        }
      ]
    },
    {
      "cell_type": "markdown",
      "metadata": {
        "id": "HPriG2yYyGLX"
      },
      "source": [
        "Lets load the SQuAD dataset and observe its structure and data"
      ]
    },
    {
      "cell_type": "code",
      "metadata": {
        "id": "8_iHOeAJB6Ev",
        "colab": {
          "base_uri": "https://localhost:8080/",
          "height": 437,
          "referenced_widgets": [
            "e5347c5db61842e6a719f6c29b4186d6",
            "cc12baca60a54b51b49a29df8755d34c",
            "f7cbebacf108473690914033f10edf42",
            "c5f67b96072c4e30abb5292c883125f5",
            "e55b0202cad240a892099605387cd9fd",
            "4c7a6a61880b48aabb673b3e91df5348",
            "3d41b71f04934368abc8e26efdccf9cc",
            "8f4e442932204c04b7722c9c2603eff3",
            "279d02b6506649a2a8dc9a0f836af46c",
            "f93d9207894c4b56af754a360cef99c9",
            "9d052318851a42f2bbf93ca87ac6ffb2",
            "559aacdc1b15456e94f9270bec4275ca",
            "8e8ec193100145458ff4d2fcc2a1f261",
            "e4d2a37fd71f4a7397fd2ec59dbcbe14",
            "c2ef61bbc6974d5cbbf5655c7043b214",
            "4846ffb586d4465b871d9a3a78cd62bd",
            "3f6d0e932bd84ddd8be8b58257412946",
            "048a448682b2497699c36bc2fd54144d",
            "2c814e71736d4bdf9c40b0428d835477",
            "14c1188f753d4abfbf6c6dd85351fffc",
            "e0a36320036d4fe5b38a9b6d511ef3a1",
            "915cffb69bec4bfb91147a8cddee55fd",
            "4eaa23a0ac944077b1f2b904efa32ff6",
            "806a79f586a848af8bed6a72837e21c7",
            "06d26a5b34d74224aef930e74c6dcf7b",
            "54c46834f6ae4b3e89367b727a571f38",
            "9f10eafe2ec948adbf824c4f89f471dd",
            "84850161ec24476ea2b055de7a943609",
            "a181758f4bbf41748d5f05279515fc07",
            "357ddfe5a16840229d7b1f682e667767",
            "a193be6652d2464a9e309ed2e19df663",
            "b5d8a7cc50d5445c8f73770d22de877e",
            "730d727f11f9471ca0b57c04b936adb4",
            "02d30b2bde634f45918f231ac364e7e6",
            "1e5247e193ef455fa693c9290ebeded3",
            "87d955ab0a75473bb5623f447c12c169",
            "436f184934a54dd48e49dfc0fd87f0ec",
            "247ca6e3a8d04148b8f2cac8a4cc898e",
            "f5b8ca9a64554396a39041899fbf56ba",
            "cdb71a9ba4574e42bb2a70732b80bc37",
            "2cb3380c0eaf4b4d98441db1fb7d4263",
            "aef16bfa629e4d35ad1cb245b9ce1b19",
            "d6fc072b791544899cdcf15e824f6324",
            "0cde7d5105f54012948a76e69ea700ff",
            "15e4ce81fd2043fbac22681a1b16deb4",
            "e3368b1fc694407980ae95cfca47134a",
            "e1887cf0016e477c9db42b7697034351",
            "a02956094f8f453d8e3f4bf589d2722c"
          ]
        },
        "outputId": "689343a2-7fc4-40ae-fa29-4e5078e09607"
      },
      "source": [
        "from datasets import load_dataset\n",
        "\n",
        "squad = load_dataset('squad')\n",
        "print(squad)"
      ],
      "execution_count": 3,
      "outputs": [
        {
          "output_type": "display_data",
          "data": {
            "application/vnd.jupyter.widget-view+json": {
              "model_id": "e5347c5db61842e6a719f6c29b4186d6",
              "version_minor": 0,
              "version_major": 2
            },
            "text/plain": [
              "HBox(children=(FloatProgress(value=0.0, description='Downloading', max=1907.0, style=ProgressStyle(description…"
            ]
          },
          "metadata": {
            "tags": []
          }
        },
        {
          "output_type": "stream",
          "text": [
            "\n"
          ],
          "name": "stdout"
        },
        {
          "output_type": "display_data",
          "data": {
            "application/vnd.jupyter.widget-view+json": {
              "model_id": "279d02b6506649a2a8dc9a0f836af46c",
              "version_minor": 0,
              "version_major": 2
            },
            "text/plain": [
              "HBox(children=(FloatProgress(value=0.0, description='Downloading', max=955.0, style=ProgressStyle(description_…"
            ]
          },
          "metadata": {
            "tags": []
          }
        },
        {
          "output_type": "stream",
          "text": [
            "\n",
            "Downloading and preparing dataset squad/plain_text (download: 33.51 MiB, generated: 85.75 MiB, post-processed: Unknown size, total: 119.27 MiB) to /root/.cache/huggingface/datasets/squad/plain_text/1.0.0/0fd9e01360d229a22adfe0ab7e2dd2adc6e2b3d6d3db03636a51235947d4c6e9...\n"
          ],
          "name": "stdout"
        },
        {
          "output_type": "display_data",
          "data": {
            "application/vnd.jupyter.widget-view+json": {
              "model_id": "3f6d0e932bd84ddd8be8b58257412946",
              "version_minor": 0,
              "version_major": 2
            },
            "text/plain": [
              "HBox(children=(FloatProgress(value=0.0, description='Downloading', max=8116577.0, style=ProgressStyle(descript…"
            ]
          },
          "metadata": {
            "tags": []
          }
        },
        {
          "output_type": "stream",
          "text": [
            "\n"
          ],
          "name": "stdout"
        },
        {
          "output_type": "display_data",
          "data": {
            "application/vnd.jupyter.widget-view+json": {
              "model_id": "06d26a5b34d74224aef930e74c6dcf7b",
              "version_minor": 0,
              "version_major": 2
            },
            "text/plain": [
              "HBox(children=(FloatProgress(value=0.0, description='Downloading', max=1054280.0, style=ProgressStyle(descript…"
            ]
          },
          "metadata": {
            "tags": []
          }
        },
        {
          "output_type": "stream",
          "text": [
            "\n"
          ],
          "name": "stdout"
        },
        {
          "output_type": "display_data",
          "data": {
            "application/vnd.jupyter.widget-view+json": {
              "model_id": "730d727f11f9471ca0b57c04b936adb4",
              "version_minor": 0,
              "version_major": 2
            },
            "text/plain": [
              "HBox(children=(FloatProgress(value=1.0, bar_style='info', max=1.0), HTML(value='')))"
            ]
          },
          "metadata": {
            "tags": []
          }
        },
        {
          "output_type": "stream",
          "text": [
            "\r"
          ],
          "name": "stdout"
        },
        {
          "output_type": "display_data",
          "data": {
            "application/vnd.jupyter.widget-view+json": {
              "model_id": "2cb3380c0eaf4b4d98441db1fb7d4263",
              "version_minor": 0,
              "version_major": 2
            },
            "text/plain": [
              "HBox(children=(FloatProgress(value=1.0, bar_style='info', max=1.0), HTML(value='')))"
            ]
          },
          "metadata": {
            "tags": []
          }
        },
        {
          "output_type": "stream",
          "text": [
            "\rDataset squad downloaded and prepared to /root/.cache/huggingface/datasets/squad/plain_text/1.0.0/0fd9e01360d229a22adfe0ab7e2dd2adc6e2b3d6d3db03636a51235947d4c6e9. Subsequent calls will reuse this data.\n",
            "DatasetDict({\n",
            "    train: Dataset({\n",
            "        features: ['id', 'title', 'context', 'question', 'answers'],\n",
            "        num_rows: 87599\n",
            "    })\n",
            "    validation: Dataset({\n",
            "        features: ['id', 'title', 'context', 'question', 'answers'],\n",
            "        num_rows: 10570\n",
            "    })\n",
            "})\n"
          ],
          "name": "stdout"
        }
      ]
    },
    {
      "cell_type": "code",
      "metadata": {
        "id": "fCDBylPdx7R7",
        "colab": {
          "base_uri": "https://localhost:8080/"
        },
        "outputId": "92a32469-80e8-4206-a7d3-656e33e670d1"
      },
      "source": [
        "for key, value in squad['train'][0].items():\n",
        "    print(key)\n",
        "    print(value)\n",
        "    print('--------------------------')"
      ],
      "execution_count": 4,
      "outputs": [
        {
          "output_type": "stream",
          "text": [
            "answers\n",
            "{'answer_start': [515], 'text': ['Saint Bernadette Soubirous']}\n",
            "--------------------------\n",
            "context\n",
            "Architecturally, the school has a Catholic character. Atop the Main Building's gold dome is a golden statue of the Virgin Mary. Immediately in front of the Main Building and facing it, is a copper statue of Christ with arms upraised with the legend \"Venite Ad Me Omnes\". Next to the Main Building is the Basilica of the Sacred Heart. Immediately behind the basilica is the Grotto, a Marian place of prayer and reflection. It is a replica of the grotto at Lourdes, France where the Virgin Mary reputedly appeared to Saint Bernadette Soubirous in 1858. At the end of the main drive (and in a direct line that connects through 3 statues and the Gold Dome), is a simple, modern stone statue of Mary.\n",
            "--------------------------\n",
            "id\n",
            "5733be284776f41900661182\n",
            "--------------------------\n",
            "question\n",
            "To whom did the Virgin Mary allegedly appear in 1858 in Lourdes France?\n",
            "--------------------------\n",
            "title\n",
            "University_of_Notre_Dame\n",
            "--------------------------\n"
          ],
          "name": "stdout"
        }
      ]
    },
    {
      "cell_type": "markdown",
      "metadata": {
        "id": "8aBb-ZV0rWAc"
      },
      "source": [
        "Notice that the `answers` in this dataset always consist of substrings of the `contexts`. Thus, like we discussed in class, we'll build a question-answering model by predicting the _locations_ of answers within contexts.\n",
        "\n",
        "# 2 Introducing the Huggingface Toolkit\n",
        "\n",
        "We'll be using two new packages:\n",
        "\n",
        "- [transformers](https://github.com/huggingface/transformers). In this package,\n",
        "    - **tokenizers** automatically convert strings into sequence of integer word piece IDs.\n",
        "    - **models** provided architectures and weights for state-of-the-art pretrained transformer language models.\n",
        "- [datasets](https://github.com/huggingface/datasets)\n",
        "    - A toolkit that help you download and and evaluate your model on standard benchmarks easily\n",
        "    - You can publish your own dataset on Huggingface [Datasets Hub](https://huggingface.co/datasets).\n",
        "\n",
        "You can find more information and examples with the links above. The [demo notebook](https://drive.google.com/file/d/1_vx14SQkTyeWPW6lRR8_BHAO3urlfaQh/view?usp=sharing) for recitation 6 is also very helpful."
      ]
    },
    {
      "cell_type": "markdown",
      "metadata": {
        "id": "FGOgagcKMgUg"
      },
      "source": [
        "\n",
        "\n",
        "## 2.1 Tokenizers\n",
        "\n",
        "If we're going to pass text to pretrained models, we need to make sure that the input text is pre-processed into sequences of token IDs in the same way as the training data. `tokenizers`  let us do this:"
      ]
    },
    {
      "cell_type": "code",
      "metadata": {
        "id": "cJyoSAsSuwxz",
        "colab": {
          "base_uri": "https://localhost:8080/",
          "height": 247,
          "referenced_widgets": [
            "ed0ecd164e4045fc94ed171246200173",
            "256c19029d4e41b09616ce7d23b6cec8",
            "cda733c142d0412aba436ba9a6eb3ab0",
            "6d5af8884c764edc9d484e6edc5c16d7",
            "4210e2378f8f4066bdf7a863a595603a",
            "d59361b3f0b74472b5bcc0a5b713f12e",
            "edfe0dae68684bf1aaa1906bcb48da1b",
            "aa796c567943492d9b63e65365d916ea",
            "9c60507010364525b4d60833672f7325",
            "c7f7cdcd829e412286687a23a46fac11",
            "98ec87042f41408ca6d3f97f4ffe6af1",
            "e2c06515f7a041f0a72426ba7b391048",
            "e9fdefbbe4b945a18657c22a072a05ad",
            "2ee2d4bc478148a5822aa5acf84bfa74",
            "8d0dc229bfa74a7296b0c5420bf8d6a7",
            "1be0a705ffe34cab80e8ea83e65292f0",
            "c6073edb22dc4e3d969421ff5358aa13",
            "5df08df514b84c98832ccdfba233fee3",
            "884d969fd0104e8c98c7b92c7db9b640",
            "11383491aad04dd7888830a7a73bdf72",
            "70c3765986c643578bd3e19e4d65d1b2",
            "ffd557dd3f434a758898953d10a350b7",
            "6b049f26a1e44fd6aaee25cff13cb625",
            "c2607a0e0dd842d3aa439e9e1ddb4360",
            "71f97c8140ce4e08832e8b573a3bcfce",
            "98771230170c4dec821b46b63fafd44a",
            "12c63153a9194da8890b04c1823b5134",
            "852433cbdc4e4a97878a09913859f706",
            "54fc2ebfde174ec3b06f103ed5d799e8",
            "a7809c88816547aeb3f646730fa90163",
            "5e99d1eb0814419d98ad6c7a9ead9be7",
            "c16163caca144a1398c345c48caf90c9"
          ]
        },
        "outputId": "a48a6fca-dc8d-4832-f734-8f8d2b8f9ad2"
      },
      "source": [
        "import transformers\n",
        "\n",
        "# Use a pretrained tokenizer with CLASS.from_pretrained() function\n",
        "tokenizer = transformers.AutoTokenizer.from_pretrained('distilbert-base-cased')\n",
        "\n",
        "context = 'You can protect yourself by wearing an N95 mask.'\n",
        "answer = 'wearing an N95 mask'\n",
        "\n",
        "context_ids = tokenizer.encode(context)\n",
        "print(context_ids)\n",
        "print(tokenizer.convert_ids_to_tokens(context_ids))"
      ],
      "execution_count": 5,
      "outputs": [
        {
          "output_type": "display_data",
          "data": {
            "application/vnd.jupyter.widget-view+json": {
              "model_id": "ed0ecd164e4045fc94ed171246200173",
              "version_minor": 0,
              "version_major": 2
            },
            "text/plain": [
              "HBox(children=(FloatProgress(value=0.0, description='Downloading', max=411.0, style=ProgressStyle(description_…"
            ]
          },
          "metadata": {
            "tags": []
          }
        },
        {
          "output_type": "stream",
          "text": [
            "\n"
          ],
          "name": "stdout"
        },
        {
          "output_type": "display_data",
          "data": {
            "application/vnd.jupyter.widget-view+json": {
              "model_id": "9c60507010364525b4d60833672f7325",
              "version_minor": 0,
              "version_major": 2
            },
            "text/plain": [
              "HBox(children=(FloatProgress(value=0.0, description='Downloading', max=213450.0, style=ProgressStyle(descripti…"
            ]
          },
          "metadata": {
            "tags": []
          }
        },
        {
          "output_type": "stream",
          "text": [
            "\n"
          ],
          "name": "stdout"
        },
        {
          "output_type": "display_data",
          "data": {
            "application/vnd.jupyter.widget-view+json": {
              "model_id": "c6073edb22dc4e3d969421ff5358aa13",
              "version_minor": 0,
              "version_major": 2
            },
            "text/plain": [
              "HBox(children=(FloatProgress(value=0.0, description='Downloading', max=435797.0, style=ProgressStyle(descripti…"
            ]
          },
          "metadata": {
            "tags": []
          }
        },
        {
          "output_type": "stream",
          "text": [
            "\n"
          ],
          "name": "stdout"
        },
        {
          "output_type": "display_data",
          "data": {
            "application/vnd.jupyter.widget-view+json": {
              "model_id": "71f97c8140ce4e08832e8b573a3bcfce",
              "version_minor": 0,
              "version_major": 2
            },
            "text/plain": [
              "HBox(children=(FloatProgress(value=0.0, description='Downloading', max=29.0, style=ProgressStyle(description_w…"
            ]
          },
          "metadata": {
            "tags": []
          }
        },
        {
          "output_type": "stream",
          "text": [
            "\n",
            "[101, 1192, 1169, 3244, 3739, 1118, 3351, 1126, 151, 1580, 1571, 7739, 119, 102]\n",
            "['[CLS]', 'You', 'can', 'protect', 'yourself', 'by', 'wearing', 'an', 'N', '##9', '##5', 'mask', '.', '[SEP]']\n"
          ],
          "name": "stdout"
        }
      ]
    },
    {
      "cell_type": "code",
      "metadata": {
        "id": "XEKvKC-u5JEk",
        "colab": {
          "base_uri": "https://localhost:8080/"
        },
        "outputId": "f4aba87a-45d7-4d99-856a-6d75977ab0f7"
      },
      "source": [
        "# ctx = 'split with Luckett and Roberson'\n",
        "# ans = 'Luckett and Rober'\n",
        "\n",
        "# ctx = 'The UK government has spent £250 million in the construction of the island'\n",
        "# ans = '250 million'\n",
        "\n",
        "ctx = 'You can protect yourself by wearing an N95 mask.'\n",
        "ans = 'wearing an N95 mask'\n",
        "verbose = True\n",
        "\n",
        "start_loc = 0\n",
        "end_loc = 0\n",
        "ctx_enc = tokenizer(ctx, return_offsets_mapping=True, verbose=False)\n",
        "ans_enc = tokenizer(ans, return_offsets_mapping=True)\n",
        "\n",
        "if verbose:\n",
        "  print(ctx_enc['input_ids'])\n",
        "  print(ans_enc['input_ids'])\n",
        "  print(tokenizer.convert_ids_to_tokens(ctx_enc['input_ids']))\n",
        "  print(tokenizer.convert_ids_to_tokens(ans_enc['input_ids']))\n",
        "\n",
        "ans_len = len(ans)\n",
        "ctx_num_tok = len(ctx_enc['input_ids'])\n",
        "\n",
        "ans_first_word = tokenizer.convert_ids_to_tokens(ans_enc['input_ids'])[1]\n",
        "ans_last_word = tokenizer.convert_ids_to_tokens(ans_enc['input_ids'])[1]\n",
        "\n",
        "# len_offset = 0\n",
        "\n",
        "ix = 1\n",
        "while start_loc==0 and end_loc==0:\n",
        "  if ctx_enc['input_ids'][ix]==ans_enc['input_ids'][1]:\n",
        "    start_loc = ix\n",
        "    word_cts_offset = ctx_enc['offset_mapping'][ix]\n",
        "    offset_start = word_cts_offset[0]\n",
        "  if ctx_enc['input_ids'][ix]==ans_enc['input_ids'][-2]:\n",
        "    end_loc = ix\n",
        "    word_cts_offset = ctx_enc['offset_mapping'][ix]\n",
        "    offset_end = word_cts_offset[1]\n",
        "    # len_offset += word_cts_offset[1]-word_cts_offset[0]\n",
        "  ix+=1\n",
        "\n",
        "if end_loc==0:\n",
        "  for ix in range(start_loc+1, ctx_num_tok):\n",
        "    word_cts_offset = ctx_enc['offset_mapping'][ix]\n",
        "    if word_cts_offset[1]-offset_start>=ans_len:\n",
        "      end_loc = ix\n",
        "      break\n",
        "\n",
        "if start_loc==0:\n",
        "  for ix in reversed(range(end_loc)):\n",
        "    word_cts_offset = ctx_enc['offset_mapping'][ix]\n",
        "    if offset_end-word_cts_offset[0]>=ans_len:\n",
        "      start_loc = ix\n",
        "      break\n",
        "  \n",
        "print(start_loc)\n",
        "print(end_loc)"
      ],
      "execution_count": 74,
      "outputs": [
        {
          "output_type": "stream",
          "text": [
            "[101, 1192, 1169, 3244, 3739, 1118, 3351, 1126, 151, 1580, 1571, 7739, 119, 102]\n",
            "[101, 3351, 1126, 151, 1580, 1571, 7739, 102]\n",
            "['[CLS]', 'You', 'can', 'protect', 'yourself', 'by', 'wearing', 'an', 'N', '##9', '##5', 'mask', '.', '[SEP]']\n",
            "['[CLS]', 'wearing', 'an', 'N', '##9', '##5', 'mask', '[SEP]']\n",
            "6\n",
            "11\n"
          ],
          "name": "stdout"
        }
      ]
    },
    {
      "cell_type": "code",
      "metadata": {
        "colab": {
          "base_uri": "https://localhost:8080/"
        },
        "id": "C8zLiw5M8qcR",
        "outputId": "5881b4b9-ce5c-4d93-95fd-6d4ffa68067f"
      },
      "source": [
        "ans_len"
      ],
      "execution_count": 65,
      "outputs": [
        {
          "output_type": "execute_result",
          "data": {
            "text/plain": [
              "19"
            ]
          },
          "metadata": {
            "tags": []
          },
          "execution_count": 65
        }
      ]
    },
    {
      "cell_type": "code",
      "metadata": {
        "colab": {
          "base_uri": "https://localhost:8080/"
        },
        "id": "f8YK-kj2C3tK",
        "outputId": "8e339b49-f6ed-4ba3-d6e3-3006bde572ea"
      },
      "source": [
        "ctx_enc['offset_mapping'][6:-2]"
      ],
      "execution_count": 73,
      "outputs": [
        {
          "output_type": "execute_result",
          "data": {
            "text/plain": [
              "[(28, 35), (36, 38), (39, 40), (40, 41), (41, 42), (43, 47)]"
            ]
          },
          "metadata": {
            "tags": []
          },
          "execution_count": 73
        }
      ]
    },
    {
      "cell_type": "code",
      "metadata": {
        "colab": {
          "base_uri": "https://localhost:8080/"
        },
        "id": "zg_8B1JJ8j4h",
        "outputId": "6777d0ea-5e4e-4159-cc56-8eaba957b56a"
      },
      "source": [
        "ans_enc['offset_mapping'][1:-1]"
      ],
      "execution_count": 72,
      "outputs": [
        {
          "output_type": "execute_result",
          "data": {
            "text/plain": [
              "[(0, 7), (8, 10), (11, 12), (12, 13), (13, 14), (15, 19)]"
            ]
          },
          "metadata": {
            "tags": []
          },
          "execution_count": 72
        }
      ]
    },
    {
      "cell_type": "code",
      "metadata": {
        "colab": {
          "base_uri": "https://localhost:8080/"
        },
        "id": "8NL2SViv-wDF",
        "outputId": "22312404-49c7-4f0b-f1b6-bb69fa7ca186"
      },
      "source": [
        "ans_len"
      ],
      "execution_count": 37,
      "outputs": [
        {
          "output_type": "execute_result",
          "data": {
            "text/plain": [
              "17"
            ]
          },
          "metadata": {
            "tags": []
          },
          "execution_count": 37
        }
      ]
    },
    {
      "cell_type": "markdown",
      "metadata": {
        "id": "bUP6oud0yS5M"
      },
      "source": [
        "Notice that:\n",
        "\n",
        "1. the tokenizer has inserted the special tokens `[CLS]` and `[SEP]` to mark the start and end of the sentence\n",
        "2. the tokenizer has divided the word \"N95\" into three _word pieces_ `N`, `9` and `5` (refer to the Transformers lecture for a discussion of why we use these kinds of subword units). \n",
        "\n",
        "## Task 1: Complete the `ans_loc()` function\n",
        "\n",
        "To practice working with tokenized text, implement the function below, which identifies the start and end locations of a tokenized phrase within a larger tokenized string. We'll use this function later to identify start and end locations for answers when we train a question answering model.\n",
        "\n",
        "![image.png](data:image/png;base64,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)"
      ]
    },
    {
      "cell_type": "markdown",
      "metadata": {
        "id": "dkOFE6WbaqVD"
      },
      "source": [
        "For example, if\n",
        "- Context = [CLS], protect, yourself, with, an, N, ##9, ##5, mask, [SEP]\n",
        "- Answer = [CLS], N, ##9, ##5, mask, [SEP]\n",
        "\n",
        "The the answer location is\n",
        "- Start postition: 5 (N)\n",
        "- End postion: 8 (mask)\n",
        "\n",
        "Hint: you need `ctx_enc['offset_mapping']` to pass all test cases. Refer to this [document](https://huggingface.co/transformers/main_classes/tokenizer.html#transformers.PreTrainedTokenizer.__call__) for information about `offset_mapping`. Briefly speaking, offset_mapping is the character-level position of each token in the input text. for the `i`-th token in a input sequence,\n",
        "```\n",
        "st_char, ed_char = txt_enc['offset_mapping'][i]\n",
        "token_id = txt_enc['input_ids'][i]\n",
        "token_txt = txt_raw[st_char: ed_char]\n",
        "```"
      ]
    },
    {
      "cell_type": "code",
      "metadata": {
        "id": "7-mPO9CLzWIg"
      },
      "source": [
        "def ans_loc(ctx, ans, verbose=False):\n",
        "\n",
        "    start_loc = 0\n",
        "    end_loc = 0\n",
        "    ctx_enc = tokenizer(ctx, return_offsets_mapping=True, verbose=False)\n",
        "    ans_enc = tokenizer(ans, return_offsets_mapping=True)\n",
        "\n",
        "    if verbose:\n",
        "        print(ctx_enc['input_ids'])\n",
        "        print(ans_enc['input_ids'])\n",
        "        print(tokenizer.convert_ids_to_tokens(ctx_enc['input_ids']))\n",
        "        print(tokenizer.convert_ids_to_tokens(ans_enc['input_ids']))\n",
        "\n",
        "    # ------------ Your Code Starts ------------- #\n",
        "    ans_len = len(ans)\n",
        "    ctx_num_tok = len(ctx_enc['input_ids'])\n",
        "\n",
        "    ans_first_word = tokenizer.convert_ids_to_tokens(ans_enc['input_ids'])[1]\n",
        "    ans_last_word = tokenizer.convert_ids_to_tokens(ans_enc['input_ids'])[1]\n",
        "\n",
        "    # len_offset = 0\n",
        "\n",
        "    ix = 1\n",
        "    while start_loc==0 and end_loc==0:\n",
        "      if ctx_enc['input_ids'][ix]==ans_enc['input_ids'][1]:\n",
        "        start_loc = ix\n",
        "        word_cts_offset = ctx_enc['offset_mapping'][ix]\n",
        "        offset_start = word_cts_offset[0]\n",
        "      if ctx_enc['input_ids'][ix]==ans_enc['input_ids'][-2]:\n",
        "        end_loc = ix\n",
        "        word_cts_offset = ctx_enc['offset_mapping'][ix]\n",
        "        offset_end = word_cts_offset[1]\n",
        "        # len_offset += word_cts_offset[1]-word_cts_offset[0]\n",
        "      ix+=1\n",
        "\n",
        "    if end_loc==0:\n",
        "      for ix in range(start_loc+1, ctx_num_tok):\n",
        "        word_cts_offset = ctx_enc['offset_mapping'][ix]\n",
        "        if word_cts_offset[1]-offset_start>=ans_len:\n",
        "          end_loc = ix\n",
        "          break\n",
        "\n",
        "    if start_loc==0:\n",
        "      for ix in reversed(range(end_loc)):\n",
        "        word_cts_offset = ctx_enc['offset_mapping'][ix]\n",
        "        if offset_end-word_cts_offset[0]>=ans_len:\n",
        "          start_loc = ix\n",
        "          break\n",
        "\n",
        "    \n",
        "    # ------------ Your Code Ends --------------- #\n",
        "\n",
        "    return start_loc, end_loc"
      ],
      "execution_count": 75,
      "outputs": []
    },
    {
      "cell_type": "markdown",
      "metadata": {
        "id": "7LE04kD8ubo5"
      },
      "source": [
        "Test your implementation with the following cases"
      ]
    },
    {
      "cell_type": "code",
      "metadata": {
        "id": "PPEICmLKufFt",
        "colab": {
          "base_uri": "https://localhost:8080/"
        },
        "outputId": "549503a2-b297-46f3-ca2f-5c966bd21901"
      },
      "source": [
        "# -------------- Test Case 1 ----------------- #\n",
        "\n",
        "print('------------- Test Case 1 -------------')\n",
        "ctx_c1 = 'You can protect yourself by wearing an N95 mask.'\n",
        "ans_c1 = 'wearing an N95 mask'\n",
        "\n",
        "start_loc, end_loc = ans_loc(ctx_c1, ans_c1, verbose=True)\n",
        "print(f'The start location is {start_loc}, and the end location is {end_loc}')\n",
        "\n",
        "if (start_loc, end_loc) == (6, 11):\n",
        "    print('\\nYour implementation is correct for case 1')\n",
        "else:\n",
        "    print('\\nYour implementation failed on case 1')\n",
        "\n",
        "# -------------- Test Case 2 ----------------- #\n",
        "\n",
        "print('\\n------------- Test Case 2 -------------')\n",
        "ctx_c2 = 'split with Luckett and Roberson'\n",
        "ans_c2 = 'Luckett and Rober'\n",
        "\n",
        "start_loc, end_loc = ans_loc(ctx_c2, ans_c2, verbose=True)\n",
        "print(f'The start location is {start_loc}, and the end location is {end_loc}')\n",
        "if (start_loc, end_loc) == (3, 7):\n",
        "    print('\\nYour implementation is correct for case 2')\n",
        "else:\n",
        "    print('\\nYour implementation failed on case 2')\n",
        "\n",
        "# -------------- Test Case 3 ----------------- #\n",
        "\n",
        "print('\\n------------- Test Case 3 -------------')\n",
        "ctx_c2 = 'The UK government has spent £250 million in the construction of the island'\n",
        "ans_c2 = '250 million'\n",
        "\n",
        "start_loc, end_loc = ans_loc(ctx_c2, ans_c2, verbose=True)\n",
        "print(f'The start location is {start_loc}, and the end location is {end_loc}')\n",
        "if (start_loc, end_loc) == (6, 8):\n",
        "    print('\\nYour implementation is correct for case 3')\n",
        "else:\n",
        "    print('\\nYour implementation failed on case 3')"
      ],
      "execution_count": 76,
      "outputs": [
        {
          "output_type": "stream",
          "text": [
            "------------- Test Case 1 -------------\n",
            "[101, 1192, 1169, 3244, 3739, 1118, 3351, 1126, 151, 1580, 1571, 7739, 119, 102]\n",
            "[101, 3351, 1126, 151, 1580, 1571, 7739, 102]\n",
            "['[CLS]', 'You', 'can', 'protect', 'yourself', 'by', 'wearing', 'an', 'N', '##9', '##5', 'mask', '.', '[SEP]']\n",
            "['[CLS]', 'wearing', 'an', 'N', '##9', '##5', 'mask', '[SEP]']\n",
            "The start location is 6, and the end location is 11\n",
            "\n",
            "Your implementation is correct for case 1\n",
            "\n",
            "------------- Test Case 2 -------------\n",
            "[101, 3325, 1114, 22311, 5912, 1105, 6284, 18608, 102]\n",
            "[101, 22311, 5912, 1105, 6284, 1200, 102]\n",
            "['[CLS]', 'split', 'with', 'Luck', '##ett', 'and', 'Rob', '##erson', '[SEP]']\n",
            "['[CLS]', 'Luck', '##ett', 'and', 'Rob', '##er', '[SEP]']\n",
            "The start location is 3, and the end location is 7\n",
            "\n",
            "Your implementation is correct for case 2\n",
            "\n",
            "------------- Test Case 3 -------------\n",
            "[101, 1109, 1993, 1433, 1144, 2097, 24155, 11049, 1550, 1107, 1103, 2058, 1104, 1103, 2248, 102]\n",
            "[101, 4805, 1550, 102]\n",
            "['[CLS]', 'The', 'UK', 'government', 'has', 'spent', '£2', '##50', 'million', 'in', 'the', 'construction', 'of', 'the', 'island', '[SEP]']\n",
            "['[CLS]', '250', 'million', '[SEP]']\n",
            "The start location is 6, and the end location is 8\n",
            "\n",
            "Your implementation is correct for case 3\n"
          ],
          "name": "stdout"
        }
      ]
    },
    {
      "cell_type": "markdown",
      "metadata": {
        "id": "foolJk3FAo5z"
      },
      "source": [
        "Another useful feature of the tokenizer is the `batch_encode_plus function`, which returns both input IDs and attention masks. For example,\n",
        "\n"
      ]
    },
    {
      "cell_type": "code",
      "metadata": {
        "id": "7x89DiAPA2JU",
        "colab": {
          "base_uri": "https://localhost:8080/"
        },
        "outputId": "e7cdab9c-0d43-4698-9f46-622909220d25"
      },
      "source": [
        "ctx1 = 'I am a short sentence'\n",
        "ctx2 = 'I am a long long long long long long long sentence'\n",
        "ctx_list = [ctx1, ctx2]\n",
        "\n",
        "inputs = tokenizer.batch_encode_plus(\n",
        "    ctx_list,\n",
        "    max_length = 12,\n",
        "    truncation=True,\n",
        "    padding='longest',\n",
        "    return_attention_mask=True,\n",
        "    return_tensors='pt'\n",
        ")\n",
        "\n",
        "for key, value in inputs.items():\n",
        "    print(key)\n",
        "    print(value)\n",
        "    print('-------------------------')"
      ],
      "execution_count": 77,
      "outputs": [
        {
          "output_type": "stream",
          "text": [
            "input_ids\n",
            "tensor([[ 101,  146, 1821,  170, 1603, 5650,  102,    0,    0,    0,    0,    0],\n",
            "        [ 101,  146, 1821,  170, 1263, 1263, 1263, 1263, 1263, 1263, 1263,  102]])\n",
            "-------------------------\n",
            "attention_mask\n",
            "tensor([[1, 1, 1, 1, 1, 1, 1, 0, 0, 0, 0, 0],\n",
            "        [1, 1, 1, 1, 1, 1, 1, 1, 1, 1, 1, 1]])\n",
            "-------------------------\n"
          ],
          "name": "stdout"
        }
      ]
    },
    {
      "cell_type": "markdown",
      "metadata": {
        "id": "JVKUGsEuC8lo"
      },
      "source": [
        "## 2.2 Models\n",
        "\n",
        "After converting the input texts into ids with corresponding attention masks, we can obtain the hidden state of each word by feeding the input IDs into a Transformer network. We will use the output hidden states to predict the start and end locations of the target answer."
      ]
    },
    {
      "cell_type": "markdown",
      "metadata": {
        "id": "_jA4vT34H6Tt"
      },
      "source": [
        "## Sanity Check: Input and Output Shapes of DistilBertModel\n",
        "\n",
        "Please read the [source code](https://huggingface.co/transformers/_modules/transformers/models/distilbert/modeling_distilbert.html#DistilBertModel) and [document](https://huggingface.co/transformers/model_doc/distilbert.html#transformers.DistilBertModel) of the DistilBertModel class.\n",
        "\n",
        "Suppose we train a question-answering model based on a DistilBertModel. The batch size of the training inputs is `batch_size`, the maximum sequence length of the input batch is `seq_length`. In other words, the input shape of our model is `[batch_size, seq_length]`. Please answer the following questions to examine if you have understood the class we are going to use,\n",
        "\n",
        "- What is the shape of the top-layer hidden states?\n",
        "\n",
        "- According to the [document](https://huggingface.co/transformers/model_doc/distilbert.html#transformers.DistilBertModel) and the `outputs` above, what are potential outputs of the `DistilBertModel`?\n",
        "\n",
        "If you are not sure if your answers are correct, we encourage you to practice with code to examine your answers.\n",
        "(No need to include this in your write-up---this is just here to help you debug).\n",
        "\n"
      ]
    },
    {
      "cell_type": "markdown",
      "metadata": {
        "id": "F_PjUEqFNGdf"
      },
      "source": [
        "\n",
        "# 3 Building a Question Answering Model\n",
        "\n",
        "Now that we have access to pre-trained representations, let's start building a question answering model!\n"
      ]
    },
    {
      "cell_type": "markdown",
      "metadata": {
        "id": "GZEXnQbWNH7C"
      },
      "source": [
        "\n",
        "## 3.1 Pre-processing the SQuAD data\n",
        "\n",
        "We preprocess each data point of SQuAD by calculating the start and end positions with the selected tokenizer. In this homework we use the `distilbert-base-cased` model, so we use the `distilbert-base-cased` tokenizer to preprocessing the data. If you want to try other models, please make sure you are using the correct pair of model and tokenizer.\n",
        "\n"
      ]
    },
    {
      "cell_type": "markdown",
      "metadata": {
        "id": "nUhMy0WlNJmM"
      },
      "source": [
        "## Task 2: Complete the `proc_line()` function"
      ]
    },
    {
      "cell_type": "code",
      "metadata": {
        "id": "LP_S6x3JWqKS"
      },
      "source": [
        "import json\n",
        "import random\n",
        "from multiprocessing import Pool\n",
        "from tqdm import tqdm, trange\n",
        "\n",
        "def proc_line_init(tokenizer_for_squad):\n",
        "    global tokenizer\n",
        "    tokenizer = tokenizer_for_squad\n",
        "\n",
        "# Preprocess one SQuAD data point\n",
        "def proc_line(sq):\n",
        "    ctx = sq['context']\n",
        "    ans = sq['answers']['text'][0]\n",
        "\n",
        "    ctx_ids = tokenizer.encode(ctx, verbose=False)\n",
        "    ans_ids = tokenizer.encode(ans)\n",
        "\n",
        "    if len(ctx_ids) > 448:\n",
        "        return None\n",
        "\n",
        "    start_pos = None\n",
        "    end_pos = None\n",
        "    \n",
        "    # Get the values of start and end pos\n",
        "    #\n",
        "    # ----- Your code: get the start and end positions ------ #\n",
        "    # ----- with the `ans_loc` function you defined --------- #\n",
        "    \n",
        "    start_pos, end_pos = # ? #\n",
        "    \n",
        "    # ---------------- End of your code --------------------- #\n",
        "\n",
        "    sq['start_position'] = start_pos\n",
        "    sq['end_position'] = end_pos\n",
        "    return sq\n",
        "\n",
        "# Preprocess SQuAD corpus with tqdm multithreading\n",
        "def preproc(squad_list, threads, tokenizer):\n",
        "\n",
        "    with Pool(threads, initializer=proc_line_init, initargs=(tokenizer,)) as p:\n",
        "        squad_proc = list(tqdm(p.imap(proc_line, squad_list), total=len(squad_list)))\n",
        "\n",
        "    squad_proc = [x for x in squad_proc if x]\n",
        "    json.dump(squad_proc, open(\"/content/gdrive/My Drive/6864_hw4/squad_proc.json\", 'w'))\n",
        "    return squad_proc\n",
        "\n",
        "squad_list = [x for x in squad['train']]\n",
        "squad_proc = preproc(squad_list, 16, tokenizer)"
      ],
      "execution_count": null,
      "outputs": []
    },
    {
      "cell_type": "markdown",
      "metadata": {
        "id": "cLvIPzRqBN3d"
      },
      "source": [
        "We test the correctness of the preprocessed data by randomly selecting data points."
      ]
    },
    {
      "cell_type": "code",
      "metadata": {
        "id": "waJd7cHHBUdN"
      },
      "source": [
        "# Test if your preprocessing is correct\n",
        "def test_preproc(sq, tokenizer):\n",
        "    gt_ans = sq['answers']['text'][0]\n",
        "    start_pos = sq['start_position']\n",
        "    end_pos = sq['end_position']\n",
        "\n",
        "    tok_outputs = tokenizer(sq['context'], return_offsets_mapping=True)\n",
        "    ctx_ids = tok_outputs['input_ids']\n",
        "    offsets = tok_outputs['offset_mapping']\n",
        "\n",
        "    start_pos_char = offsets[start_pos][0]\n",
        "    end_pos_char = offsets[end_pos][1]\n",
        "\n",
        "    pred_ans = sq['context'][start_pos_char: end_pos_char]\n",
        "\n",
        "    print(f'The annotated answer: {gt_ans} .')\n",
        "    print(f'The predicted answer: {pred_ans} .')\n",
        "    if gt_ans == pred_ans:\n",
        "        print('Pass')\n",
        "    else:\n",
        "        print('Something went wrong')\n",
        "\n",
        "test_preproc(random.choice(squad_proc), tokenizer)"
      ],
      "execution_count": null,
      "outputs": []
    },
    {
      "cell_type": "markdown",
      "metadata": {
        "id": "xdyyTK8OjZ_B"
      },
      "source": [
        "## Task 3: complete the `QuestionAnsweringModel` class\n",
        "\n",
        "- Read the document of [DistilBERT.forward()]() to understand the inputs and outputs of a Huggingface transformer model, and figure out how to extract representations from the encoder.\n",
        "- Complete the `forward` function. This function should place logits over start positions and end positions (`log p(start | C, Q)` and `log p(end | C, Q)`), and return the predicted logits. It should also return losses if `start_positions` and `end_positions` are provided.\n",
        "    - Feed the hidden states into the 1. dropout layer, and 2. linear layer to predict the start and end logits\n",
        "    - Calculate `start_loss` and `end_loss` with `nn.CrossEntropyLoss` with predicted `start/end_logits` and labeled `start/end_positions` as two seperate classification tasks.\n",
        "    - Return predicted `start_logits, end_logits` and `total_loss = (start_loss + end_loss) / 2`."
      ]
    },
    {
      "cell_type": "code",
      "metadata": {
        "id": "rl9K91_Hw0x2"
      },
      "source": [
        "import torch.nn as nn\n",
        "\n",
        "class ModelOutputs:\n",
        "    def __init__(self, start_logits=None, end_logits=None, loss=None):\n",
        "        self.start_logits = start_logits\n",
        "        self.end_logits = end_logits\n",
        "        self.loss = loss\n",
        "\n",
        "class QuestionAnsweringModel(nn.Module):\n",
        "\n",
        "    def __init__(self, lm=None, dropout=0.2):\n",
        "        '''\n",
        "        lm:         a pretrained transformer language model\n",
        "        dropout:    dropoutrate for the dropout layer\n",
        "        '''\n",
        "        super(QuestionAnsweringModel, self).__init__()\n",
        "        self.qa_outputs = nn.Linear(lm.config.dim, 2)\n",
        "        self.lm = lm\n",
        "        self.dropout = nn.Dropout(dropout)\n",
        "    \n",
        "    def forward(self, input_ids=None, attention_mask=None,\n",
        "                start_positions=None, end_positions=None):\n",
        "        '''\n",
        "        input_ids:          ids of the concatenated input tokens\n",
        "        attention_mask:     concatenated attention masks (ques+ctx)\n",
        "        start_positions:    labels of the start positions of the answers\n",
        "        end_positions:      labels of the end positions of the answers\n",
        "        '''\n",
        "        \n",
        "        lm_output = self.lm(\n",
        "            # ----- Your code: Model inputs ----- #\n",
        "\n",
        "            # -------- Your code ends ----------- #\n",
        "        )\n",
        "\n",
        "        hidden_states = # -- Hidden states of the top transformer layer -- #\n",
        "        hidden_states = self.dropout(hidden_states)\n",
        "\n",
        "        start_logits = None\n",
        "        end_logits = None\n",
        "\n",
        "        # ----- Get start_logits and end_logits ----------------- #\n",
        "        #\n",
        "        # start_logits.size() should be [batch_size, seq_len]\n",
        "        # end_logits.size() should also be [batch_size, seq_len]\n",
        "        #\n",
        "        # ----------------- Your code --------------------------- #\n",
        "\n",
        "        \n",
        "        # -------- End of your code for logits calculation ------ #\n",
        "\n",
        "        total_loss = None\n",
        "        if start_positions is not None and end_positions is not None:\n",
        "\n",
        "            loss_fct = nn.CrossEntropyLoss()\n",
        "            \n",
        "            # ----- Getting training losses ------------------- #\n",
        "            #\n",
        "            # 1. calculate start_losses with\n",
        "            #       a. start_logits\n",
        "            #       b. start_positions\n",
        "            #\n",
        "            # 2. calculate end_losses with end_logits\n",
        "            #       a. end_logits\n",
        "            #       b. end_positions\n",
        "            #\n",
        "            # --------- Your code starts ---------------------- #\n",
        "\n",
        "            start_loss = # Your code #\n",
        "            end_loss = # Your code #\n",
        "\n",
        "            # --------- Your code ends ------------------------ #\n",
        "\n",
        "            total_loss = (start_loss + end_loss) / 2\n",
        "        \n",
        "        return ModelOutputs(\n",
        "            start_logits=start_logits,\n",
        "            end_logits=end_logits,\n",
        "            loss=total_loss)"
      ],
      "execution_count": null,
      "outputs": []
    },
    {
      "cell_type": "markdown",
      "metadata": {
        "id": "yn8njHe7w1O6"
      },
      "source": [
        "## 3.3 Training the DistilBERT Model\n",
        "\n",
        "First, we move our model to the GPU. "
      ]
    },
    {
      "cell_type": "code",
      "metadata": {
        "id": "4US2xXCfH0UM"
      },
      "source": [
        "# Initialize the QA model and use GPU\n",
        "lm_pretrained = transformers.AutoModel.from_pretrained('distilbert-base-cased')\n",
        "model = QuestionAnsweringModel(lm_pretrained)\n",
        "model = model.cuda()"
      ],
      "execution_count": null,
      "outputs": []
    },
    {
      "cell_type": "markdown",
      "metadata": {
        "id": "9n8m8qU1ImFc"
      },
      "source": [
        "Then we define the training hyper-parameters, the optimizer, and the learning rate scheduler. Read this [document](https://huggingface.co/transformers/main_classes/optimizer_schedules.html#transformers.get_linear_schedule_with_warmup) to understand how the linear learning rate scheduling influences the learning process."
      ]
    },
    {
      "cell_type": "code",
      "metadata": {
        "id": "SZnrJzgUIvNi"
      },
      "source": [
        "import torch\n",
        "\n",
        "# Hyper-parameters: you could try playing with different settings\n",
        "num_epochs = 1\n",
        "learning_rate = 3e-5\n",
        "weight_decay = 1e-5\n",
        "eps = 1e-6\n",
        "batch_size = 32\n",
        "warmup_rate = 0.05\n",
        "ques_max_length = 64\n",
        "ctx_max_length = 448\n",
        "\n",
        "# Calculating the number of warmup steps\n",
        "num_training_cases = len(squad_proc)\n",
        "t_total = (num_training_cases // batch_size + 1) * num_epochs\n",
        "ext_warmup_steps = int(warmup_rate * t_total)\n",
        "\n",
        "# Initializing an AdamW optimizer\n",
        "ext_optim = torch.optim.AdamW(model.parameters(), lr=learning_rate,\n",
        "                              eps=eps, weight_decay=weight_decay)\n",
        "\n",
        "# Initializing the learning rate scheduler [details are in the BERT paper]\n",
        "ext_sche = transformers.get_linear_schedule_with_warmup(\n",
        "    ext_optim, num_warmup_steps=ext_warmup_steps, num_training_steps=t_total\n",
        ")\n",
        "\n",
        "print(\"***** Training Info *****\")\n",
        "print(\"  Num examples = %d\" % t_total)\n",
        "print(\"  Num Epochs = %d\" % num_epochs)\n",
        "print(\"  Batch size = %d\" % batch_size)\n",
        "print(\"  Total optimization steps = %d\" % t_total)"
      ],
      "execution_count": null,
      "outputs": []
    },
    {
      "cell_type": "markdown",
      "metadata": {
        "id": "wU-ag-fzK20V"
      },
      "source": [
        "[link text](https://)We need a function that processes batch data into the input format needed by DistilBERT. We first gather contexts, questions, etc in a batch into their corresponding lists."
      ]
    },
    {
      "cell_type": "code",
      "metadata": {
        "id": "rfBxbLGMK88Z"
      },
      "source": [
        "def gather_batch(batch):\n",
        "    ctx_batch  = [x['context'] for x in batch]\n",
        "    ques_batch = [x['question'] for x in batch]\n",
        "    ans_batch  = [x['answers']['text'][0] for x in batch]\n",
        "\n",
        "    start_positions = [x['start_position'] for x in batch]\n",
        "    end_positions = [x['end_position'] for x in batch]\n",
        "\n",
        "    return ctx_batch, ques_batch, ans_batch, start_positions, end_positions"
      ],
      "execution_count": null,
      "outputs": []
    },
    {
      "cell_type": "markdown",
      "metadata": {
        "id": "6bXygdE0PHsf"
      },
      "source": [
        "and then we encode the texts with the DistilBERT tokenizer, and then process the inputs into the following format:\n",
        "\n",
        "```\n",
        "[CLS] <question ids> [SEP] <context ids> [SEP]\n",
        "```\n",
        "\n",
        "as you can find out, the inputs of our DistilBERT model is the concatenated question word IDs and context word IDs, marked and seperated by special tokens. Note that besides input IDs, we also need to re-organize the attention masks into the same format. We provide the function for this process, and we encourage you to read the code - should be helpful to your course project and future work.\n",
        "\n",
        "After we concatenate the context to the question, the start and end positions in the context are off by a constant factor. Please fix start_positions and end_positions below.\n",
        "\n",
        "![image.png](data:image/png;base64,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)\n",
        "\n"
      ]
    },
    {
      "cell_type": "code",
      "metadata": {
        "id": "ZbbB2rExQt1m"
      },
      "source": [
        "def vectorize_batch(batch, tokenizer):\n",
        "    ctx_batch, ques_batch, ans_batch, start_positions, end_positions = gather_batch(batch)\n",
        "\n",
        "    # Encode the context passage\n",
        "    ctx_encode = tokenizer.batch_encode_plus(\n",
        "        ctx_batch,\n",
        "        max_length = ctx_max_length,\n",
        "        truncation = True,\n",
        "        padding = 'longest',\n",
        "        return_attention_mask = True,\n",
        "        return_tensors = 'pt'\n",
        "    )\n",
        "\n",
        "    # Encode the questions\n",
        "    ques_encode = tokenizer.batch_encode_plus(\n",
        "        ques_batch,\n",
        "        max_length = ques_max_length,\n",
        "        truncation = True,\n",
        "        padding = 'longest',\n",
        "        return_attention_mask = True,\n",
        "        return_tensors = 'pt'\n",
        "    )\n",
        "\n",
        "    # Get the actual sequence lengths of question tensors\n",
        "    ques_seq_len = ques_encode['input_ids'].size(1)\n",
        "\n",
        "    # Move the training batch to GPU\n",
        "    ctx_ids        = ctx_encode['input_ids'].cuda()\n",
        "    ctx_attn_mask  = ctx_encode['attention_mask'].cuda()\n",
        "    ques_ids       = ques_encode['input_ids'].cuda()\n",
        "    ques_attn_mask = ques_encode['attention_mask'].cuda()\n",
        "\n",
        "    # Remove the [CLS] token of the contexts IDs before concatenation\n",
        "    ctx_ids = ctx_ids[:, 1:]\n",
        "    ctx_attn_mask = ctx_attn_mask[:, 1:]\n",
        "\n",
        "    # Concatenate questions and contexts\n",
        "    input_ids = torch.cat([ques_ids, ctx_ids], dim=1)\n",
        "    input_attn_mask = torch.cat([ques_attn_mask, ctx_attn_mask], dim=1)\n",
        "\n",
        "    # Move start and end positions to the GPU\n",
        "    start_positions = torch.LongTensor(start_positions).cuda()\n",
        "    end_positions   = torch.LongTensor(end_positions).cuda()\n",
        "\n",
        "    # update the start_positions and end_positions variables accordingly\n",
        "    # This is necessary for the following reasons\n",
        "    # \n",
        "    # 1. We concatenated the questions and contexts\n",
        "    # 2. We removed the [CLS] token (the first token) of the contexts\n",
        "\n",
        "    start_positions += ques_seq_len - 1\n",
        "    end_positions += ques_seq_len - 1\n",
        "\n",
        "    return input_ids, input_attn_mask, start_positions, end_positions"
      ],
      "execution_count": null,
      "outputs": []
    },
    {
      "cell_type": "markdown",
      "metadata": {
        "id": "KYWVAGWPMM4p"
      },
      "source": [
        "and we can start the training loop, which includes the following steps for processing each mini-batch\n",
        "- Tokenize questions and contexts, then concatenate the input IDs of questions and corresponding contexts\n",
        "- Feed the concatenated inputs into the Transformer model\n",
        "- Optimize the model by back-propagating the loss signals\n",
        "\n",
        "## Task 4: Complete the code for feeding the inputs to the Transformer model\n",
        "\n",
        "Hint: Read the implementation of the `forward()` method of the `QuestionAnsweringModel` class to decide the input format.\n",
        "\n",
        "If you get CUDA out of memory error, do \"Manage sessions\" -> \"TERMINATE\" -> \"Reconnect\" -> Re-run necessary code cells\n",
        "![colab.png](data:image/png;base64,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)"
      ]
    },
    {
      "cell_type": "code",
      "metadata": {
        "id": "Jmaf1rPMNLhr"
      },
      "source": [
        "model.train()\n",
        "max_grad_norm = 1\n",
        "\n",
        "'''\n",
        "The training can take up to an hour (~50min in average)\n",
        "Consider using less training data to validate your implementation\n",
        "'''\n",
        "# squad_proc = squad_proc[:10000]\n",
        "# num_training_cases = len(squad_proc)\n",
        "\n",
        "step_id = 0\n",
        "for _ in range(num_epochs):\n",
        "\n",
        "    random.shuffle(squad_proc)\n",
        "\n",
        "    for i in range(0, num_training_cases, batch_size):\n",
        "        batch = squad_proc[i: i + batch_size]\n",
        "        input_ids, input_attn_mask, start_positions, end_positions = vectorize_batch(batch, tokenizer)\n",
        "\n",
        "        model.zero_grad() # Does the same as ext_optim.zero_grad()\n",
        "        \n",
        "        # Get the model outputs, including (start, end) logits and losses\n",
        "        # stored as a ModelOutput object\n",
        "        outputs = model(            \n",
        "            # --------------------------------------------------- #\n",
        "            #\n",
        "            # Read your QuestionAnsweringModel.forward(...)\n",
        "            # implementation for the input format\n",
        "            #\n",
        "            # ------------------ Your code starts --------------- #\n",
        "       \n",
        "\n",
        "            # ------------------ Your code ends ----------------- #\n",
        "        )\n",
        "\n",
        "        # Back-propagate the loss signal and clip the gradients\n",
        "        loss = outputs.loss.mean()\n",
        "        loss.backward()\n",
        "        torch.nn.utils.clip_grad_norm_(model.parameters(), max_grad_norm)\n",
        "\n",
        "        # Update neural network parameters and the learning rate\n",
        "        ext_optim.step()\n",
        "        ext_sche.step() # Update learning rate for better convergence\n",
        "\n",
        "\n",
        "        if step_id % 100 == 0:\n",
        "            print(f'At step {step_id}, the extraction loss = {loss}')\n",
        "        \n",
        "        step_id += 1\n",
        "\n",
        "print('Finished Training')\n",
        "\n"
      ],
      "execution_count": null,
      "outputs": []
    },
    {
      "cell_type": "markdown",
      "metadata": {
        "id": "KCjiHMyXrzdN"
      },
      "source": [
        "# 4 Evaluating the Learned QA Model\n",
        "\n",
        "Standard evaluation metrices for extractive, or span-based QA models are exact match (EM) and F1 scores.\n",
        "- EM: how many predicted answers are exactly the same as the annotated answers\n",
        "- F1: how many words in the predicted answers overlap the annotated answers.\n",
        "\n",
        "In other words, the calculations of EM and F1 scores are:\n",
        "- EM = num_same_answer / num_all_questions\n",
        "- F1 = (2 * precision * recall) / (precision + recall), where\n",
        "    - precision = num_overlap_words / num_predicted_answer_words\n",
        "    - recall = num_overlap_words / num_annotated_answer_words\n"
      ]
    },
    {
      "cell_type": "code",
      "metadata": {
        "id": "iU9KbY5M5c6v"
      },
      "source": [
        "def ans_pair_metric(a_pred, a_gt, tokenizer):\n",
        "    '''\n",
        "    a_pred: the predicted answer text\n",
        "    a_gt: the groundtruth answer text\n",
        "    '''\n",
        "    \n",
        "    # Exclude the special tokens\n",
        "    pred_ids = tokenizer.encode(a_pred)[1: -1]\n",
        "    gt_ids = tokenizer.encode(a_gt)[1: -1]\n",
        "\n",
        "    len_pred = len(pred_ids)\n",
        "    len_gt = len(gt_ids)\n",
        "    num_same = 0\n",
        "    for word_id in pred_ids:\n",
        "        if word_id in gt_ids:\n",
        "            num_same += 1.\n",
        "    \n",
        "    em = float(a_pred == a_gt)\n",
        "    if num_same == 0:\n",
        "        f1 = 0\n",
        "    else:\n",
        "        prec = num_same / len_pred\n",
        "        recall = num_same / len_gt\n",
        "        f1 = 2 * prec * recall / (prec + recall)\n",
        "\n",
        "    return em, f1"
      ],
      "execution_count": null,
      "outputs": []
    },
    {
      "cell_type": "markdown",
      "metadata": {
        "id": "R7VA9S_L1sNV"
      },
      "source": [
        "In SQuAD, some context passages are annotated with many possible answers that are considered correct, and we compare our predicted answer with the most similar annotated answer."
      ]
    },
    {
      "cell_type": "code",
      "metadata": {
        "id": "ESaTs5N36nCm"
      },
      "source": [
        "import numpy as np\n",
        "\n",
        "def one_to_many_metric(a_pred, a_gt_list, tokenizer):\n",
        "    '''\n",
        "    a_pred: the predicted answer text\n",
        "    a_gt_list: the provided ground-truth answer list\n",
        "    '''\n",
        "    metric = np.array([ans_pair_metric(a_pred, x, tokenizer) for x in a_gt_list])\n",
        "\n",
        "    em = metric[:, 0]\n",
        "    f1 = metric[:, 1]\n",
        "    return em.max(), f1.max()"
      ],
      "execution_count": null,
      "outputs": []
    },
    {
      "cell_type": "markdown",
      "metadata": {
        "id": "Xiv2DdTl5CGQ"
      },
      "source": [
        "We will also need to have a function that infers the locations of answers based on the predicted start and end locations.\n",
        "\n",
        "## Task 5: complete the `logits_to_ans_loc` function\n",
        "\n",
        "`logits_to_ans_loc` is a decoding function that converts predicted start and end logits to an actual answer span $(i, j)$, where\n",
        "- word $w_i$ has a high `start_logit`\n",
        "- word $w_j$ has a high `end_logit`.\n",
        "\n",
        "Inputs and outputs\n",
        "- inputs: `start_logits` and `end_logits`\n",
        "- outputs\n",
        "    - st_loc: the index of the start TOKEN (not character) of the predicted answer\n",
        "    - ed_loc: the index of the end TOKEN of the predicted answer\n",
        "\n",
        "Note:\n",
        "- we don't consider answers more than 30 tokens\n",
        "- Make sure `ed_loc >= st_loc`\n",
        "- Higher start/end logits stands for higher probability that a word could be the start/end point of an answer\n",
        "- Please implement three strategies for getting answer span $(i, j)$\n",
        "    - `greedy_left_to_right` - Select $i = argmax_i \\ S_{start}^i$, then select $j = argmax_j \\ S_{end}^j$. ($i \\le j$)\n",
        "    - `greedy_right_to_lett` - Select $j = argmax_j \\ S_{end}^j$, then select $i = argmax_i \\ S_{start}^i$ ($i \\le j$)\n",
        "    - `joint` - Select $(i, j)$ by $$i, j = argmax_{i, j} \\ S_{start}^i + S_{end}^j \\ (i \\le j) $$ \n",
        "    - Compare the performance"
      ]
    },
    {
      "cell_type": "code",
      "metadata": {
        "id": "MfBYmAwQxuFp"
      },
      "source": [
        "def logits_to_ans_loc(start_logits, end_logits, mode='joint'):\n",
        "    '''\n",
        "\n",
        "    Input sizes -\n",
        "        start_logits.size() = [batch_size, seq_len]\n",
        "        end_logits.size() = [batch_size, seq_len]\n",
        "\n",
        "    Output sizes -\n",
        "        st_loc.size() = (batch_size,)\n",
        "        ed_loc.size() = (batch_size,)\n",
        "\n",
        "    '''\n",
        "    bs, seq_len = start_logits.size()\n",
        "\n",
        "    st_loc = None\n",
        "    ed_loc = None\n",
        "    \n",
        "    # Find the span (i, j) that could be an answer\n",
        "    # to the question, based on the predicted\n",
        "    # start_logits and end_logits with three modes\n",
        "    #   - greedy_left_to_right\n",
        "    #   - greedy_right_to_left\n",
        "    #   - joint\n",
        "    #\n",
        "    # ------------ Your code starts -------------- #\n",
        "\n",
        "    # tensor( [[0, 1, ..., seq_len - 1]] )\n",
        "    # pos_idx.size() = (1, seq_len)\n",
        "    pos_idx = torch.range(0, seq_len - 1).cuda().unsqueeze(0)\n",
        "    \n",
        "    if mode == 'greedy_left_to_right':\n",
        "        # Your code #\n",
        "\n",
        "    if mode == 'greedy_right_to_left':\n",
        "        # Your code #\n",
        "\n",
        "    if mode == 'joint':\n",
        "        # Your code #\n",
        "\n",
        "\n",
        "    # ------------ Your code ends ---------------- #\n",
        "    \n",
        "    return st_loc, ed_loc"
      ],
      "execution_count": null,
      "outputs": []
    },
    {
      "cell_type": "markdown",
      "metadata": {
        "id": "2rvDYnpHz9Yo"
      },
      "source": [
        "and now we start implementing the evaluation loop\n",
        "\n",
        "## Task 6: complete the evaluation loop"
      ]
    },
    {
      "cell_type": "code",
      "metadata": {
        "id": "Uhc0-IuAtu5n"
      },
      "source": [
        "model.eval()\n",
        "\n",
        "# Prepare the dev set of SQuAD for evaluation\n",
        "dev_set = [x for x in squad['validation']]\n",
        "num_dev_cases = len(dev_set)\n",
        "\n",
        "eval_batch_size = 64\n",
        "\n",
        "# `ans_pred_list` stores the predicted answers\n",
        "# in the same order as the contexts of the dev set\n",
        "ans_pred_list_ltr = []\n",
        "ans_pred_list_rtl = []\n",
        "ans_pred_list_joint = []\n",
        "ans_gt_list = [x['answers']['text'] for x in dev_set]\n",
        "\n",
        "for i in range(0, num_dev_cases, eval_batch_size):\n",
        "    eval_batch = dev_set[i: i + eval_batch_size]\n",
        "    ques = [x['question'] for x in eval_batch]\n",
        "    ctx  = [x['context'] for x in eval_batch]\n",
        "\n",
        "    # Encode the contexts\n",
        "    ctx_encode = tokenizer.batch_encode_plus(\n",
        "        ctx,\n",
        "        max_length = ctx_max_length,\n",
        "        truncation = True,\n",
        "        padding = 'longest',\n",
        "        return_attention_mask = True,\n",
        "        return_tensors = 'pt',\n",
        "        return_offsets_mapping = True\n",
        "    )\n",
        "\n",
        "    # Encode the questions\n",
        "    ques_encode = tokenizer.batch_encode_plus(\n",
        "        ques,\n",
        "        max_length = ques_max_length,\n",
        "        truncation = True,\n",
        "        padding = 'longest',\n",
        "        return_attention_mask = True,\n",
        "        return_tensors = 'pt'\n",
        "    )\n",
        "\n",
        "    # get the actual question sequence lengths\n",
        "    ques_len = ques_encode['input_ids'].size(1)\n",
        "\n",
        "    # ------------- Your code Part 1 -------------- #\n",
        "    #\n",
        "    # concatenate the input ids and attention masks\n",
        "    # of questions and contexts. Refer to the training\n",
        "    # loop for implementation hints\n",
        "    #\n",
        "    # --------------------------------------------- #\n",
        "    \n",
        "    input_ids = torch.cat(\n",
        "        [], # what tensors to concatenate\n",
        "        dim = # on which dimension?\n",
        "    ).cuda()\n",
        "\n",
        "    input_attn_mask = torch.cat(\n",
        "        [], # what tensors to concatenate\n",
        "        dim = # on which dimension?\n",
        "    ).cuda()\n",
        "\n",
        "    # ------------- Your code Part 1 ends ---------- #\n",
        "\n",
        "    with torch.no_grad():\n",
        "        outputs = model(\n",
        "            input_ids,\n",
        "            attention_mask = input_attn_mask,\n",
        "        )\n",
        "    \n",
        "    # ------------- Your code Part 2 --------------- #\n",
        "    #\n",
        "    # Obtain the predicted start and end logits\n",
        "    # We drop the start and end logits of question tokens\n",
        "    # and only keep the logits of\n",
        "    #\n",
        "    #       [SEP] or [PAD], ctx_1, ctx_2, ..., [SEP]\n",
        "    #\n",
        "    # keep the first special token, which is the tail\n",
        "    # or padding token of the tokenized question, to\n",
        "    # help you do later decoding more easily \n",
        "    #\n",
        "    # ---------------------------------------------- # \n",
        "    \n",
        "    start_logits_pred = # Your code #\n",
        "    end_logits_pred = # Your code #\n",
        "\n",
        "    # ------------- Your code Part 2 ends ---------- #\n",
        "\n",
        "    st_locs_ltr, ed_locs_ltr = logits_to_ans_loc(\n",
        "        start_logits_pred, end_logits_pred, mode='greedy_left_to_right'\n",
        "    )\n",
        "\n",
        "    st_locs_rtl, ed_locs_rtl = logits_to_ans_loc(\n",
        "        start_logits_pred, end_logits_pred, mode='greedy_right_to_left'\n",
        "    )\n",
        "    \n",
        "    st_locs_joint, ed_locs_joint = logits_to_ans_loc(\n",
        "        start_logits_pred, end_logits_pred, mode='joint'\n",
        "    )\n",
        "\n",
        "    num_pred_answer = st_locs_ltr.size(0)\n",
        "\n",
        "    # ---------------------------------------------- #\n",
        "    #\n",
        "    # Store predicted answer texts in `ans_pred_list`\n",
        "    # 1. `ans_pred_list` should look like\n",
        "    #             ['ans_txt_1', 'ans_txt_2', ....]\n",
        "    #\n",
        "    # 2. `len(ans_pred_list)` should equas to\n",
        "    #             `len(dev_set)`\n",
        "    #\n",
        "    # ---------------------------------------------- #\n",
        "    \n",
        "    for j in range(num_pred_answer):\n",
        "        st_char_ltr = ctx_encode['offset_mapping'][j][st_locs_ltr[j]][0]\n",
        "        ed_char_ltr = ctx_encode['offset_mapping'][j][ed_locs_ltr[j]][1]\n",
        "        ans_pred_list_ltr.append(ctx[j][st_char_ltr: ed_char_ltr])\n",
        "\n",
        "        st_char_rtl = ctx_encode['offset_mapping'][j][st_locs_rtl[j]][0]\n",
        "        ed_char_rtl = ctx_encode['offset_mapping'][j][ed_locs_rtl[j]][1]\n",
        "        ans_pred_list_rtl.append(ctx[j][st_char_rtl: ed_char_rtl])\n",
        "\n",
        "        st_char_joint = ctx_encode['offset_mapping'][j][st_locs_joint[j]][0]\n",
        "        ed_char_joint = ctx_encode['offset_mapping'][j][ed_locs_joint[j]][1]\n",
        "        ans_pred_list_joint.append(ctx[j][st_char_joint: ed_char_joint])\n",
        "    \n",
        "    # ---------------------------------------------- #\n",
        "\n",
        "# Print the evaluation results\n",
        "#\n",
        "# The performance is decided by both training quality\n",
        "# AND the implementation of the `logits_to_anc_loc` function\n",
        "\n",
        "# Target result\n",
        "# - EM: 67.97%\n",
        "# - F1: 80.89%\n",
        "\n",
        "print('Evaluating greedy_left_to_right strategy')\n",
        "metric = np.array([one_to_many_metric(x, y, tokenizer) for x, y in zip(ans_pred_list_ltr, ans_gt_list)])\n",
        "em = metric[:, 0].mean()\n",
        "f1 = metric[:, 1].mean()\n",
        "\n",
        "print(f'EM = {em}')\n",
        "print(f'F1 = {f1}')\n",
        "\n",
        "# Target result\n",
        "# - EM: 67.97%\n",
        "# - F1: 80.89%\n",
        "\n",
        "print('\\nEvaluating greedy_right_to_left strategy')\n",
        "metric = np.array([one_to_many_metric(x, y, tokenizer) for x, y in zip(ans_pred_list_rtl, ans_gt_list)])\n",
        "em = metric[:, 0].mean()\n",
        "f1 = metric[:, 1].mean()\n",
        "\n",
        "print(f'EM = {em}')\n",
        "print(f'F1 = {f1}')\n",
        "\n",
        "# Target result\n",
        "# - EM: 68.99%\n",
        "# - F1: 81.77%\n",
        "\n",
        "print('\\nEvaluating joint strategy')\n",
        "metric = np.array([one_to_many_metric(x, y, tokenizer) for x, y in zip(ans_pred_list_joint, ans_gt_list)])\n",
        "em = metric[:, 0].mean()\n",
        "f1 = metric[:, 1].mean()\n",
        "\n",
        "print(f'EM = {em}')\n",
        "print(f'F1 = {f1}')"
      ],
      "execution_count": null,
      "outputs": []
    }
  ]
}